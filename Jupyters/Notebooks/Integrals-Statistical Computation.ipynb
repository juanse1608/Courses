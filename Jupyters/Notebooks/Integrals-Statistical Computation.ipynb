{
 "cells": [
  {
   "cell_type": "markdown",
   "metadata": {},
   "source": [
    "# Integrals - Homework\n",
    "\n",
    "__Métodos Intensivos de Computación Estadística__\n",
    "\n",
    "Juan Sebastián Corredor Rodriguez - jucorredorr@unal.edu.co\n",
    "\n",
    "See my [Github Account](https://github.com/juanse1608) to know more about me and my projects."
   ]
  },
  {
   "cell_type": "markdown",
   "metadata": {},
   "source": [
    "In each case solve the integral analytically and compare it with the results obtained from doing Monte Carlo and Quasi - Monte Carlo methods."
   ]
  },
  {
   "cell_type": "code",
   "execution_count": 21,
   "metadata": {},
   "outputs": [],
   "source": [
    "#Loading the required libraries\n",
    "import numpy as np\n",
    "import scipy as sc\n",
    "import simpy as sp\n",
    "import math\n",
    "import random"
   ]
  },
  {
   "cell_type": "markdown",
   "metadata": {},
   "source": [
    "Solve the following integral for $s=10,15,20,30$:\n",
    "\\begin{align*}\n",
    "\\int_{[0,1]^{s}} \\text{exp} \\left[ \\prod_{i=1}^{s} x_i \\right] dx_s\\ldots dx_1\n",
    "\\end{align*}"
   ]
  },
  {
   "cell_type": "code",
   "execution_count": 22,
   "metadata": {},
   "outputs": [
    {
     "data": {
      "text/plain": [
       "(10000, 10)"
      ]
     },
     "execution_count": 22,
     "metadata": {},
     "output_type": "execute_result"
    }
   ],
   "source": [
    "#Computation of Monte Carlo\n",
    "\n",
    "#The parameter s determines the dimension of the data\n",
    "s = 10\n",
    "sample_size = 10000\n",
    "\n",
    "#Generate the samples in [0,1]^s\n",
    "samples = np.random.uniform(0, 1, (sample_size, s))\n",
    "samples.shape"
   ]
  },
  {
   "cell_type": "code",
   "execution_count": null,
   "metadata": {},
   "outputs": [],
   "source": [
    "#"
   ]
  }
 ],
 "metadata": {
  "kernelspec": {
   "display_name": "Python 3",
   "language": "python",
   "name": "python3"
  },
  "language_info": {
   "codemirror_mode": {
    "name": "ipython",
    "version": 3
   },
   "file_extension": ".py",
   "mimetype": "text/x-python",
   "name": "python",
   "nbconvert_exporter": "python",
   "pygments_lexer": "ipython3",
   "version": "3.7.3"
  },
  "toc": {
   "base_numbering": 1,
   "nav_menu": {},
   "number_sections": true,
   "sideBar": true,
   "skip_h1_title": false,
   "title_cell": "Table of Contents",
   "title_sidebar": "Contents",
   "toc_cell": false,
   "toc_position": {},
   "toc_section_display": true,
   "toc_window_display": false
  }
 },
 "nbformat": 4,
 "nbformat_minor": 2
}
