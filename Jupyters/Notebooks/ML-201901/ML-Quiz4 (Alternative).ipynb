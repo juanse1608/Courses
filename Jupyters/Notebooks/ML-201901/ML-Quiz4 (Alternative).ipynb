{
 "cells": [
  {
   "cell_type": "markdown",
   "metadata": {},
   "source": [
    "\n",
    "# Quiz 4 (Alternative Task) - Machine Learning 2019-1\n",
    "\n",
    "[Juan Sebastián Corredor Rodriguez](https://github.com/juanse1608) - jucorredor@unal.edu.co\n",
    "\n",
    "This is an alternative of Quiz 4 made by me."
   ]
  },
  {
   "cell_type": "code",
   "execution_count": 9,
   "metadata": {},
   "outputs": [],
   "source": [
    "import numpy as np\n",
    "import pylab as pl\n",
    "%matplotlib inline"
   ]
  },
  {
   "cell_type": "markdown",
   "metadata": {},
   "source": [
    "## 1st Question (2.0)\n",
    "The following code implements a feed-forward neural network:"
   ]
  },
  {
   "cell_type": "code",
   "execution_count": 4,
   "metadata": {},
   "outputs": [],
   "source": [
    "def sigmoid(x):\n",
    "    return 1.0/(1.0 + np.exp(-x))\n",
    "\n",
    "def relu(x):\n",
    "    return max(0, x)\n",
    "\n",
    "def predict(w, x):\n",
    "    z = np.zeros((3,))\n",
    "    z[0] = relu(np.dot(x, w[3:5]) + w[0])\n",
    "    z[1] = relu(z[0]*w[5] + x[1]*w[6] + w[1])\n",
    "    z[2] = sigmoid(x[0]*w[7] + z[1]*w[8] + w[2])\n",
    "    return z[2]\n",
    "def predict_for_me(w, x):\n",
    "    z = np.zeros((3,))\n",
    "    z[0] = relu(np.dot(x, w[3:5]) + w[0])\n",
    "    z[1] = relu(z[0]*w[5] + x[1]*w[6] + w[1])\n",
    "    z[2] = sigmoid(x[0]*w[7] + z[1]*w[8] + w[2])\n",
    "    return z\n",
    "def predict_for_me_2(w, x):\n",
    "    z = np.zeros((3,))\n",
    "    z[0] = relu(np.dot(x, w[3:5]) + w[0])\n",
    "    z[1] = relu(z[0]*w[5] + x[1]*w[6] + w[1])\n",
    "    z[2] = x[0]*w[7] + z[1]*w[8] + w[2]\n",
    "    return z"
   ]
  },
  {
   "cell_type": "markdown",
   "metadata": {},
   "source": [
    "Find a weight vector such that the neural network calculates the function such that\n",
    "\n",
    "| x | y | f |\n",
    "| - | - | - |\n",
    "| 0 | 0 | 1 |\n",
    "| 0 | 1 | 0 |\n",
    "| 1 | 0 | 0 |\n",
    "| 1 | 1 | 1 |\n",
    "\n",
    "Use the following variable to put the weight vector:"
   ]
  },
  {
   "cell_type": "code",
   "execution_count": 5,
   "metadata": {},
   "outputs": [
    {
     "name": "stdout",
     "output_type": "stream",
     "text": [
      "0.9999999979388463\n",
      "1.8048513878454153e-35\n",
      "1.928749847963918e-22\n",
      "0.9999546021312976\n"
     ]
    }
   ],
   "source": [
    "W1 = np.array([-3,0.5,-0.8*100,2,2,1,-0.7,-0.7*100,2*100])\n",
    "print(predict(W1, [0,0]))\n",
    "print(predict(W1, [0,1]))\n",
    "print(predict(W1, [1,0]))\n",
    "print(predict(W1, [1,1]))"
   ]
  },
  {
   "cell_type": "markdown",
   "metadata": {},
   "source": [
    "## 2nd Question (3.0)\n",
    "\n",
    "Assuming the following loss function:"
   ]
  },
  {
   "cell_type": "code",
   "execution_count": 6,
   "metadata": {},
   "outputs": [],
   "source": [
    "def loss(w, x, y):\n",
    "    return (y - predict(w, x))**2/2."
   ]
  },
  {
   "cell_type": "markdown",
   "metadata": {},
   "source": [
    "Write a function that uses backpropagation to calculate:\n",
    "    \n",
    "$$\\frac{\\partial E(w, x, y)}{\\partial w_6\n",
    "}$$\n",
    "\n",
    "Where $E$ is the loss function defined before. Explicitely write the expressions that you derive:\n",
    "\n",
    "$$\\delta_1 = \\frac{\\partial E}{\\partial a_2} = (y-\\hat{y}) \\cdot \\sigma'(a_2) $$\n",
    "\n",
    "$$\\delta_2 = \\frac{\\partial E}{\\partial a_1} =  \\frac{\\partial E}{\\partial z_1} =\\frac{\\partial E}{\\partial a_2} \\cdot \\frac{\\partial a_2}{\\partial z_1} = (y-\\hat{y}) \\cdot \\sigma'(a_2) \\cdot w_8 $$\n",
    "\n",
    "$$\\frac{\\partial E(w, x, y)}{\\partial w_5} = \\delta_2 \\cdot \\frac{\\partial z_1}{\\partial w_5} = \\delta_2 \\cdot x_1=  (y-\\hat{y}) \\cdot \\sigma'(a_2) \\cdot w_8x_1$$\n",
    "where \n",
    "$$a_2 = x_0w_7 + z_1w_8 + w_2 = z_2$$"
   ]
  },
  {
   "cell_type": "code",
   "execution_count": 7,
   "metadata": {},
   "outputs": [],
   "source": [
    "#Apoyo\n",
    "def der_sig(x):\n",
    "    return np.exp(-x)/((1.0 + np.exp(-x))**2)"
   ]
  },
  {
   "cell_type": "code",
   "execution_count": 8,
   "metadata": {},
   "outputs": [],
   "source": [
    "def dE_dw6(w, x, y):\n",
    "    # your code here\n",
    "    if predict_for_me_2(w,x)[1] == 0:\n",
    "        return 0\n",
    "    else:\n",
    "        p1 = y-predict(w,x)\n",
    "        p2 = w[8]*x[1]\n",
    "        p3 = -der_sig(predict_for_me_2(w,x)[2])\n",
    "        p = p1*p2*p3\n",
    "        return p"
   ]
  },
  {
   "cell_type": "markdown",
   "metadata": {},
   "source": [
    "# Grader\n",
    "Run the following code to grade your exam"
   ]
  },
  {
   "cell_type": "code",
   "execution_count": 9,
   "metadata": {},
   "outputs": [
    {
     "name": "stdout",
     "output_type": "stream",
     "text": [
      "Score:  50 / 50\n"
     ]
    }
   ],
   "source": [
    "def approx_equal(val1, val2):\n",
    "    return abs(val1-val2) <= 0.00001\n",
    "\n",
    "def test_dict(test, answer):\n",
    "    if sorted(test.keys()) != sorted(answer.keys()): return False\n",
    "    for k,v in test.items():\n",
    "        if not approx_equal(v,answer[k]):\n",
    "            return False\n",
    "    return True\n",
    "\n",
    "def test1():\n",
    "    epsilon = 0.001\n",
    "    X = [[0, 0],\n",
    "     [0, 1],\n",
    "     [1, 0],\n",
    "     [1, 1]]\n",
    "    Y = [1, 0, 0, 1]\n",
    "    for i, x in enumerate(X):\n",
    "        if np.abs(predict(W1, x) - Y[i]) > epsilon: \n",
    "            return False\n",
    "    return True\n",
    "\n",
    "def num_dE_dw6(w, x, y, epsilon):\n",
    "    delta = np.zeros(len(w))\n",
    "    delta[6] = epsilon\n",
    "    de = (loss(w + delta, x, y) - loss(w - delta, x, y)) / (2 * epsilon)\n",
    "    return de\n",
    "\n",
    "def test2():\n",
    "    num_tests = 100\n",
    "    epsilon = 0.0001\n",
    "    for i in range(num_tests):\n",
    "        tw = np.random.randn(9)\n",
    "        tx = np.random.randn(2)\n",
    "        ty = np.random.randn(1)\n",
    "        if np.linalg.norm(dE_dw6(tw, tx,ty) - num_dE_dw6(tw, tx, ty, epsilon)) > epsilon:\n",
    "            return False\n",
    "    return True\n",
    "\n",
    "\n",
    "def evaluate():\n",
    "    score = 0 \n",
    "    for test, sc in [(test1, 20), (test2, 30)]:\n",
    "        if test():\n",
    "            score += sc\n",
    "    return score\n",
    "\n",
    "print(\"Score: \", evaluate(), \"/ 50\")"
   ]
  }
 ],
 "metadata": {
  "kernelspec": {
   "display_name": "Python 3",
   "language": "python",
   "name": "python3"
  },
  "language_info": {
   "codemirror_mode": {
    "name": "ipython",
    "version": 3
   },
   "file_extension": ".py",
   "mimetype": "text/x-python",
   "name": "python",
   "nbconvert_exporter": "python",
   "pygments_lexer": "ipython3",
   "version": "3.6.8"
  },
  "latex_envs": {
   "LaTeX_envs_menu_present": true,
   "autoclose": false,
   "autocomplete": true,
   "bibliofile": "biblio.bib",
   "cite_by": "apalike",
   "current_citInitial": 1,
   "eqLabelWithNumbers": true,
   "eqNumInitial": 1,
   "hotkeys": {
    "equation": "Ctrl-E",
    "itemize": "Ctrl-I"
   },
   "labels_anchors": false,
   "latex_user_defs": false,
   "report_style_numbering": false,
   "user_envs_cfg": false
  },
  "toc": {
   "base_numbering": 1,
   "nav_menu": {},
   "number_sections": true,
   "sideBar": true,
   "skip_h1_title": false,
   "title_cell": "Table of Contents",
   "title_sidebar": "Contents",
   "toc_cell": false,
   "toc_position": {},
   "toc_section_display": true,
   "toc_window_display": true
  },
  "varInspector": {
   "cols": {
    "lenName": 16,
    "lenType": 16,
    "lenVar": 40
   },
   "kernels_config": {
    "python": {
     "delete_cmd_postfix": "",
     "delete_cmd_prefix": "del ",
     "library": "var_list.py",
     "varRefreshCmd": "print(var_dic_list())"
    },
    "r": {
     "delete_cmd_postfix": ") ",
     "delete_cmd_prefix": "rm(",
     "library": "var_list.r",
     "varRefreshCmd": "cat(var_dic_list()) "
    }
   },
   "types_to_exclude": [
    "module",
    "function",
    "builtin_function_or_method",
    "instance",
    "_Feature"
   ],
   "window_display": false
  }
 },
 "nbformat": 4,
 "nbformat_minor": 1
}
