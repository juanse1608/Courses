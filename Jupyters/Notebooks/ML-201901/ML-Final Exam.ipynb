{
 "cells": [
  {
   "cell_type": "markdown",
   "metadata": {},
   "source": [
    "# Final Exam - Machine Learning 2019-1\n",
    "Keep saving your notebook to guarantee that you don't lose your work. Whenever the end of the exam is announced save the current version. \n",
    "\n",
    "---"
   ]
  },
  {
   "cell_type": "code",
   "execution_count": 1,
   "metadata": {},
   "outputs": [],
   "source": [
    "import numpy as np\n",
    "import pylab as pl\n",
    "\n",
    "%matplotlib inline"
   ]
  },
  {
   "cell_type": "markdown",
   "metadata": {},
   "source": [
    "## First Question (1.0)\n",
    "\n",
    "Consider the following kernel regression model:\n",
    "\n",
    "$$ f_w(x) = w\\phi(x) + w_0$$\n",
    "\n",
    "where \n",
    "\n",
    "$$ w=\\sum_{x_{i}\\in X}\\alpha_{i}\\phi(x_{i}) $$\n",
    "\n",
    "and $\\phi()$ is the feature map associated to a kernel $k(\\_,\\_)$\n",
    "\n",
    "Also consider the following loss function:\n",
    "\n",
    "$$E(w, x, y) = | y -  f_w(x))|$$\n",
    "\n",
    "Implement this model modifying the following functions:"
   ]
  },
  {
   "cell_type": "code",
   "execution_count": 2,
   "metadata": {},
   "outputs": [],
   "source": [
    "def predict(alpha, X, kernel, x):\n",
    "    '''\n",
    "     alpha:  vector of shape (n,) where n is the number of samples\n",
    "     X:      matrix of shape (n, 2) \n",
    "     kernel: a kernel function\n",
    "     x:      vector of shape (2,)\n",
    "    \n",
    "    returns:\n",
    "     the result of evaluating f_w(x)\n",
    "    '''\n",
    "    result = 0\n",
    "    for i in range(len(X)):\n",
    "        result += alpha[i]*kernel(X[i],x)\n",
    "    # your code here\n",
    "    #print(result)\n",
    "    return result\n",
    "\n",
    "def loss(alpha, X, kernel, x, y):\n",
    "    '''\n",
    "     alpha:  vector of shape (n,) where n is the number of samples\n",
    "     X:      matrix of shape (n, 2), training input samples\n",
    "     kernel: a kernel function\n",
    "     x:      vector of shape (2,), input sample \n",
    "     y:      scalar, target output sample\n",
    "    returns:\n",
    "     the result of evaluating the loss function for a sample (x, y)\n",
    "    '''\n",
    "    # your code here\n",
    "    perdida = np.abs(y-predict(alpha, X, kernel, x))\n",
    "    #print(perdida)\n",
    "    return perdida\n",
    "\n",
    "def loss_without_abs(alpha, X, kernel, x, y):\n",
    "    '''\n",
    "     alpha:  vector of shape (n,) where n is the number of samples\n",
    "     X:      matrix of shape (n, 2), training input samples\n",
    "     kernel: a kernel function\n",
    "     x:      vector of shape (2,), input sample \n",
    "     y:      scalar, target output sample\n",
    "    returns:\n",
    "     the result of evaluating the loss function for a sample (x, y)\n",
    "    '''\n",
    "    # your code here\n",
    "    perdida = (y-predict(alpha, X, kernel, x))\n",
    "    #print(perdida)\n",
    "    return perdida\n"
   ]
  },
  {
   "cell_type": "markdown",
   "metadata": {},
   "source": [
    "## Second Question (2.0)\n",
    "\n",
    "Write an expression to calculate the gradient of the loss with respect to the alpha parameter:\n",
    "\n",
    "$$ \\frac{\\partial E(w, x, y)}{\\partial \\alpha}= $$\n",
    "\n",
    "Write a function that calculates the gradient:"
   ]
  },
  {
   "cell_type": "code",
   "execution_count": 3,
   "metadata": {},
   "outputs": [],
   "source": [
    "def de_dalpha(alpha, X, kernel, x, y):\n",
    "    '''\n",
    "     alpha:  vector of shape (n,) where n is the number of samples\n",
    "     X:      matrix of shape (n, 2), training input samples\n",
    "     kernel: a kernel function\n",
    "     x:      vector of shape (2,), input sample \n",
    "     y:      scalar, target output sample\n",
    "    returns:\n",
    "     a vector of shape (n, ) where the position i corresponds to dE(x)/d\\alpha_i\n",
    "    '''\n",
    "    de = []\n",
    "    for i in range(len(X)):\n",
    "        if loss_without_abs(alpha, X, kernel, x, y) > 0:\n",
    "            de = np.append(de, (kernel(X[i], x))*-1)\n",
    "        else:\n",
    "            de = np.append(de, (kernel(X[i], x))*1)\n",
    "    # your code here\n",
    "    #print('Bien')\n",
    "    return de"
   ]
  },
  {
   "cell_type": "markdown",
   "metadata": {},
   "source": [
    "## Third Question (2.0)\n",
    "\n",
    "Implement batch gradient descent to train the model."
   ]
  },
  {
   "cell_type": "code",
   "execution_count": 4,
   "metadata": {},
   "outputs": [],
   "source": [
    "\n",
    "def loss_vectorized(alpha, X, kernel, Y):\n",
    "    perdida_vector = 0\n",
    "    for i in range(len(Y)):\n",
    "        perdida_vector += loss(alpha, X, kernel, X[i], Y[i])\n",
    "        \n",
    "    perdida_vector = perdida_vector\n",
    "    #pint(perdida_vector)\n",
    "    return perdida_vector\n",
    "\n",
    "\n",
    "def de_dalpha_vectorized(alpha, X, kernel, Y):\n",
    "    derivada_vector = 0\n",
    "    for i in range(len(Y)):\n",
    "        derivada_vector += de_dalpha(alpha, X, kernel, X[i], Y[i])\n",
    "        \n",
    "    derivada_vector = derivada_vector\n",
    "    #nt(derivada_vector)\n",
    "    return derivada_vector\n",
    "\n",
    "\n",
    "\n",
    "\n",
    "def train(X, Y, epochs, eta, alpha_ini, kernel):\n",
    "    '''\n",
    "     X:      matrix of shape (n, 2), training input samples\n",
    "     Y:      vector of shape (n, ), training output samples\n",
    "     epochs: number of epochs\n",
    "     eta:    learning rate\n",
    "     alpha_ini:  vector of shape (n,), initial values of alpha\n",
    "     kernel: a kernel function\n",
    "    returns:\n",
    "     a tuple (alpha, losses) where:\n",
    "       alpha: vector of shape (n, ) with resulting alpha values\n",
    "       losses: a vector of shape (epochs, ) with the loss values for each epoch\n",
    "    '''\n",
    "    \n",
    "    alpha = alpha_ini\n",
    "    \n",
    "    losses = loss_vectorized(alpha, X, kernel, Y)\n",
    "    \n",
    "    for i in range(epochs-1):\n",
    "         alpha -= eta*de_dalpha_vectorized(alpha, X, kernel,Y)\n",
    "         losses = np.append(losses, loss_vectorized(alpha, X, kernel, Y))   \n",
    "            \n",
    "    # your code here\n",
    "    \n",
    "    #pint(len(losses))\n",
    "    return alpha, losses"
   ]
  },
  {
   "cell_type": "code",
   "execution_count": 5,
   "metadata": {},
   "outputs": [
    {
     "name": "stdout",
     "output_type": "stream",
     "text": [
      "[ 0.05908375  0.00458     0.0156145  -0.015633  ]\n",
      "0.9583326249998905\n",
      "0.9756049999999603\n",
      "0.9428500624999478\n",
      "-1.0678212500003257\n"
     ]
    },
    {
     "data": {
      "image/png": "[encoded data removed]",
      "text/plain": [
       "<Figure size 432x288 with 1 Axes>"
      ]
     },
     "metadata": {
      "needs_background": "light"
     },
     "output_type": "display_data"
    }
   ],
   "source": [
    "def k1(x, y):\n",
    "    return np.dot(x, y)\n",
    "\n",
    "def k2(x, y):\n",
    "    return (np.dot(x, y) + 1) ** 2\n",
    "\n",
    "X = [[-2, -1],\n",
    "     [-1, 3],\n",
    "     [2.5, -1.5],\n",
    "     [4, 2]]\n",
    "Y = [1, 1, 1, -1]\n",
    "alpha, losses = train(X, Y, 2000, 0.000001, [0.1, 0.0, -0.1, 0.0], k2)\n",
    "pl.plot(losses)\n",
    "print(alpha)\n",
    "for x in X:\n",
    "    print(predict(alpha, X, k2, x))"
   ]
  },
  {
   "cell_type": "markdown",
   "metadata": {},
   "source": [
    "# Grader\n",
    "Run the following code to grade your exam"
   ]
  },
  {
   "cell_type": "code",
   "execution_count": 6,
   "metadata": {},
   "outputs": [
    {
     "name": "stdout",
     "output_type": "stream",
     "text": [
      "Score:  50 / 50\n"
     ]
    }
   ],
   "source": [
    "# Grader\n",
    "\n",
    "def k1(x, y):\n",
    "    return np.dot(x, y)\n",
    "\n",
    "def k2(x, y):\n",
    "    return (np.dot(x, y) + 1) ** 2\n",
    "\n",
    "def test1():\n",
    "    X = [[-2, -1],\n",
    "         [-1, 3],\n",
    "         [2.5, -1.5],\n",
    "         [4, 2]]\n",
    "    Y = [-1, 1, 1, -1]\n",
    "    epsilon = 0.0001\n",
    "    test1 = [1.85 , 6.6 , 7.7 , 0.7]\n",
    "    test2 = [40.175 , 32.1 , 9.4 , 145.4]\n",
    "    alpha = [0.5, 0.4, -0.5, 0.3]\n",
    "    for i, x_i in enumerate(X):\n",
    "        if abs(loss(alpha, X, k1, x_i, Y[i]) - test1[i]) > epsilon:\n",
    "            return False\n",
    "    for i, x_i in enumerate(X):\n",
    "        if abs(loss(alpha, X, k2, x_i, Y[i]) - test2[i]) > epsilon:\n",
    "            return False\n",
    "    return True\n",
    "\n",
    "def num_de_dalpha(alpha, X, kernel, x, y, epsilon):\n",
    "    deltas = np.identity(len(alpha)) * epsilon\n",
    "    de = np.zeros(len(alpha))\n",
    "    for i in range(len(alpha)):\n",
    "        de[i] = (loss(alpha + deltas[i, :], X, kernel, x, y) - \n",
    "                 loss(alpha - deltas[i, :], X, kernel, x, y)) / (2 * epsilon)\n",
    "    return de\n",
    "\n",
    "def test_de_dalpha(kernel):\n",
    "    if not test1():\n",
    "        return False\n",
    "    num_tests = 100\n",
    "    epsilon = 0.0001\n",
    "    X = [[-2, -1],\n",
    "         [-1, 3],\n",
    "         [2.5, -1.5],\n",
    "         [4, 2]]\n",
    "    for i in range(num_tests):\n",
    "        talpha = np.random.randn(len(X))\n",
    "        tx = np.random.randn(2)\n",
    "        ty = np.random.randn(1)\n",
    "        if np.linalg.norm(de_dalpha(talpha, X, kernel, tx, ty) - \n",
    "                          num_de_dalpha(talpha, X, kernel, tx, ty, epsilon)) > epsilon:\n",
    "            return False\n",
    "    return True\n",
    "\n",
    "def test2():\n",
    "    return test_de_dalpha(k1) and test_de_dalpha(k2)\n",
    "\n",
    "def evaluate_loss(alpha, X, kernel, X_test, Y_test):\n",
    "    result = 0\n",
    "    for i, x in enumerate(X_test):\n",
    "        result += loss(alpha, X, kernel, x, Y_test[i])\n",
    "    return result\n",
    "\n",
    "def test3():\n",
    "    if not test1():\n",
    "        return False\n",
    "    X = [[-2, -1],\n",
    "         [-1, 3],\n",
    "         [2.5, -1.5],\n",
    "         [4, 2]]\n",
    "    Y = [1, 1, 1, -1]\n",
    "    alpha, losses = train(X, Y, 2000, 0.000001, [0.1, 0.0, -0.1, 0.0], k2)\n",
    "    loss = evaluate_loss(alpha, X, k2, X, Y)\n",
    "    if loss != losses[-1]:\n",
    "        return False\n",
    "    if loss < 5.0:\n",
    "        return True\n",
    "    else:\n",
    "        return False\n",
    "    alpha, losses = train(X, Y, 300, 0.001, [1, -2, 3, 0.0], k1)\n",
    "    loss = evaluate_loss(alpha, X, k1, X, Y)\n",
    "    if loss != losses[-1]:\n",
    "        return False\n",
    "    if loss < 5.0:\n",
    "        return True\n",
    "    else:\n",
    "        return False\n",
    "\n",
    "\n",
    "def evaluation():\n",
    "    score = 0 \n",
    "    for test, sc in [(test1, 10), (test2, 20), (test3, 20)]:\n",
    "        if test():\n",
    "            score += sc\n",
    "    return score\n",
    "\n",
    "print(\"Score: \", evaluation(), \"/ 50\")"
   ]
  },
  {
   "cell_type": "code",
   "execution_count": null,
   "metadata": {},
   "outputs": [],
   "source": []
  }
 ],
 "metadata": {
  "kernelspec": {
   "display_name": "Python 3",
   "language": "python",
   "name": "python3"
  },
  "language_info": {
   "codemirror_mode": {
    "name": "ipython",
    "version": 3
   },
   "file_extension": ".py",
   "mimetype": "text/x-python",
   "name": "python",
   "nbconvert_exporter": "python",
   "pygments_lexer": "ipython3",
   "version": "3.6.8"
  },
  "latex_envs": {
   "LaTeX_envs_menu_present": true,
   "autoclose": false,
   "autocomplete": true,
   "bibliofile": "biblio.bib",
   "cite_by": "apalike",
   "current_citInitial": 1,
   "eqLabelWithNumbers": true,
   "eqNumInitial": 1,
   "hotkeys": {
    "equation": "Ctrl-E",
    "itemize": "Ctrl-I"
   },
   "labels_anchors": false,
   "latex_user_defs": false,
   "report_style_numbering": false,
   "user_envs_cfg": false
  },
  "toc": {
   "base_numbering": 1,
   "nav_menu": {},
   "number_sections": true,
   "sideBar": true,
   "skip_h1_title": false,
   "title_cell": "Table of Contents",
   "title_sidebar": "Contents",
   "toc_cell": false,
   "toc_position": {},
   "toc_section_display": true,
   "toc_window_display": true
  },
  "varInspector": {
   "cols": {
    "lenName": 16,
    "lenType": 16,
    "lenVar": 40
   },
   "kernels_config": {
    "python": {
     "delete_cmd_postfix": "",
     "delete_cmd_prefix": "del ",
     "library": "var_list.py",
     "varRefreshCmd": "print(var_dic_list())"
    },
    "r": {
     "delete_cmd_postfix": ") ",
     "delete_cmd_prefix": "rm(",
     "library": "var_list.r",
     "varRefreshCmd": "cat(var_dic_list()) "
    }
   },
   "types_to_exclude": [
    "module",
    "function",
    "builtin_function_or_method",
    "instance",
    "_Feature"
   ],
   "window_display": false
  }
 },
 "nbformat": 4,
 "nbformat_minor": 1
}
