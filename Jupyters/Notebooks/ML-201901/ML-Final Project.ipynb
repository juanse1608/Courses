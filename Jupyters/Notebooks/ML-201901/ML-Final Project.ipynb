{
 "cells": [
  {
   "cell_type": "markdown",
   "metadata": {},
   "source": [
    "# Machine Learning - Final Project\n",
    "\n",
    "__[Juan Sebastián Corredor Rodriguez](https://github.com/juanse1608)__ - jucorredorr@unal.edu.co\n",
    "\n",
    "Collaborators: Valentina Cobo Paz, Adrián Rodriguez, Sebastían Amezquita and Alejandro Montaña "
   ]
  },
  {
   "cell_type": "code",
   "execution_count": 1,
   "metadata": {},
   "outputs": [],
   "source": [
    "#Loading the required libraries\n",
    "import pickle\n",
    "import pandas as pd\n",
    "import numpy as np\n",
    "import scipy as sc"
   ]
  },
  {
   "cell_type": "code",
   "execution_count": 2,
   "metadata": {},
   "outputs": [
    {
     "name": "stdout",
     "output_type": "stream",
     "text": [
      "/Users/JuanSebastianCorredorRodriguez/Documents/Git Repositories/Jupyters-2019/Jupyters/Datasets\n"
     ]
    }
   ],
   "source": [
    "#Set working directory in Datasets \n",
    "%cd ../../Datasets/"
   ]
  },
  {
   "cell_type": "code",
   "execution_count": 3,
   "metadata": {},
   "outputs": [],
   "source": [
    "#Importing file with the sequences\n",
    "read_file = open(\"Sequences\",\"rb\")\n",
    "new_families,new_seqs,new_type_seq = pickle.load(read_file)"
   ]
  },
  {
   "cell_type": "code",
   "execution_count": 4,
   "metadata": {},
   "outputs": [],
   "source": [
    "#Creating a dataframe with pandas\n",
    "data = {\"Families\":new_families,\"Sequence\":new_seqs,\"Type sequence\":new_type_seq}\n",
    "df = pd.DataFrame(data=data)"
   ]
  },
  {
   "cell_type": "code",
   "execution_count": 7,
   "metadata": {},
   "outputs": [
    {
     "name": "stdout",
     "output_type": "stream",
     "text": [
      "       Families                                           Sequence  \\\n",
      "0  Retroviridae  GACCTGAAAGCGAAAGTAAAACCAGAGGAGCTCTCTCGGCGCAGGA...   \n",
      "1  Retroviridae  AACGTGTCGTGCCCCCAAAACATAACGTAAACGTGGAAGCGGAGAG...   \n",
      "2  Retroviridae  TGGTCTGCGAACAGACTCTGGGAACTAGAGAGCCCTCATGTAAAAC...   \n",
      "3  Retroviridae  GACCTGAAAGCGAAAGTAAAACCAGAGGAGCTCTCTCGGCGCAGGA...   \n",
      "4  Retroviridae  GGACCTGAAAGCGAAAGTAAAACCTTTTGACTAGCGGAGGCTAGAA...   \n",
      "\n",
      "  Type sequence  \n",
      "0           DNA  \n",
      "1           DNA  \n",
      "2           DNA  \n",
      "3           DNA  \n",
      "4           DNA  \n"
     ]
    }
   ],
   "source": [
    "#See the composition of the data\n",
    "print(df.head(n=5))"
   ]
  },
  {
   "cell_type": "code",
   "execution_count": null,
   "metadata": {},
   "outputs": [],
   "source": []
  }
 ],
 "metadata": {
  "kernelspec": {
   "display_name": "Python 3",
   "language": "python",
   "name": "python3"
  },
  "language_info": {
   "codemirror_mode": {
    "name": "ipython",
    "version": 3
   },
   "file_extension": ".py",
   "mimetype": "text/x-python",
   "name": "python",
   "nbconvert_exporter": "python",
   "pygments_lexer": "ipython3",
   "version": "3.6.8"
  },
  "latex_envs": {
   "LaTeX_envs_menu_present": true,
   "autoclose": false,
   "autocomplete": true,
   "bibliofile": "biblio.bib",
   "cite_by": "apalike",
   "current_citInitial": 1,
   "eqLabelWithNumbers": true,
   "eqNumInitial": 1,
   "hotkeys": {
    "equation": "Ctrl-E",
    "itemize": "Ctrl-I"
   },
   "labels_anchors": false,
   "latex_user_defs": false,
   "report_style_numbering": false,
   "user_envs_cfg": false
  },
  "toc": {
   "base_numbering": 1,
   "nav_menu": {},
   "number_sections": true,
   "sideBar": true,
   "skip_h1_title": false,
   "title_cell": "Table of Contents",
   "title_sidebar": "Contents",
   "toc_cell": false,
   "toc_position": {
    "height": "calc(100% - 180px)",
    "left": "10px",
    "top": "150px",
    "width": "239px"
   },
   "toc_section_display": true,
   "toc_window_display": true
  }
 },
 "nbformat": 4,
 "nbformat_minor": 2
}
