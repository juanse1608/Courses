{
 "cells": [
  {
   "cell_type": "markdown",
   "metadata": {},
   "source": [
    "# Machine Learning - Final Project\n",
    "\n",
    "__[Juan Sebastián Corredor Rodriguez](https://github.com/juanse1608)__ - jucorredorr@unal.edu.co\n",
    "\n",
    "Collaborators: Valentina Cobo Paz, Adrián Rodriguez, Sebastían Amezquita and Alejandro Montaña "
   ]
  },
  {
   "cell_type": "code",
   "execution_count": 1,
   "metadata": {},
   "outputs": [],
   "source": [
    "#Loading the required libraries\n",
    "import pickle\n",
    "import pandas as pd\n",
    "import numpy as np\n",
    "import scipy as sc"
   ]
  },
  {
   "cell_type": "code",
   "execution_count": 8,
   "metadata": {},
   "outputs": [
    {
     "name": "stdout",
     "output_type": "stream",
     "text": [
      "/Users/JuanSebastianCorredorRodriguez/Documents/Git Repositories/Datasets\n"
     ]
    }
   ],
   "source": [
    "#Set working directory in Datasets \n",
    "%cd /Users/JuanSebastianCorredorRodriguez/Documents/Git\\ Repositories/Datasets"
   ]
  },
  {
   "cell_type": "code",
   "execution_count": 9,
   "metadata": {},
   "outputs": [],
   "source": [
    "#Importing file with the sequences\n",
    "read_file = open(\"Sequences\",\"rb\")\n",
    "new_families,new_seqs,new_type_seq = pickle.load(read_file)"
   ]
  },
  {
   "cell_type": "code",
   "execution_count": 31,
   "metadata": {},
   "outputs": [],
   "source": [
    "#Creating a dataframe with pandas\n",
    "data = {\"Family\":new_families,\"Sequence\":new_seqs,\"Type Sequence\":new_type_seq}\n",
    "df = pd.DataFrame(data=data)"
   ]
  },
  {
   "cell_type": "code",
   "execution_count": 32,
   "metadata": {},
   "outputs": [
    {
     "name": "stdout",
     "output_type": "stream",
     "text": [
      "         Family                                           Sequence  \\\n",
      "0  Retroviridae  GACCTGAAAGCGAAAGTAAAACCAGAGGAGCTCTCTCGGCGCAGGA...   \n",
      "1  Retroviridae  AACGTGTCGTGCCCCCAAAACATAACGTAAACGTGGAAGCGGAGAG...   \n",
      "2  Retroviridae  TGGTCTGCGAACAGACTCTGGGAACTAGAGAGCCCTCATGTAAAAC...   \n",
      "3  Retroviridae  GACCTGAAAGCGAAAGTAAAACCAGAGGAGCTCTCTCGGCGCAGGA...   \n",
      "4  Retroviridae  GGACCTGAAAGCGAAAGTAAAACCTTTTGACTAGCGGAGGCTAGAA...   \n",
      "\n",
      "  Type Sequence  \n",
      "0           DNA  \n",
      "1           DNA  \n",
      "2           DNA  \n",
      "3           DNA  \n",
      "4           DNA  \n"
     ]
    }
   ],
   "source": [
    "#See the composition of the data\n",
    "print(df.head(n=5))"
   ]
  },
  {
   "cell_type": "code",
   "execution_count": 42,
   "metadata": {},
   "outputs": [
    {
     "name": "stdout",
     "output_type": "stream",
     "text": [
      "                  Sequence  Type Sequence\n",
      "Family                                   \n",
      "Retroviridae         20271          20271\n",
      "Orthomyxoviridae     17342          17342\n",
      "Flaviviridae          3932           3932\n",
      "Herpesviridae         1580           1580\n",
      "Paramyxoviridae       1173           1173\n",
      "Caliciviridae         1012           1012\n",
      "Reoviridae             695            695\n",
      "Papillomaviridae       556            556\n",
      "Picornaviridae         488            488\n"
     ]
    }
   ],
   "source": [
    "#Let's see the most frequent families\n",
    "print(df.groupby('Family').count().sort_values('Sequence', ascending=False).head(n=9))"
   ]
  },
  {
   "cell_type": "code",
   "execution_count": 52,
   "metadata": {},
   "outputs": [],
   "source": [
    "df_sorted_by_family = df.groupby('Family').count().sort_values('Sequence', ascending=False)\n",
    "families_top = df_sorted_by_family.index[:9] "
   ]
  },
  {
   "cell_type": "code",
   "execution_count": null,
   "metadata": {},
   "outputs": [],
   "source": []
  },
  {
   "cell_type": "code",
   "execution_count": null,
   "metadata": {},
   "outputs": [],
   "source": []
  }
 ],
 "metadata": {
  "kernelspec": {
   "display_name": "Python 3",
   "language": "python",
   "name": "python3"
  },
  "language_info": {
   "codemirror_mode": {
    "name": "ipython",
    "version": 3
   },
   "file_extension": ".py",
   "mimetype": "text/x-python",
   "name": "python",
   "nbconvert_exporter": "python",
   "pygments_lexer": "ipython3",
   "version": "3.6.8"
  },
  "latex_envs": {
   "LaTeX_envs_menu_present": true,
   "autoclose": false,
   "autocomplete": true,
   "bibliofile": "biblio.bib",
   "cite_by": "apalike",
   "current_citInitial": 1,
   "eqLabelWithNumbers": true,
   "eqNumInitial": 1,
   "hotkeys": {
    "equation": "Ctrl-E",
    "itemize": "Ctrl-I"
   },
   "labels_anchors": false,
   "latex_user_defs": false,
   "report_style_numbering": false,
   "user_envs_cfg": false
  },
  "toc": {
   "base_numbering": 1,
   "nav_menu": {},
   "number_sections": true,
   "sideBar": true,
   "skip_h1_title": false,
   "title_cell": "Table of Contents",
   "title_sidebar": "Contents",
   "toc_cell": false,
   "toc_position": {
    "height": "calc(100% - 180px)",
    "left": "10px",
    "top": "150px",
    "width": "239px"
   },
   "toc_section_display": true,
   "toc_window_display": true
  },
  "varInspector": {
   "cols": {
    "lenName": 16,
    "lenType": 16,
    "lenVar": 40
   },
   "kernels_config": {
    "python": {
     "delete_cmd_postfix": "",
     "delete_cmd_prefix": "del ",
     "library": "var_list.py",
     "varRefreshCmd": "print(var_dic_list())"
    },
    "r": {
     "delete_cmd_postfix": ") ",
     "delete_cmd_prefix": "rm(",
     "library": "var_list.r",
     "varRefreshCmd": "cat(var_dic_list()) "
    }
   },
   "types_to_exclude": [
    "module",
    "function",
    "builtin_function_or_method",
    "instance",
    "_Feature"
   ],
   "window_display": false
  }
 },
 "nbformat": 4,
 "nbformat_minor": 2
}
