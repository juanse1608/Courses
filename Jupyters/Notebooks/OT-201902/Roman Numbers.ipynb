{
 "cells": [
  {
   "cell_type": "code",
   "execution_count": 5,
   "metadata": {
    "ExecuteTime": {
     "end_time": "2019-10-08T16:52:20.123499Z",
     "start_time": "2019-10-08T16:52:20.108528Z"
    }
   },
   "outputs": [],
   "source": [
    "import numpy as np"
   ]
  },
  {
   "cell_type": "code",
   "execution_count": 92,
   "metadata": {
    "ExecuteTime": {
     "end_time": "2019-10-08T18:45:43.110734Z",
     "start_time": "2019-10-08T18:45:43.102315Z"
    }
   },
   "outputs": [],
   "source": [
    "def descomponer_numero(numero, tipo):\n",
    "    if tipo and numero >= 0:\n",
    "        numero_str = np.str(numero)\n",
    "        if len(numero_str) == 1:\n",
    "            return numero\n",
    "        else:\n",
    "            returned_number = int(numero_str[0])\n",
    "            numero_otr = numero_str[1:]\n",
    "            numero_int = int(numero_otr)\n",
    "            return np.append(descomponer_numero(numero_int, tipo), returned_number)\n",
    "    else:\n",
    "        print('Su número no es entero postivo')"
   ]
  },
  {
   "cell_type": "code",
   "execution_count": 93,
   "metadata": {
    "ExecuteTime": {
     "end_time": "2019-10-08T18:45:46.161691Z",
     "start_time": "2019-10-08T18:45:46.151168Z"
    }
   },
   "outputs": [],
   "source": [
    "def numero_romano_un_digito(numero_romano, hierarchy):\n",
    "    if numero_romano == 1:\n",
    "        return hierarchy[0] \n",
    "    elif numero_romano == 2:\n",
    "        return hierarchy[0] + hierarchy[0]\n",
    "    elif numero_romano == 3:\n",
    "        return hierarchy[0] + hierarchy[0] + hierarchy[0]\n",
    "    elif numero_romano == 5:\n",
    "        return hierarchy[1]\n",
    "    elif numero_romano == 6:\n",
    "        return hierarchy[1] + hierarchy[0]\n",
    "    elif numero_romano == 7:\n",
    "        return hierarchy[1] + hierarchy[0] + hierarchy[0]\n",
    "    elif numero_romano == 8:\n",
    "        return hierarchy[1] + hierarchy[0] + hierarchy[0] + hierarchy[0]\n",
    "    elif numero_romano == 9:\n",
    "        return hierarchy[0] + hierarchy[2]\n",
    "    elif numero_romano == 4:\n",
    "        return hierarchy[0] + hierarchy[1]\n",
    "    else:\n",
    "        return ''\n",
    "    return result "
   ]
  },
  {
   "cell_type": "code",
   "execution_count": 96,
   "metadata": {
    "ExecuteTime": {
     "end_time": "2019-10-08T18:46:09.550176Z",
     "start_time": "2019-10-08T18:46:09.540585Z"
    }
   },
   "outputs": [],
   "source": [
    "def numero_romano(numero_romano):\n",
    "    hierarchy = [['I', 'V', 'X'], ['X', 'L', 'C'] , ['C', 'D', 'M'], ['M']]\n",
    "    tipo = (type(numero_romano) == int)\n",
    "    if tipo and numero_romano > 0 and numero_romano < 4000:\n",
    "        descomposition = descomponer_numero(numero=numero_romano, tipo=tipo)\n",
    "        if type(descomposition) == int:\n",
    "            return numero_romano_un_digito(descomposition, hierarchy[0])\n",
    "        else:  \n",
    "            rango = range(len(descomposition))\n",
    "            final_result = ''\n",
    "            for i in rango:\n",
    "                partial_result = numero_romano_un_digito(descomposition[i], hierarchy[i])\n",
    "                final_result = partial_result + final_result\n",
    "            return final_result    \n",
    "    else:\n",
    "        return 'Su número no es entero postivo menor a 4000'"
   ]
  },
  {
   "cell_type": "code",
   "execution_count": 97,
   "metadata": {
    "ExecuteTime": {
     "end_time": "2019-10-08T18:46:13.653179Z",
     "start_time": "2019-10-08T18:46:12.242498Z"
    },
    "scrolled": true
   },
   "outputs": [
    {
     "name": "stdout",
     "output_type": "stream",
     "text": [
      "140 ms ± 0 ns per loop (mean ± std. dev. of 1 run, 10 loops each)\n"
     ]
    }
   ],
   "source": [
    "%%timeit -n10 -r1\n",
    "roman_numbers = []\n",
    "for i in range(1, 4000):\n",
    "    roman_numbers.append(numero_romano(i))"
   ]
  }
 ],
 "metadata": {
  "kernelspec": {
   "display_name": "Python 3",
   "language": "python",
   "name": "python3"
  },
  "language_info": {
   "codemirror_mode": {
    "name": "ipython",
    "version": 3
   },
   "file_extension": ".py",
   "mimetype": "text/x-python",
   "name": "python",
   "nbconvert_exporter": "python",
   "pygments_lexer": "ipython3",
   "version": "3.6.8"
  },
  "latex_envs": {
   "LaTeX_envs_menu_present": true,
   "autoclose": false,
   "autocomplete": true,
   "bibliofile": "biblio.bib",
   "cite_by": "apalike",
   "current_citInitial": 1,
   "eqLabelWithNumbers": true,
   "eqNumInitial": 1,
   "hotkeys": {
    "equation": "Ctrl-E",
    "itemize": "Ctrl-I"
   },
   "labels_anchors": false,
   "latex_user_defs": false,
   "report_style_numbering": false,
   "user_envs_cfg": false
  },
  "toc": {
   "base_numbering": 1,
   "nav_menu": {},
   "number_sections": true,
   "sideBar": true,
   "skip_h1_title": false,
   "title_cell": "Table of Contents",
   "title_sidebar": "Contents",
   "toc_cell": false,
   "toc_position": {},
   "toc_section_display": true,
   "toc_window_display": false
  },
  "varInspector": {
   "cols": {
    "lenName": 16,
    "lenType": 16,
    "lenVar": 40
   },
   "kernels_config": {
    "python": {
     "delete_cmd_postfix": "",
     "delete_cmd_prefix": "del ",
     "library": "var_list.py",
     "varRefreshCmd": "print(var_dic_list())"
    },
    "r": {
     "delete_cmd_postfix": ") ",
     "delete_cmd_prefix": "rm(",
     "library": "var_list.r",
     "varRefreshCmd": "cat(var_dic_list()) "
    }
   },
   "types_to_exclude": [
    "module",
    "function",
    "builtin_function_or_method",
    "instance",
    "_Feature"
   ],
   "window_display": false
  }
 },
 "nbformat": 4,
 "nbformat_minor": 2
}
