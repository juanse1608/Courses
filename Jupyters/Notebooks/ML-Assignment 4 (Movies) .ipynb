{
 "cells": [
  {
   "cell_type": "markdown",
   "metadata": {},
   "source": [
    "# ML - Assignment 4\n",
    "\n",
    "__[Juan Sebastian Corredor Rodriguez](https://github.com/juanse1608) - jucorredorr@unal.edu.co__\n",
    "\n",
    "__Valentina Cobo Paz - vcobop@unal.edu.co__\n",
    "\n",
    "__Yacir Ramirez Acevedo - ya.ramirez1763@gmail.com__"
   ]
  },
  {
   "cell_type": "markdown",
   "metadata": {},
   "source": [
    "## IMBD Movies Classifcation\n",
    "\n"
   ]
  },
  {
   "cell_type": "code",
   "execution_count": 1,
   "metadata": {},
   "outputs": [],
   "source": [
    "import numpy as np\n",
    "import matplotlib.pyplot as plt\n",
    "import seaborn as sns\n",
    "import pandas as pd\n",
    "import scipy as sc\n",
    "import cv2 as cv\n",
    "import json\n",
    "from glob import glob\n",
    "from glob import iglob\n",
    "from sklearn import metrics\n",
    "import itertools"
   ]
  },
  {
   "cell_type": "code",
   "execution_count": 29,
   "metadata": {},
   "outputs": [
    {
     "name": "stdout",
     "output_type": "stream",
     "text": [
      "/Users/danielmartinez/Documents/Universidad/Datasets/MoviesUNAL/mmimdb/dataset\n"
     ]
    }
   ],
   "source": [
    "%cd /Users/danielmartinez/Documents/Universidad/Datasets/MoviesUNAL/mmimdb/dataset"
   ]
  },
  {
   "cell_type": "code",
   "execution_count": 30,
   "metadata": {},
   "outputs": [],
   "source": [
    "movies = []\n",
    "for file_name in glob(\"*.json\"):\n",
    "    with open(file_name) as f:\n",
    "        movies.append(json.load(f)['genres'])"
   ]
  },
  {
   "cell_type": "code",
   "execution_count": 32,
   "metadata": {},
   "outputs": [
    {
     "data": {
      "text/html": [
       "<div>\n",
       "<style scoped>\n",
       "    .dataframe tbody tr th:only-of-type {\n",
       "        vertical-align: middle;\n",
       "    }\n",
       "\n",
       "    .dataframe tbody tr th {\n",
       "        vertical-align: top;\n",
       "    }\n",
       "\n",
       "    .dataframe thead th {\n",
       "        text-align: right;\n",
       "    }\n",
       "</style>\n",
       "<table border=\"1\" class=\"dataframe\">\n",
       "  <thead>\n",
       "    <tr style=\"text-align: right;\">\n",
       "      <th></th>\n",
       "      <th>Genres</th>\n",
       "    </tr>\n",
       "  </thead>\n",
       "  <tbody>\n",
       "    <tr>\n",
       "      <th>0</th>\n",
       "      <td>Documentary</td>\n",
       "    </tr>\n",
       "    <tr>\n",
       "      <th>1</th>\n",
       "      <td>Romance</td>\n",
       "    </tr>\n",
       "    <tr>\n",
       "      <th>2</th>\n",
       "      <td>Adventure</td>\n",
       "    </tr>\n",
       "    <tr>\n",
       "      <th>3</th>\n",
       "      <td>Drama</td>\n",
       "    </tr>\n",
       "    <tr>\n",
       "      <th>4</th>\n",
       "      <td>Thriller</td>\n",
       "    </tr>\n",
       "  </tbody>\n",
       "</table>\n",
       "</div>"
      ],
      "text/plain": [
       "        Genres\n",
       "0  Documentary\n",
       "1      Romance\n",
       "2    Adventure\n",
       "3        Drama\n",
       "4     Thriller"
      ]
     },
     "execution_count": 32,
     "metadata": {},
     "output_type": "execute_result"
    }
   ],
   "source": [
    "movies_flatted = list(itertools.chain(*movies))\n",
    "movies_flatted_pd = pd.DataFrame({\"Genres\": movies_flatted})"
   ]
  },
  {
   "cell_type": "code",
   "execution_count": 33,
   "metadata": {},
   "outputs": [
    {
     "data": {
      "text/plain": [
       "64570"
      ]
     },
     "execution_count": 33,
     "metadata": {},
     "output_type": "execute_result"
    }
   ],
   "source": [
    "len(movies_flatted)"
   ]
  },
  {
   "cell_type": "code",
   "execution_count": 48,
   "metadata": {},
   "outputs": [],
   "source": [
    "one_genre = []\n",
    "for index in range(len(movies)):\n",
    "    if len(movies[index]) == 1:\n",
    "        one_genre.append(movies[index][0])"
   ]
  },
  {
   "cell_type": "code",
   "execution_count": 49,
   "metadata": {},
   "outputs": [],
   "source": [
    "#movies_flatted_pd['Genres'].hist(bins = 20)\n",
    "movies_flatted = list(itertools.chain(*one_genre))\n",
    "movies_flatted_pd = pd.DataFrame({\"Genres\": one_genre})"
   ]
  },
  {
   "cell_type": "code",
   "execution_count": 50,
   "metadata": {},
   "outputs": [
    {
     "data": {
      "text/plain": [
       "Drama          2681\n",
       "Comedy         1336\n",
       "Documentary     902\n",
       "Horror          415\n",
       "Western         173\n",
       "Thriller        143\n",
       "Sci-Fi           56\n",
       "Action           53\n",
       "Short            32\n",
       "Adventure        30\n",
       "Romance          22\n",
       "Mystery          20\n",
       "Family           18\n",
       "Musical          16\n",
       "Fantasy          16\n",
       "Crime             9\n",
       "Music             7\n",
       "War               6\n",
       "Biography         5\n",
       "Animation         4\n",
       "Sport             1\n",
       "History           1\n",
       "Name: Genres, dtype: int64"
      ]
     },
     "execution_count": 50,
     "metadata": {},
     "output_type": "execute_result"
    }
   ],
   "source": [
    "movies_flatted_pd['Genres'].value_counts()"
   ]
  },
  {
   "cell_type": "code",
   "execution_count": 51,
   "metadata": {},
   "outputs": [
    {
     "data": {
      "text/plain": [
       "Text(0, 0.5, 'Frequency')"
      ]
     },
     "execution_count": 51,
     "metadata": {},
     "output_type": "execute_result"
    },
    {
     "data": {
      "image/png": "[encoded data removed]",
      "text/plain": [
       "<Figure size 1008x576 with 1 Axes>"
      ]
     },
     "metadata": {
      "needs_background": "light"
     },
     "output_type": "display_data"
    }
   ],
   "source": [
    "ax = movies_flatted_pd['Genres'].value_counts().plot(kind='bar', figsize=(14,8), title=\"Frequencies of Genres\")\n",
    "ax.set_xlabel(\"Genre\")\n",
    "ax.set_ylabel(\"Frequency\")"
   ]
  },
  {
   "cell_type": "code",
   "execution_count": 52,
   "metadata": {},
   "outputs": [
    {
     "data": {
      "text/plain": [
       "['Drama', 'Comedy', 'Documentary', 'Horror', 'Western', 'Thriller']"
      ]
     },
     "execution_count": 52,
     "metadata": {},
     "output_type": "execute_result"
    }
   ],
   "source": [
    "genres_most_frequent = list(movies_flatted_pd['Genres'].value_counts()[0:6].index)\n",
    "genres_most_frequent"
   ]
  },
  {
   "cell_type": "code",
   "execution_count": 10,
   "metadata": {},
   "outputs": [],
   "source": [
    "file_names = []\n",
    "genres = []\n",
    "for file_name in glob(\"*.json\"):\n",
    "    with open(file_name) as f:\n",
    "        json_content = json.load(f)['genres']\n",
    "        if set(json_content) <= set(genres_most_frequent):\n",
    "            genres.append(json_content)\n",
    "            file_names.append(file_name.split('.')[0])"
   ]
  },
  {
   "cell_type": "code",
   "execution_count": 11,
   "metadata": {},
   "outputs": [
    {
     "name": "stdout",
     "output_type": "stream",
     "text": [
      "11056 11056\n"
     ]
    }
   ],
   "source": [
    "print(len(genres), len(file_names))"
   ]
  },
  {
   "cell_type": "code",
   "execution_count": 12,
   "metadata": {},
   "outputs": [
    {
     "data": {
      "text/plain": [
       "(11056, 2)"
      ]
     },
     "execution_count": 12,
     "metadata": {},
     "output_type": "execute_result"
    }
   ],
   "source": [
    "movies_data = pd.DataFrame({'Genres': genres ,'Ids': file_names})\n",
    "movies_data.shape"
   ]
  },
  {
   "cell_type": "code",
   "execution_count": 13,
   "metadata": {},
   "outputs": [
    {
     "name": "stdout",
     "output_type": "stream",
     "text": [
      "                      Genres      Ids\n",
      "0   [Comedy, Drama, Romance]  0762138\n",
      "1                    [Drama]  0478999\n",
      "2  [Action, Drama, Thriller]  0770806\n",
      "3           [Drama, Romance]  0176422\n",
      "4                   [Comedy]  0974959\n"
     ]
    }
   ],
   "source": [
    "print(movies_data.head())"
   ]
  },
  {
   "cell_type": "code",
   "execution_count": 14,
   "metadata": {},
   "outputs": [
    {
     "data": {
      "text/plain": [
       "11056"
      ]
     },
     "execution_count": 14,
     "metadata": {},
     "output_type": "execute_result"
    }
   ],
   "source": [
    "condition = []\n",
    "for row in range(len(movies_data)):\n",
    "    value = (len(movies_data['Genres'][row]) == 1)\n",
    "    condition.append(value)\n",
    "len(condition)    "
   ]
  },
  {
   "cell_type": "code",
   "execution_count": 15,
   "metadata": {},
   "outputs": [
    {
     "name": "stdout",
     "output_type": "stream",
     "text": [
      "     Genres      Ids\n",
      "0   [Drama]  0478999\n",
      "1  [Comedy]  0974959\n",
      "2  [Comedy]  0306047\n",
      "3   [Drama]  0228277\n",
      "4   [Drama]  1277737\n"
     ]
    }
   ],
   "source": [
    "movies_data = movies_data.iloc[condition,:]\n",
    "movies_data = movies_data.set_index(pd.Index(range(len(movies_data))))\n",
    "print(movies_data.head())"
   ]
  },
  {
   "cell_type": "code",
   "execution_count": 16,
   "metadata": {},
   "outputs": [
    {
     "name": "stdout",
     "output_type": "stream",
     "text": [
      "['Drama', 'Comedy', 'Comedy', 'Drama', 'Drama']\n"
     ]
    }
   ],
   "source": [
    "new_genres = []\n",
    "for row in range(len(movies_data)):\n",
    "    value = movies_data['Genres'][row][0] \n",
    "    new_genres.append(value)\n",
    "print(new_genres[0:5])    "
   ]
  },
  {
   "cell_type": "code",
   "execution_count": 17,
   "metadata": {},
   "outputs": [
    {
     "name": "stdout",
     "output_type": "stream",
     "text": [
      "   Genres      Ids\n",
      "0   Drama  0478999\n",
      "1  Comedy  0974959\n",
      "2  Comedy  0306047\n",
      "3   Drama  0228277\n",
      "4   Drama  1277737\n"
     ]
    }
   ],
   "source": [
    "movies_data['Genres'] = new_genres\n",
    "print(movies_data.head())"
   ]
  },
  {
   "cell_type": "code",
   "execution_count": 18,
   "metadata": {},
   "outputs": [
    {
     "name": "stdout",
     "output_type": "stream",
     "text": [
      "/Users/danielmartinez/Documents/Universidad/Datasets/MoviesUNAL/mmimdb\n"
     ]
    }
   ],
   "source": [
    "%cd /Users/danielmartinez/Documents/Universidad/Datasets/MoviesUNAL/mmimdb/\n",
    "for file_name in glob(\"*.json\"):\n",
    "    with open(file_name) as f:\n",
    "        splits = json.load(f)"
   ]
  },
  {
   "cell_type": "code",
   "execution_count": 19,
   "metadata": {},
   "outputs": [
    {
     "data": {
      "text/plain": [
       "dict_keys(['train', 'dev', 'test'])"
      ]
     },
     "execution_count": 19,
     "metadata": {},
     "output_type": "execute_result"
    }
   ],
   "source": [
    "#Look for the keys in the json list\n",
    "splits.keys()"
   ]
  },
  {
   "cell_type": "code",
   "execution_count": 20,
   "metadata": {},
   "outputs": [],
   "source": [
    "train_ids =  pd.DataFrame({'Ids': splits['train']})\n",
    "dev_ids =  pd.DataFrame({'Ids': splits['dev']})\n",
    "test_ids =  pd.DataFrame({'Ids': splits['test']})"
   ]
  },
  {
   "cell_type": "code",
   "execution_count": 21,
   "metadata": {},
   "outputs": [
    {
     "data": {
      "text/plain": [
       "(2520, 2)"
      ]
     },
     "execution_count": 21,
     "metadata": {},
     "output_type": "execute_result"
    }
   ],
   "source": [
    "train_genres = pd.merge(movies_data, train_ids, on='Ids', how='inner')\n",
    "train_genres.shape"
   ]
  },
  {
   "cell_type": "code",
   "execution_count": 27,
   "metadata": {},
   "outputs": [
    {
     "data": {
      "text/plain": [
       "Text(0, 0.5, 'Frequency')"
      ]
     },
     "execution_count": 27,
     "metadata": {},
     "output_type": "execute_result"
    },
    {
     "data": {
      "image/png": "[encoded data removed]",
      "text/plain": [
       "<Figure size 1008x576 with 1 Axes>"
      ]
     },
     "metadata": {
      "needs_background": "light"
     },
     "output_type": "display_data"
    }
   ],
   "source": [
    "ax = train_genres['Genres'].value_counts().plot(kind='bar', figsize=(14,8), title=\"Frequencies of Genres\")\n",
    "ax.set_xlabel(\"Genre\")\n",
    "ax.set_ylabel(\"Frequency\")"
   ]
  },
  {
   "cell_type": "code",
   "execution_count": 22,
   "metadata": {},
   "outputs": [
    {
     "data": {
      "text/plain": [
       "(439, 2)"
      ]
     },
     "execution_count": 22,
     "metadata": {},
     "output_type": "execute_result"
    }
   ],
   "source": [
    "dev_genres = pd.merge(movies_data, dev_ids, on='Ids', how='inner')\n",
    "dev_genres.shape"
   ]
  },
  {
   "cell_type": "code",
   "execution_count": 23,
   "metadata": {},
   "outputs": [
    {
     "data": {
      "text/plain": [
       "(1285, 2)"
      ]
     },
     "execution_count": 23,
     "metadata": {},
     "output_type": "execute_result"
    }
   ],
   "source": [
    "test_genres = pd.merge(movies_data, test_ids, on='Ids', how='inner')\n",
    "test_genres.shape"
   ]
  },
  {
   "cell_type": "code",
   "execution_count": 24,
   "metadata": {},
   "outputs": [
    {
     "data": {
      "text/plain": [
       "True"
      ]
     },
     "execution_count": 24,
     "metadata": {},
     "output_type": "execute_result"
    }
   ],
   "source": [
    "#Testing: the resulted number must ve the amount of data in movies_data\n",
    "(train_genres.shape[0] + test_genres.shape[0] + dev_genres.shape[0]) == (movies_data.shape[0])"
   ]
  },
  {
   "cell_type": "code",
   "execution_count": 25,
   "metadata": {},
   "outputs": [],
   "source": [
    "#We create vectors (one per type: train, dev and test) containg the name of the files corresponding to the images\n",
    "#for posterior loading or reading \n",
    "train_paths = train_genres['Ids']\n",
    "train_paths = train_paths + '.jpeg'\n",
    "dev_paths = dev_genres['Ids']\n",
    "dev_paths = dev_paths + '.jpeg'\n",
    "test_paths = test_genres['Ids']\n",
    "test_paths = test_paths + '.jpeg'"
   ]
  },
  {
   "cell_type": "code",
   "execution_count": 120,
   "metadata": {},
   "outputs": [
    {
     "name": "stdout",
     "output_type": "stream",
     "text": [
      "/Users/danielmartinez/Documents/Universidad/Datasets/MoviesUNAL/mmimdb/dataset\n"
     ]
    }
   ],
   "source": [
    "%cd /Users/danielmartinez/Documents/Universidad/Datasets/MoviesUNAL/mmimdb/dataset/"
   ]
  },
  {
   "cell_type": "code",
   "execution_count": null,
   "metadata": {},
   "outputs": [
    {
     "name": "stdout",
     "output_type": "stream",
     "text": [
      "0\n",
      "20\n",
      "40\n",
      "60\n"
     ]
    }
   ],
   "source": [
    "images_movies_dev = pd.DataFrame([])\n",
    "contador = 0\n",
    "for image_path in dev_paths:\n",
    "    img = cv.imread(image_path)\n",
    "    movie = pd.Series(img.flatten(), name=image_path)\n",
    "    images_movies_dev = images_movies_dev.append(movie)\n",
    "    if contador%20 == 0:\n",
    "        print(contador)\n",
    "    contador += 1"
   ]
  },
  {
   "cell_type": "code",
   "execution_count": null,
   "metadata": {},
   "outputs": [],
   "source": [
    "images_movies_train = pd.DataFrame([])\n",
    "contador = 0\n",
    "for image_path in train_paths:\n",
    "    img = cv.imread(image_path)\n",
    "    movie = pd.Series(img.flatten(), name=image_path)\n",
    "    images_movies_train = images_movies_train.append(movie)\n",
    "    if contador%20 == 0:\n",
    "        print(contador)\n",
    "    contador += 1"
   ]
  },
  {
   "cell_type": "code",
   "execution_count": null,
   "metadata": {},
   "outputs": [],
   "source": [
    "images_movies_test = pd.DataFrame([])\n",
    "contador = 0\n",
    "for image_path in test_paths:\n",
    "    img = cv.imread(image_path)\n",
    "    movie = pd.Series(img.flatten(), name=image_path)\n",
    "    images_movies_test = images_movies_test.append(movie)\n",
    "    if contador%20 == 0:\n",
    "        print(contador)\n",
    "    contador += 1"
   ]
  }
 ],
 "metadata": {
  "kernelspec": {
   "display_name": "Python 3",
   "language": "python",
   "name": "python3"
  },
  "language_info": {
   "codemirror_mode": {
    "name": "ipython",
    "version": 3
   },
   "file_extension": ".py",
   "mimetype": "text/x-python",
   "name": "python",
   "nbconvert_exporter": "python",
   "pygments_lexer": "ipython3",
   "version": "3.6.8"
  },
  "latex_envs": {
   "LaTeX_envs_menu_present": true,
   "autoclose": false,
   "autocomplete": true,
   "bibliofile": "biblio.bib",
   "cite_by": "apalike",
   "current_citInitial": 1,
   "eqLabelWithNumbers": true,
   "eqNumInitial": 1,
   "hotkeys": {
    "equation": "Ctrl-E",
    "itemize": "Ctrl-I"
   },
   "labels_anchors": false,
   "latex_user_defs": false,
   "report_style_numbering": false,
   "user_envs_cfg": false
  },
  "toc": {
   "base_numbering": 1,
   "nav_menu": {},
   "number_sections": true,
   "sideBar": true,
   "skip_h1_title": false,
   "title_cell": "Table of Contents",
   "title_sidebar": "Contents",
   "toc_cell": false,
   "toc_position": {
    "height": "calc(100% - 180px)",
    "left": "10px",
    "top": "150px",
    "width": "248.542px"
   },
   "toc_section_display": true,
   "toc_window_display": true
  },
  "varInspector": {
   "cols": {
    "lenName": 16,
    "lenType": 16,
    "lenVar": 40
   },
   "kernels_config": {
    "python": {
     "delete_cmd_postfix": "",
     "delete_cmd_prefix": "del ",
     "library": "var_list.py",
     "varRefreshCmd": "print(var_dic_list())"
    },
    "r": {
     "delete_cmd_postfix": ") ",
     "delete_cmd_prefix": "rm(",
     "library": "var_list.r",
     "varRefreshCmd": "cat(var_dic_list()) "
    }
   },
   "position": {
    "height": "510.208px",
    "left": "532.208px",
    "right": "20px",
    "top": "120.983px",
    "width": "612.778px"
   },
   "types_to_exclude": [
    "module",
    "function",
    "builtin_function_or_method",
    "instance",
    "_Feature"
   ],
   "window_display": false
  }
 },
 "nbformat": 4,
 "nbformat_minor": 2
}
