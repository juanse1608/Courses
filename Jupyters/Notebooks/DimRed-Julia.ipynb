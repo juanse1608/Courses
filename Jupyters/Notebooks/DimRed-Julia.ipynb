{
 "cells": [
  {
   "cell_type": "markdown",
   "metadata": {},
   "source": [
    "# Dimensionality Reduction in Julia\n",
    "\n",
    "#### Métodos Intensivos de Computación Estadística\n",
    "\n",
    "#### Juan Sebastián Corredor Rodriguez - jucorredorr@unal.edu."
   ]
  },
  {
   "cell_type": "markdown",
   "metadata": {},
   "source": [
    "The main idea of this notebook is to present some dimensionality reduction methods in Julia and evaluate its results and performance. Specifically, the methods are:\n",
    "1. [PCA (Principal Component Analysis)](https://en.wikipedia.org/wiki/Principal_component_analysis).\n",
    "2. [LLE (Locally Linear Embedding)](http://www.robots.ox.ac.uk/~az/lectures/ml/lle.pdf).\n",
    "3. [Isomap (Isometric Feature Mapping)](https://en.wikipedia.org/wiki/Isomap). "
   ]
  },
  {
   "cell_type": "code",
   "execution_count": 10,
   "metadata": {},
   "outputs": [],
   "source": [
    "#import Pkg\n",
    "#Pkg.add(\"MultivariateStats\") \n",
    "#Pkg.add(\"ManifoldLearning\")\n",
    "using ManifoldLearning\n",
    "using MultivariateStats"
   ]
  },
  {
   "cell_type": "code",
   "execution_count": null,
   "metadata": {},
   "outputs": [],
   "source": []
  }
 ],
 "metadata": {
  "kernelspec": {
   "display_name": "Julia 1.1.0",
   "language": "julia",
   "name": "julia-1.1"
  },
  "language_info": {
   "file_extension": ".jl",
   "mimetype": "application/julia",
   "name": "julia",
   "version": "1.1.0"
  }
 },
 "nbformat": 4,
 "nbformat_minor": 2
}
