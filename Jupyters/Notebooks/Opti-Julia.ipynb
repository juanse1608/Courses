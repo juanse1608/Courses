{
 "cells": [
  {
   "cell_type": "markdown",
   "metadata": {},
   "source": [
    "# Métodos computacionales de Optimización Multivariada en Julia\n",
    "\n",
    "#### Métodos Intensivos de Computación Estadística\n",
    "\n",
    "#### Juan Sebastián Corredor Rodriguez - jucorredorr@unal.edu.co"
   ]
  },
  {
   "cell_type": "markdown",
   "metadata": {},
   "source": [
    "(Ver http://julianlsolvers.github.io/Optim.jl/v0.9.3/user/minimization/ y http://julianlsolvers.github.io/Optim.jl/)"
   ]
  },
  {
   "cell_type": "code",
   "execution_count": 117,
   "metadata": {},
   "outputs": [
    {
     "data": {
      "text/plain": [
       "rosenbrock (generic function with 1 method)"
      ]
     },
     "execution_count": 117,
     "metadata": {},
     "output_type": "execute_result"
    }
   ],
   "source": [
    "#Define la función de Rosenbrock en Julia\n",
    "function rosenbrock(x::Vector)\n",
    "  sum((1.0 .- x[1:(length(x)-1)]).^2 .+ (100.0 * (x[2:length(x)] .- x[1:(length(x)-1)].^2).^2))\n",
    "end"
   ]
  },
  {
   "cell_type": "code",
   "execution_count": 129,
   "metadata": {},
   "outputs": [],
   "source": [
    "#import Pkg\n",
    "#Pkg.add(\"Optim\")\n",
    "#Pkg.add(\"BenchmarkTools\")\n",
    "#Pkg.add(\"Distributions\")\n",
    "using Optim\n",
    "using BenchmarkTools\n",
    "using Distributions"
   ]
  },
  {
   "cell_type": "markdown",
   "metadata": {},
   "source": [
    "### Método de Optimización Quasi Newton BFGS"
   ]
  },
  {
   "cell_type": "code",
   "execution_count": 166,
   "metadata": {},
   "outputs": [
    {
     "data": {
      "text/plain": [
       "10-element Array{Float64,1}:\n",
       " 100.0\n",
       " 100.0\n",
       " 100.0\n",
       " 100.0\n",
       " 100.0\n",
       " 100.0\n",
       " 100.0\n",
       " 100.0\n",
       " 100.0\n",
       " 100.0"
      ]
     },
     "execution_count": 166,
     "metadata": {},
     "output_type": "execute_result"
    }
   ],
   "source": [
    "dimension  = 10\n",
    "punto_inicial = repeat([100.0], outer = dimension, inner = 1)"
   ]
  },
  {
   "cell_type": "code",
   "execution_count": 172,
   "metadata": {},
   "outputs": [
    {
     "name": "stdout",
     "output_type": "stream",
     "text": [
      "  0.098175 seconds (270.48 k allocations: 29.420 MiB, 7.01% gc time)\n"
     ]
    },
    {
     "data": {
      "text/plain": [
       "Results of Optimization Algorithm\n",
       " * Algorithm: BFGS\n",
       " * Starting Point: [100.0,100.0, ...]\n",
       " * Minimizer: [0.9999999996860861,0.9999999993213785, ...]\n",
       " * Minimum: 2.518339e-15\n",
       " * Iterations: 472\n",
       " * Convergence: false\n",
       "   * |x - x'| ≤ 0.0e+00: false \n",
       "     |x - x'| = 8.32e-14 \n",
       "   * |f(x) - f(x')| ≤ 0.0e+00 |f(x)|: false\n",
       "     |f(x) - f(x')| = 9.98e-07 |f(x)|\n",
       "   * |g(x)| ≤ 1.0e-08: false \n",
       "     |g(x)| = 1.41e-07 \n",
       "   * Stopped by an increasing objective: true\n",
       "   * Reached Maximum Number of Iterations: false\n",
       " * Objective Calls: 1371\n",
       " * Gradient Calls: 1371"
      ]
     },
     "execution_count": 172,
     "metadata": {},
     "output_type": "execute_result"
    }
   ],
   "source": [
    "@time begin\n",
    "optimizacion = optimize(rosenbrock, punto_inicial, BFGS())\n",
    "end    "
   ]
  },
  {
   "cell_type": "code",
   "execution_count": 95,
   "metadata": {
    "scrolled": true
   },
   "outputs": [
    {
     "data": {
      "text/plain": [
       "BenchmarkTools.Trial: \n",
       "  memory estimate:  29.42 MiB\n",
       "  allocs estimate:  270480\n",
       "  --------------\n",
       "  minimum time:     54.337 ms (3.29% GC)\n",
       "  median time:      60.232 ms (3.37% GC)\n",
       "  mean time:        66.436 ms (6.04% GC)\n",
       "  maximum time:     141.539 ms (60.74% GC)\n",
       "  --------------\n",
       "  samples:          76\n",
       "  evals/sample:     1"
      ]
     },
     "execution_count": 95,
     "metadata": {},
     "output_type": "execute_result"
    }
   ],
   "source": [
    "@benchmark optimize(rosenbrock, punto_inicial, BFGS())"
   ]
  },
  {
   "cell_type": "markdown",
   "metadata": {},
   "source": [
    "### Método de Optimización del Gradiente Conjugado"
   ]
  },
  {
   "cell_type": "code",
   "execution_count": 163,
   "metadata": {},
   "outputs": [
    {
     "data": {
      "text/plain": [
       "10-element Array{Float64,1}:\n",
       " 100.0\n",
       " 100.0\n",
       " 100.0\n",
       " 100.0\n",
       " 100.0\n",
       " 100.0\n",
       " 100.0\n",
       " 100.0\n",
       " 100.0\n",
       " 100.0"
      ]
     },
     "execution_count": 163,
     "metadata": {},
     "output_type": "execute_result"
    }
   ],
   "source": [
    "dimension  = 10\n",
    "punto_inicial = repeat([100.0], outer = dimension, inner = 1)"
   ]
  },
  {
   "cell_type": "code",
   "execution_count": 164,
   "metadata": {},
   "outputs": [
    {
     "name": "stdout",
     "output_type": "stream",
     "text": [
      "  0.574226 seconds (237.73 k allocations: 25.166 MiB, 45.20% gc time)\n"
     ]
    },
    {
     "data": {
      "text/plain": [
       "Results of Optimization Algorithm\n",
       " * Algorithm: Conjugate Gradient\n",
       " * Starting Point: [100.0,100.0, ...]\n",
       " * Minimizer: [1.000000000644042,1.0000000009011392, ...]\n",
       " * Minimum: 3.625056e-15\n",
       " * Iterations: 1000\n",
       " * Convergence: false\n",
       "   * |x - x'| ≤ 0.0e+00: false \n",
       "     |x - x'| = 1.99e-09 \n",
       "   * |f(x) - f(x')| ≤ 0.0e+00 |f(x)|: false\n",
       "     |f(x) - f(x')| = 4.41e-02 |f(x)|\n",
       "   * |g(x)| ≤ 1.0e-08: false \n",
       "     |g(x)| = 3.69e-07 \n",
       "   * Stopped by an increasing objective: false\n",
       "   * Reached Maximum Number of Iterations: true\n",
       " * Objective Calls: 2082\n",
       " * Gradient Calls: 1108"
      ]
     },
     "execution_count": 164,
     "metadata": {},
     "output_type": "execute_result"
    }
   ],
   "source": [
    "@time begin\n",
    "optimizacion = optimize(rosenbrock, punto_inicial, ConjugateGradient())\n",
    "end    "
   ]
  },
  {
   "cell_type": "code",
   "execution_count": 165,
   "metadata": {},
   "outputs": [
    {
     "data": {
      "text/plain": [
       "BenchmarkTools.Trial: \n",
       "  memory estimate:  25.17 MiB\n",
       "  allocs estimate:  237730\n",
       "  --------------\n",
       "  minimum time:     47.874 ms (4.19% GC)\n",
       "  median time:      48.695 ms (4.40% GC)\n",
       "  mean time:        50.922 ms (6.91% GC)\n",
       "  maximum time:     135.211 ms (63.41% GC)\n",
       "  --------------\n",
       "  samples:          99\n",
       "  evals/sample:     1"
      ]
     },
     "execution_count": 165,
     "metadata": {},
     "output_type": "execute_result"
    }
   ],
   "source": [
    "@benchmark optimize(rosenbrock, punto_inicial, ConjugateGradient())"
   ]
  },
  {
   "cell_type": "markdown",
   "metadata": {},
   "source": [
    "### Método de Optimización Quasi Newton L-BFGS-B"
   ]
  },
  {
   "cell_type": "code",
   "execution_count": 91,
   "metadata": {},
   "outputs": [
    {
     "data": {
      "text/plain": [
       "10-element Array{Float64,1}:\n",
       " 100.0\n",
       " 100.0\n",
       " 100.0\n",
       " 100.0\n",
       " 100.0\n",
       " 100.0\n",
       " 100.0\n",
       " 100.0\n",
       " 100.0\n",
       " 100.0"
      ]
     },
     "execution_count": 91,
     "metadata": {},
     "output_type": "execute_result"
    }
   ],
   "source": [
    "dimension  = 10\n",
    "punto_inicial = repeat([100.0], outer = dimension, inner = 1)"
   ]
  },
  {
   "cell_type": "code",
   "execution_count": 98,
   "metadata": {},
   "outputs": [
    {
     "name": "stdout",
     "output_type": "stream",
     "text": [
      "  0.024002 seconds (57.03 k allocations: 6.157 MiB)\n"
     ]
    },
    {
     "data": {
      "text/plain": [
       "Results of Optimization Algorithm\n",
       " * Algorithm: L-BFGS\n",
       " * Starting Point: [100.0,100.0, ...]\n",
       " * Minimizer: [0.9999999996397584,0.9999999994246164, ...]\n",
       " * Minimum: 2.610604e-15\n",
       " * Iterations: 111\n",
       " * Convergence: true\n",
       "   * |x - x'| ≤ 0.0e+00: false \n",
       "     |x - x'| = 1.14e-09 \n",
       "   * |f(x) - f(x')| ≤ 0.0e+00 |f(x)|: false\n",
       "     |f(x) - f(x')| = 3.19e-02 |f(x)|\n",
       "   * |g(x)| ≤ 1.0e-08: true \n",
       "     |g(x)| = 1.01e-09 \n",
       "   * Stopped by an increasing objective: false\n",
       "   * Reached Maximum Number of Iterations: false\n",
       " * Objective Calls: 286\n",
       " * Gradient Calls: 286"
      ]
     },
     "execution_count": 98,
     "metadata": {},
     "output_type": "execute_result"
    }
   ],
   "source": [
    "@time begin\n",
    "optimizacion = optimize(rosenbrock, punto_inicial, LBFGS())\n",
    "end    "
   ]
  },
  {
   "cell_type": "code",
   "execution_count": 99,
   "metadata": {},
   "outputs": [
    {
     "data": {
      "text/plain": [
       "BenchmarkTools.Trial: \n",
       "  memory estimate:  6.16 MiB\n",
       "  allocs estimate:  57025\n",
       "  --------------\n",
       "  minimum time:     10.932 ms (0.00% GC)\n",
       "  median time:      13.295 ms (0.00% GC)\n",
       "  mean time:        13.840 ms (6.62% GC)\n",
       "  maximum time:     95.136 ms (87.60% GC)\n",
       "  --------------\n",
       "  samples:          361\n",
       "  evals/sample:     1"
      ]
     },
     "execution_count": 99,
     "metadata": {},
     "output_type": "execute_result"
    }
   ],
   "source": [
    "@benchmark optimize(rosenbrock, punto_inicial, LBFGS())"
   ]
  },
  {
   "cell_type": "markdown",
   "metadata": {},
   "source": [
    "### Método de Optimización de Simulado Recocido"
   ]
  },
  {
   "cell_type": "code",
   "execution_count": 175,
   "metadata": {},
   "outputs": [
    {
     "data": {
      "text/plain": [
       "3-element Array{Float64,1}:\n",
       " 10.0\n",
       " 10.0\n",
       " 10.0"
      ]
     },
     "execution_count": 175,
     "metadata": {},
     "output_type": "execute_result"
    }
   ],
   "source": [
    "dimension  = 10\n",
    "punto_inicial = repeat([10.0], outer = dimension, inner = 1)"
   ]
  },
  {
   "cell_type": "code",
   "execution_count": 176,
   "metadata": {},
   "outputs": [
    {
     "data": {
      "text/plain": [
       "neighbor! (generic function with 1 method)"
      ]
     },
     "execution_count": 176,
     "metadata": {},
     "output_type": "execute_result"
    }
   ],
   "source": [
    "function neighbor!(x_proposal::Array, x::Array)\n",
    "    for i in eachindex(x)\n",
    "        x_proposal[i] = x[i] + rand(Normal(0,0.5),1)[1]\n",
    "    end\n",
    "end"
   ]
  },
  {
   "cell_type": "code",
   "execution_count": 177,
   "metadata": {},
   "outputs": [
    {
     "name": "stdout",
     "output_type": "stream",
     "text": [
      "  0.528626 seconds (222.52 k allocations: 11.955 MiB, 36.68% gc time)\n"
     ]
    },
    {
     "data": {
      "text/plain": [
       "Results of Optimization Algorithm\n",
       " * Algorithm: Simulated Annealing\n",
       " * Starting Point: [10.0,10.0,10.0]\n",
       " * Minimizer: [2.28207242e-314,2.2820724357e-314, ...]\n",
       " * Minimum: 2.000000e+00\n",
       " * Iterations: 1000\n",
       " * Convergence: false\n",
       "   * |x - x'| ≤ 0.0e+00: false \n",
       "     |x - x'| = NaN \n",
       "   * |f(x) - f(x')| ≤ 0.0e+00 |f(x)|: false\n",
       "     |f(x) - f(x')| = NaN |f(x)|\n",
       "   * |g(x)| ≤ 1.0e-08: false \n",
       "     |g(x)| = NaN \n",
       "   * Stopped by an increasing objective: false\n",
       "   * Reached Maximum Number of Iterations: true\n",
       " * Objective Calls: 1001"
      ]
     },
     "execution_count": 177,
     "metadata": {},
     "output_type": "execute_result"
    }
   ],
   "source": [
    "@time begin\n",
    "optimizacion = optimize(rosenbrock, punto_inicial, SimulatedAnnealing(neighbor = neighbor!))\n",
    "end    "
   ]
  },
  {
   "cell_type": "code",
   "execution_count": 178,
   "metadata": {},
   "outputs": [
    {
     "data": {
      "text/plain": [
       "3-element Array{Float64,1}:\n",
       " 2.28207242e-314  \n",
       " 2.2820724357e-314\n",
       " 2.2820724515e-314"
      ]
     },
     "execution_count": 178,
     "metadata": {},
     "output_type": "execute_result"
    }
   ],
   "source": [
    "optimizacion.minimizer"
   ]
  },
  {
   "cell_type": "code",
   "execution_count": 134,
   "metadata": {},
   "outputs": [
    {
     "data": {
      "text/plain": [
       "BenchmarkTools.Trial: \n",
       "  memory estimate:  1.06 MiB\n",
       "  allocs estimate:  12040\n",
       "  --------------\n",
       "  minimum time:     2.302 ms (0.00% GC)\n",
       "  median time:      2.360 ms (0.00% GC)\n",
       "  mean time:        2.630 ms (6.28% GC)\n",
       "  maximum time:     92.777 ms (97.30% GC)\n",
       "  --------------\n",
       "  samples:          1896\n",
       "  evals/sample:     1"
      ]
     },
     "execution_count": 134,
     "metadata": {},
     "output_type": "execute_result"
    }
   ],
   "source": [
    "@benchmark optimize(rosenbrock, punto_inicial, SimulatedAnnealing())"
   ]
  },
  {
   "cell_type": "markdown",
   "metadata": {},
   "source": [
    "Parece que el método de recocido simulado no converge para este tipo de funciones multivariadas. Sin embargo, se deben entender más a fondo el manejo de sus parámetros (Ver https://julianlsolvers.github.io/Optim.jl/stable/#algo/simulated_annealing/)"
   ]
  }
 ],
 "metadata": {
  "kernelspec": {
   "display_name": "Julia 1.1.0",
   "language": "julia",
   "name": "julia-1.1"
  },
  "language_info": {
   "file_extension": ".jl",
   "mimetype": "application/julia",
   "name": "julia",
   "version": "1.1.0"
  }
 },
 "nbformat": 4,
 "nbformat_minor": 2
}
