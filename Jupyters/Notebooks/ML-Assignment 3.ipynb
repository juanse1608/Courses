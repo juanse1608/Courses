{
 "cells": [
  {
   "cell_type": "markdown",
   "metadata": {},
   "source": [
    "# Machine Learning - Assignment 3\n",
    "#### Juan Sebastián Corredor Rodriguez - jucorredorr@unal.edu.co\n",
    "#### Valentina Cobo Paz - vcobop@unal.edu.co"
   ]
  },
  {
   "cell_type": "code",
   "execution_count": 1,
   "metadata": {},
   "outputs": [],
   "source": [
    "#import the needed libraries and functions\n",
    "import pandas as pd\n",
    "import string\n",
    "from sklearn import datasets,svm,metrics\n",
    "from sklearn.model_selection import train_test_split\n",
    "from sklearn.metrics import confusion_matrix\n",
    "from sklearn.utils.multiclass import unique_labels\n",
    "from sklearn.datasets import load_digits\n",
    "from sklearn import preprocessing\n",
    "from sklearn.feature_extraction.text import CountVectorizer\n",
    "from sklearn.metrics import mean_squared_error\n",
    "from sklearn.svm import LinearSVC\n",
    "import matplotlib.pylab as plt\n",
    "import numpy as np\n",
    "from sklearn.model_selection import cross_val_score\n",
    "import unidecode\n",
    "import html5lib\n",
    "from numpy import cov\n",
    "import scipy as sp\n",
    "import seaborn as sns\n",
    "import Cython"
   ]
  },
  {
   "cell_type": "markdown",
   "metadata": {},
   "source": [
    "1. Let $x = \\{x_1, \\ldots , x_n\\}$ be a subset of an input data set $X $. Consider a kernel function $k :\n",
    "X \\times X \\to \\mathbb{R}$, which induces a feature space $\\phi(X) $."
   ]
  },
  {
   "cell_type": "markdown",
   "metadata": {},
   "source": [
    "__a.__ Deduce an expression (using kernels) that, given a vector $w\\in X$, calculates the norm of the projection of the image of a point $x $, that it is $\\phi(x) $, onto the image of the vector $w $, $\\phi(w) $:\n",
    "$$P_w(x) = \\dfrac{<\\phi(w),\\phi(x)>}{||\\phi(w)||}$$"
   ]
  },
  {
   "cell_type": "markdown",
   "metadata": {},
   "source": [
    "__Proof.__  Note that the principal property of the kernel function is that \n",
    "\n",
    "$$k(w,x) = <\\phi(w),\\phi(x)>$$\n",
    "\n",
    "In the other hand, we can see that using the natural norm induced in an inner product space we have that\n",
    "\n",
    "\\begin{align*}\n",
    "||z|| = \\sqrt{< z,z >}\n",
    "\\end{align*}\n",
    "for all $z$ in the feaature space (see https://en.wikipedia.org/wiki/Inner_product_space). Therefore \n",
    "\n",
    "\\begin{align*}\n",
    "||\\phi(w)||&= \\sqrt{<\\phi(w),\\phi(w)>} = \\sqrt{k(w,w)}\n",
    "\\end{align*}\n",
    "Finally we obtain the expression\n",
    "\n",
    "\\begin{align*}\n",
    "P_w(x) &= \\frac{<\\phi(w),\\phi(x)>}{||\\phi(w)||} \\\\ \\\\\n",
    "&= \\frac{k(w,x)}{\\sqrt{k(w,w)}} \n",
    "\\end{align*}\n",
    "using only kernels."
   ]
  },
  {
   "cell_type": "markdown",
   "metadata": {},
   "source": [
    "__b.__ Deduce an expression (using kernels) to calculate the sample variance of the projections in the feature space of a set of points along a vector $w $:\n",
    "$$\\text{Var}_{\\phi(w)}(x)= \\frac{1}{n}\\sum_{i=1}^{n} (P_w(x_i) - \\mu)^2$$"
   ]
  },
  {
   "cell_type": "markdown",
   "metadata": {},
   "source": [
    "__Proof.__ Let's do some alegbra: \n",
    "\\begin{align*}\n",
    "\\text{Var}_{\\phi(w)}(x) & = \\frac{1}{n}\\sum_{i=1}^{n} (P_w(x_i) - \\mu)^2 \\\\ \\\\ \n",
    "&=  \\frac{1}{n}\\sum_{i=1}^{n} (P_w(x_i)^2 - 2P_w(x_i)\\mu + \\mu^2) \\\\ \\\\ \n",
    "&= \\frac{1}{n}\\sum_{i=1}^{n} P_w(x_i)^2 - 2\\mu\\frac{1}{n}\\sum_{i=1}^{n}P_w(x_i) + \\mu^2 \\\\ \\\\ \n",
    "&= \\frac{1}{n}\\sum_{i=1}^{n} P_w(x_i)^2 - 2\\mu\\cdot\\mu + \\mu^2 \\\\ \\\\ \n",
    "&= \\frac{1}{n}\\sum_{i=1}^{n} P_w(x_i)^2 - 2\\mu^2 + \\mu^2 \\\\ \\\\ \n",
    "&= \\frac{1}{n}\\sum_{i=1}^{n} P_w(x_i)^2 - \\mu^2 \\\\ \\\\ \n",
    "&= \\frac{1}{n}\\sum_{i=1}^{n} \\left[\\frac{k(w,x_i)}{\\sqrt{k(w,w)}}\\right]^2  - \\left[\\frac{1}{n}\\sum_{i=1}^{n} P_w(x_i)\\right]^2 \\\\ \\\\ \n",
    "&= \\frac{1}{n}\\sum_{i=1}^{n} \\left[\\frac{k(w,x_i)}{\\sqrt{k(w,w)}}\\right]^2  - \\left[\\frac{1}{n}\\sum_{i=1}^{n} \\frac{k(w,x_i)}{\\sqrt{k(w,w)}}\\right]^2 \\\\ \\\\ \n",
    "&= \\frac{1}{n}\\cdot \\frac{1}{k(w,w)} \\sum_{i=1}^{n} k(w,x_i)^2  - \\frac{1}{n^2}\\cdot \\frac{1}{k(w,w)}\\left[\\sum_{i=1}^{n} k(w,x_i)\\right]^2 \\\\ \\\\ \n",
    "&= \\frac{1}{n\\cdot k(w,w)} \\left\\{\\: \\sum_{i=1}^{n} k(w,x_i)^2  - \\frac{1}{n}\\cdot \\left[\\sum_{i=1}^{n} k(w,x_i)\\right]^2 \\:\\right\\} \\\\ \\\\ \n",
    "\\end{align*}\n",
    "So, finally we get the variance as a function of the kernels."
   ]
  },
  {
   "cell_type": "markdown",
   "metadata": {},
   "source": [
    "__c.__ Use the previous expression to calculate the variance of the projections of the images of\n",
    "the elements of the following point set in $\\mathbb{R}^2 $, $x = \\{(0, 1),(−1, 3),(2, 4),(3, −1),(−1, −2)\\} $\n",
    "over the images of the vectors $w_1 = (1, 1) $ and $w_2 = (−1, 1) $, in the feature spaces induced\n",
    "by the following kernels: \n",
    "\n",
    "1. $k(x,y)= $ <$x, y$>\n",
    "\n",
    "2. $k(x,y) = $ <$x,y$>$^2$\n",
    "\n",
    "3. $k(x,y) = ($<$x,y$> $ + 1)^5 $\n",
    "\n",
    "4. Gaussian Kernel with $\\sigma = 1 $."
   ]
  },
  {
   "cell_type": "code",
   "execution_count": 2,
   "metadata": {},
   "outputs": [
    {
     "name": "stdout",
     "output_type": "stream",
     "text": [
      "   1  2\n",
      "0  0  1\n",
      "1 -1  3\n",
      "2  2  4\n",
      "3  3 -1\n",
      "4 -1 -2\n"
     ]
    }
   ],
   "source": [
    "#Load the x\n",
    "x = {'1': [0,-1,2,3,-1], '2': [1,3,4,-1,-2]}\n",
    "x = pd.DataFrame(x)\n",
    "print(x)"
   ]
  },
  {
   "cell_type": "code",
   "execution_count": 3,
   "metadata": {},
   "outputs": [
    {
     "name": "stdout",
     "output_type": "stream",
     "text": [
      "[ 0.70710678  1.41421356  4.24264069  1.41421356 -2.12132034]\n"
     ]
    }
   ],
   "source": [
    "#First kernel\n",
    "def projections(x , w):\n",
    "    kernel_w_w = np.dot(w, w)\n",
    "    projections=[]\n",
    "    for index, row in x.iterrows():\n",
    "        kernel_w_x = np.dot(row, w)\n",
    "        projection = kernel_w_x/(np.sqrt(kernel_w_w))\n",
    "        projections.append(projection)\n",
    "    return np.array(projections)\n",
    "\n",
    "print(projections(x , [1,1]))"
   ]
  },
  {
   "cell_type": "code",
   "execution_count": 4,
   "metadata": {},
   "outputs": [
    {
     "name": "stdout",
     "output_type": "stream",
     "text": [
      "[0.7071067811865475, 1.414213562373095, 4.242640687119285, 1.414213562373095, -2.1213203435596424]\n"
     ]
    }
   ],
   "source": [
    "def projection(x,w):\n",
    "    kernel_w_w = np.dot(w, w)\n",
    "    projections=[]\n",
    "    for i in range(len(x)):\n",
    "        kernel_x_w=np.dot(x.iloc[i].to_list(),w)\n",
    "        proj=kernel_x_w/np.sqrt(kernel_w_w)\n",
    "        projections.append(proj)\n",
    "    return projections\n",
    "        #kernel_w_x=np.dot()\n",
    "print(projection(x,[1,1]))"
   ]
  },
  {
   "cell_type": "code",
   "execution_count": 7,
   "metadata": {},
   "outputs": [
    {
     "name": "stdout",
     "output_type": "stream",
     "text": [
      "4.119999999999999\n",
      "3.7199999999999998\n"
     ]
    }
   ],
   "source": [
    "variance_of_projections_over_w1 = np.var(projections(x , [1,1]))\n",
    "variance_of_projections_over_w2 = np.var(projections(x , [-1,1]))\n",
    "print(variance_of_projections_over_w1) ; print(variance_of_projections_over_w2)"
   ]
  },
  {
   "cell_type": "code",
   "execution_count": 8,
   "metadata": {},
   "outputs": [],
   "source": [
    "#Second kernel\n",
    "def projections(x , w):\n",
    "    kernel_w_w = (np.dot(w, w))**2\n",
    "    projections=[]\n",
    "    for index, row in x.iterrows():\n",
    "        kernel_w_x = (np.dot(row, w))**2\n",
    "        projection = kernel_w_x/(np.sqrt(kernel_w_w))\n",
    "        projections.append(projection)\n",
    "    return np.array(projections)"
   ]
  },
  {
   "cell_type": "code",
   "execution_count": 9,
   "metadata": {},
   "outputs": [
    {
     "name": "stdout",
     "output_type": "stream",
     "text": [
      "41.339999999999996\n",
      "12.059999999999999\n"
     ]
    }
   ],
   "source": [
    "variance_of_projections_over_w1 = np.var(projections(x , [1,1]))\n",
    "variance_of_projections_over_w2 = np.var(projections(x , [-1,1]))\n",
    "print(variance_of_projections_over_w1) ; print(variance_of_projections_over_w2)"
   ]
  },
  {
   "cell_type": "code",
   "execution_count": 10,
   "metadata": {},
   "outputs": [],
   "source": [
    "#Third kernel\n",
    "def projections(x , w):\n",
    "    kernel_w_w = (np.dot(w, w) + 1)**5\n",
    "    projections=[]\n",
    "    for index, row in x.iterrows():\n",
    "        kernel_w_x = (np.dot(row, w) + 1)**5\n",
    "        projection = kernel_w_x/(np.sqrt(kernel_w_w))\n",
    "        projections.append(projection)\n",
    "    return np.array(projections)"
   ]
  },
  {
   "cell_type": "code",
   "execution_count": 11,
   "metadata": {},
   "outputs": [
    {
     "name": "stdout",
     "output_type": "stream",
     "text": [
      "183362.81909465024\n",
      "6494.9935802469145\n"
     ]
    }
   ],
   "source": [
    "variance_of_projections_over_w1 = np.var(projections(x , [1,1]))\n",
    "variance_of_projections_over_w2 = np.var(projections(x , [-1,1]))\n",
    "print(variance_of_projections_over_w1) ; print(variance_of_projections_over_w2)"
   ]
  },
  {
   "cell_type": "code",
   "execution_count": 12,
   "metadata": {},
   "outputs": [
    {
     "name": "stdout",
     "output_type": "stream",
     "text": [
      "[0.84648172 0.26359714 0.1888756  0.26359714 0.11455884]\n"
     ]
    }
   ],
   "source": [
    "#Fourth kernel\n",
    "def projections(x , w, sigma):\n",
    "    kernel_w_w = 1 #k(z,z) = 1 in all gaussian kernel for all z\n",
    "    projections=[]\n",
    "    for index, row in x.iterrows():\n",
    "        kernel_w_x = np.exp(-((np.linalg.norm(row-w))**2)/(2*(sigma^2)))\n",
    "        projection = kernel_w_x/(np.sqrt(kernel_w_w))\n",
    "        projections.append(projection)\n",
    "    return np.array(projections)\n",
    "\n",
    "print(projections(x , [1,1] , 1))"
   ]
  },
  {
   "cell_type": "code",
   "execution_count": 13,
   "metadata": {},
   "outputs": [
    {
     "name": "stdout",
     "output_type": "stream",
     "text": [
      "0.06835120883548426\n",
      "0.095379016621914\n"
     ]
    }
   ],
   "source": [
    "variance_of_projections_over_w1 = np.var(projections(x , [1,1] , sigma = 1))\n",
    "variance_of_projections_over_w2 = np.var(projections(x , [-1,1] , sigma = 1))\n",
    "print(variance_of_projections_over_w1) ; print(variance_of_projections_over_w2)"
   ]
  },
  {
   "cell_type": "markdown",
   "metadata": {},
   "source": [
    "#### 2. Digit recognizition model understanding."
   ]
  },
  {
   "cell_type": "markdown",
   "metadata": {},
   "source": [
    "__a.__ Get the data for the MNIST data set: http://scikit-learn.org/stable/datasets/index.html#downloading-datasets-from-the-mldata-org-repository."
   ]
  },
  {
   "cell_type": "code",
   "execution_count": 14,
   "metadata": {},
   "outputs": [],
   "source": [
    "#Load the digits recognition dataset\n",
    "digits = datasets.load_digits()"
   ]
  },
  {
   "cell_type": "markdown",
   "metadata": {},
   "source": [
    "we plot the first 4 digits data, that it's compose for 8x8 matrix."
   ]
  },
  {
   "cell_type": "code",
   "execution_count": 15,
   "metadata": {},
   "outputs": [
    {
     "data": {
      "text/plain": [
       "(1797, 64)"
      ]
     },
     "execution_count": 15,
     "metadata": {},
     "output_type": "execute_result"
    },
    {
     "data": {
      "image/png": "[encoded data removed]",
      "text/plain": [
       "<Figure size 432x288 with 4 Axes>"
      ]
     },
     "metadata": {
      "needs_background": "light"
     },
     "output_type": "display_data"
    }
   ],
   "source": [
    "images_and_labels = list(zip(digits.images, digits.target))\n",
    "for index, (image, label) in enumerate(images_and_labels[:4]):\n",
    "    plt.subplot(2, 4, index + 1)\n",
    "    plt.axis('off')\n",
    "    plt.imshow(image, cmap=plt.cm.gray_r, interpolation='nearest')\n",
    "    plt.title('Training: %i' % label)\n",
    "n_samples = len(digits.images)\n",
    "data = digits.images.reshape((n_samples, -1))\n",
    "data.shape"
   ]
  },
  {
   "cell_type": "markdown",
   "metadata": {},
   "source": [
    "__b.__ Normalize your features so that each one has mean $0$ and standard deviation $1$."
   ]
  },
  {
   "cell_type": "code",
   "execution_count": 16,
   "metadata": {},
   "outputs": [],
   "source": [
    "means = np.mean(data, axis = 0)\n",
    "sdts =  np.mean(data, axis = 0)\n",
    "scaler = preprocessing.StandardScaler()\n",
    "normalized_data = scaler.fit_transform(data)"
   ]
  },
  {
   "cell_type": "markdown",
   "metadata": {},
   "source": [
    "For check the mean=0 and std=1"
   ]
  },
  {
   "cell_type": "code",
   "execution_count": 17,
   "metadata": {},
   "outputs": [
    {
     "name": "stdout",
     "output_type": "stream",
     "text": [
      "1.9770248629941574e-17\n",
      "1.0000000000000056\n"
     ]
    }
   ],
   "source": [
    "print(normalized_data[:,10].mean())\n",
    "print(normalized_data[:,20].std())"
   ]
  },
  {
   "cell_type": "markdown",
   "metadata": {},
   "source": [
    "__c.__ Choose two classes (e.g. $1$ and $0$, or $6$ and $9$) and train a linear SVM to discriminate between them. Find an optimal complexity parameter, $C$, plotting the training and test error vs. the regularization parameter. Use a logarithmic scale for $C=\\{2^{-15} , 2^{-14} , \\ldots , 2^{10}\\}$. Discuss the results."
   ]
  },
  {
   "cell_type": "markdown",
   "metadata": {},
   "source": [
    "We decide to use the classes $1$ and $5$."
   ]
  },
  {
   "cell_type": "markdown",
   "metadata": {},
   "source": [
    "for the 1 and 5 class, we reduced the set of observation, only for the two selected classes"
   ]
  },
  {
   "cell_type": "code",
   "execution_count": 18,
   "metadata": {},
   "outputs": [
    {
     "name": "stdout",
     "output_type": "stream",
     "text": [
      "(364, 64)\n",
      "(364,)\n",
      "(364, 8, 8)\n",
      "364\n"
     ]
    }
   ],
   "source": [
    "class_0 = 5\n",
    "class_1 = 1\n",
    "exercise_data = normalized_data[(digits.target == class_0) | (digits.target == class_1)]\n",
    "exercise_target = digits.target[(digits.target == class_0) | (digits.target == class_1)]\n",
    "digits_images = digits.images[(digits.target == class_0) | (digits.target == class_1)]\n",
    "n_samples = len(digits_images)\n",
    "\n",
    "print(exercise_data.shape) ; print(exercise_target.shape) ; print(digits_images.shape) ; print(n_samples)"
   ]
  },
  {
   "cell_type": "code",
   "execution_count": 19,
   "metadata": {},
   "outputs": [],
   "source": [
    "#For the support vector clasifier\n",
    "classifier = svm.SVC(C = 1, gamma=0.0001, kernel='linear')"
   ]
  },
  {
   "cell_type": "markdown",
   "metadata": {},
   "source": [
    "The classifier is train with the 80% of the data."
   ]
  },
  {
   "cell_type": "code",
   "execution_count": 20,
   "metadata": {},
   "outputs": [
    {
     "name": "stdout",
     "output_type": "stream",
     "text": [
      "[5 5 5 5 1 5 1 1 1 5 5 1 1 1 1 1 5 1 5 5 5 1 5 1 5 1 5 5 5 5 1 5 1 1 1 5 5\n",
      " 1 1 1 1 1 5 1 5 5 5 1 5 1 5 1 5 5 5 5 1 5 1 1 1 5 5 1 1 1 1 1 5 1 5 5 5]\n",
      "[5 5 5 5 1 5 1 1 1 5 5 1 1 1 1 1 5 1 5 5 5 1 5 1 5 1 5 1 5 5 1 5 1 1 1 5 5\n",
      " 1 1 1 1 1 5 1 5 5 5 1 5 1 5 1 5 5 5 5 1 5 1 1 1 5 5 1 1 1 1 1 5 1 5 5 5]\n"
     ]
    }
   ],
   "source": [
    "classifier.fit(exercise_data[:int(n_samples*0.8)], exercise_target[:int(n_samples*0.8)])\n",
    "\n",
    "#Now predict the value of the digit on the second half:\n",
    "expected = exercise_target[int(n_samples*0.8):]\n",
    "predicted = classifier.predict(exercise_data[int(n_samples*0.8):])\n",
    "print(expected) ; print(predicted)"
   ]
  },
  {
   "cell_type": "code",
   "execution_count": 21,
   "metadata": {
    "scrolled": true
   },
   "outputs": [
    {
     "name": "stdout",
     "output_type": "stream",
     "text": [
      "Classification report for classifier SVC(C=1, cache_size=200, class_weight=None, coef0=0.0,\n",
      "  decision_function_shape='ovr', degree=3, gamma=0.0001, kernel='linear',\n",
      "  max_iter=-1, probability=False, random_state=None, shrinking=True,\n",
      "  tol=0.001, verbose=False):\n",
      "              precision    recall  f1-score   support\n",
      "\n",
      "           1       0.97      1.00      0.99        36\n",
      "           5       1.00      0.97      0.99        37\n",
      "\n",
      "   micro avg       0.99      0.99      0.99        73\n",
      "   macro avg       0.99      0.99      0.99        73\n",
      "weighted avg       0.99      0.99      0.99        73\n",
      "\n",
      "\n",
      "Confusion matrix:\n",
      "[[36  0]\n",
      " [ 1 36]]\n"
     ]
    },
    {
     "data": {
      "image/png": "[encoded data removed]",
      "text/plain": [
       "<Figure size 432x288 with 8 Axes>"
      ]
     },
     "metadata": {
      "needs_background": "light"
     },
     "output_type": "display_data"
    }
   ],
   "source": [
    "print(\"Classification report for classifier %s:\\n%s\\n\"\n",
    "      % (classifier, metrics.classification_report(expected, predicted)))\n",
    "print(\"Confusion matrix:\\n%s\" % metrics.confusion_matrix(expected, predicted))\n",
    "\n",
    "images_and_predictions = list(zip(digits_images[int(n_samples*0.8):], predicted))\n",
    "aux=0\n",
    "for index, (image, prediction) in enumerate(images_and_predictions[:8]):\n",
    "    plt.subplot(2, 4, index + 1)\n",
    "    plt.axis('off')\n",
    "    plt.imshow(image, cmap=plt.cm.gray_r, interpolation='nearest')\n",
    "    plt.title('Prediction: %i' % prediction)\n",
    "    #print(expected[aux],predicted[aux])\n",
    "    aux+=1\n",
    "plt.show()"
   ]
  },
  {
   "cell_type": "markdown",
   "metadata": {},
   "source": [
    "for the plot of training and test error vs. the regularization parameter"
   ]
  },
  {
   "cell_type": "code",
   "execution_count": 22,
   "metadata": {},
   "outputs": [
    {
     "data": {
      "image/png": "[encoded data removed]",
      "text/plain": [
       "<Figure size 720x504 with 1 Axes>"
      ]
     },
     "metadata": {
      "needs_background": "light"
     },
     "output_type": "display_data"
    },
    {
     "name": "stdout",
     "output_type": "stream",
     "text": [
      "0.0 0.0007609029098247072\n"
     ]
    }
   ],
   "source": [
    "c=np.logspace(-15,14,26,base=2)\n",
    "error_train=[]\n",
    "error_test=[]\n",
    "for i in range(len(c)):\n",
    "    #print(c[i])\n",
    "    classifier = svm.SVC(C = c[i], gamma =0.0001, kernel='linear')\n",
    "    classifier.fit(exercise_data[:int(n_samples*0.80)], exercise_target[:int(n_samples*0.80)])\n",
    "    expected_test = exercise_target[int(n_samples*0.80):]\n",
    "    predicted_test = classifier.predict(exercise_data[int(n_samples*0.80):])\n",
    "    expected_train = exercise_target[:int(n_samples*0.80)]\n",
    "    predicted_train = classifier.predict(exercise_data[:int(n_samples*0.80)])\n",
    "    test_score=mean_squared_error(predicted_test, expected_test)\n",
    "    train_score=mean_squared_error(predicted_train, expected_train)\n",
    "    error_train.append(train_score)\n",
    "    error_test.append(test_score)\n",
    "#print(error)\n",
    "plt.figure(figsize=(10,7))\n",
    "plt.plot(c,error_train,label=\"error train\")\n",
    "plt.plot(c,error_test,label=\"error test\")\n",
    "plt.axvline(x=c[np.argmin(error_test)],linewidth=0.9,color=\"rebeccapurple\")\n",
    "plt.xscale(\"log\")\n",
    "plt.legend()\n",
    "plt.show()\n",
    "print(np.min(error_test),c[np.argmin(error_test)])"
   ]
  },
  {
   "cell_type": "code",
   "execution_count": 23,
   "metadata": {},
   "outputs": [
    {
     "data": {
      "text/plain": [
       "-7.181004790601033"
      ]
     },
     "execution_count": 23,
     "metadata": {},
     "output_type": "execute_result"
    }
   ],
   "source": [
    "np.log(c[np.argmin(error_test)])"
   ]
  },
  {
   "cell_type": "code",
   "execution_count": 24,
   "metadata": {},
   "outputs": [
    {
     "data": {
      "text/plain": [
       "0.0007609029098247072"
      ]
     },
     "execution_count": 24,
     "metadata": {},
     "output_type": "execute_result"
    }
   ],
   "source": [
    "c[np.argmin(error_test)]"
   ]
  },
  {
   "cell_type": "markdown",
   "metadata": {},
   "source": [
    "For the optimal C in the model (0.009765625), we made a plot for the discriminant function weights."
   ]
  },
  {
   "cell_type": "code",
   "execution_count": 25,
   "metadata": {},
   "outputs": [
    {
     "data": {
      "image/png": "[encoded data removed]",
      "text/plain": [
       "<Figure size 432x288 with 2 Axes>"
      ]
     },
     "metadata": {
      "needs_background": "light"
     },
     "output_type": "display_data"
    }
   ],
   "source": [
    "classifier_bestc = svm.SVC(C = (c[np.argmin(error_test)]), kernel='linear')\n",
    "classifier_bestc.fit(exercise_data[:int(n_samples*0.80)], exercise_target[:int(n_samples*0.80)])\n",
    "weights=classifier_bestc.coef_\n",
    "plt.pcolor(weights.reshape((8,8)),cmap=\"coolwarm\")\n",
    "plt.colorbar()\n",
    "plt.show()"
   ]
  },
  {
   "cell_type": "markdown",
   "metadata": {},
   "source": [
    "For diferents C in the model."
   ]
  },
  {
   "cell_type": "code",
   "execution_count": 26,
   "metadata": {},
   "outputs": [
    {
     "data": {
      "image/png": "[encoded data removed]",
      "text/plain": [
       "<Figure size 432x288 with 2 Axes>"
      ]
     },
     "metadata": {
      "needs_background": "light"
     },
     "output_type": "display_data"
    },
    {
     "data": {
      "image/png": "[encoded data removed]",
      "text/plain": [
       "<Figure size 432x288 with 2 Axes>"
      ]
     },
     "metadata": {
      "needs_background": "light"
     },
     "output_type": "display_data"
    },
    {
     "data": {
      "image/png": "[encoded data removed]",
      "text/plain": [
       "<Figure size 432x288 with 2 Axes>"
      ]
     },
     "metadata": {
      "needs_background": "light"
     },
     "output_type": "display_data"
    },
    {
     "data": {
      "image/png": "[encoded data removed]",
      "text/plain": [
       "<Figure size 432x288 with 2 Axes>"
      ]
     },
     "metadata": {
      "needs_background": "light"
     },
     "output_type": "display_data"
    }
   ],
   "source": [
    "c_n=[2**-15,2**-5,2**5,2**10]\n",
    "weight_matrix=[]\n",
    "for i in range(len(c_n)):\n",
    "    classifier_c = svm.SVC(C = c_n[i], kernel='linear')\n",
    "    classifier_c.fit(exercise_data[:int(n_samples*0.80)], exercise_target[:int(n_samples*0.80)])\n",
    "    weights=classifier_c.coef_\n",
    "    weight_matrix.append(weights.reshape((8,8)))\n",
    "    plt.pcolor(weights.reshape((8,8)),cmap=\"coolwarm\")\n",
    "    plt.colorbar()\n",
    "    plt.show()\n",
    "weight_matrix=np.array(weight_matrix)"
   ]
  },
  {
   "cell_type": "markdown",
   "metadata": {},
   "source": [
    "In order to compare the weights matrix, we calculated the distance between them for $C=(2^{-15},2^{-14},...,2^{10})$. "
   ]
  },
  {
   "cell_type": "code",
   "execution_count": 27,
   "metadata": {},
   "outputs": [
    {
     "data": {
      "image/png": "[encoded data removed]",
      "text/plain": [
       "<Figure size 720x504 with 1 Axes>"
      ]
     },
     "metadata": {
      "needs_background": "light"
     },
     "output_type": "display_data"
    }
   ],
   "source": [
    "weight_matrix=[]\n",
    "\n",
    "for i in range(len(c)):\n",
    "    classifier_c = svm.SVC(C = c[i], kernel='linear')\n",
    "    classifier_c.fit(exercise_data[:int(n_samples*0.80)], exercise_target[:int(n_samples*0.80)])\n",
    "    weights=classifier_c.coef_\n",
    "    weight_matrix.append(weights.reshape((8,8)))\n",
    "weight_matrix=np.array(weight_matrix)\n",
    "w=len(weight_matrix)\n",
    "a=weight_matrix[0]\n",
    "distances_weight=[]\n",
    "for j in range(1,w):\n",
    "    b=weight_matrix[j]\n",
    "    a_b=a-b\n",
    "    distance_ab=np.trace(a_b*np.transpose(a_b))\n",
    "    distances_weight.append(distance_ab)\n",
    "    a=b\n",
    "plt.figure(figsize=(10,7))\n",
    "plt.plot(c[1:],distances_weight, color=\"Rebeccapurple\")\n",
    "plt.xlabel(r\"$C$\")\n",
    "plt.ylabel(\"distances\")\n",
    "plt.xscale(\"log\")\n",
    "plt.title(\"Distances between weight matrices with diferents C\")\n",
    "plt.show()"
   ]
  },
  {
   "cell_type": "markdown",
   "metadata": {},
   "source": [
    "This plot is a simple way to compare the behaviour of the model when the complexity parameter ($C$) changes. As the complexity parameter increase the diference between the models tends to be zero, having an elbow around $C\\approx10^{-1}$, which indicates that further values of complexity are not necesary since the weights of the model are not changing at all, how ever, by adding more data to the model choosing a $C$ larger than the one found in here, could cause an overfitting."
   ]
  },
  {
   "cell_type": "markdown",
   "metadata": {},
   "source": [
    "#### d. Train an SVM for detecting whether a word belongs to French or Spanish"
   ]
  },
  {
   "cell_type": "code",
   "execution_count": 28,
   "metadata": {},
   "outputs": [],
   "source": [
    "url=\"https://en.wiktionary.org/wiki/Wiktionary:Frequency_lists/French_wordlist_opensubtitles_5000\"\n",
    "a=pd.read_html(url,header=0)[0]\n",
    "a = a.head(2000)"
   ]
  },
  {
   "cell_type": "code",
   "execution_count": 29,
   "metadata": {},
   "outputs": [
    {
     "name": "stdout",
     "output_type": "stream",
     "text": [
      "https://en.wiktionary.org/wiki/Wiktionary:Frequency_lists/Spanish1000\n",
      "https://en.wiktionary.org/wiki/Wiktionary:Frequency_lists/Spanish1001-2000\n",
      "https://en.wiktionary.org/wiki/Wiktionary:Frequency_lists/Spanish2001-3000\n",
      "https://en.wiktionary.org/wiki/Wiktionary:Frequency_lists/Spanish3001-4000\n",
      "https://en.wiktionary.org/wiki/Wiktionary:Frequency_lists/Spanish4001-5000\n"
     ]
    }
   ],
   "source": [
    "URLS= [\"https://en.wiktionary.org/wiki/Wiktionary:Frequency_lists/Spanish1000\", \n",
    "       \"https://en.wiktionary.org/wiki/Wiktionary:Frequency_lists/Spanish1001-2000\",\n",
    "       \"https://en.wiktionary.org/wiki/Wiktionary:Frequency_lists/Spanish2001-3000\",\n",
    "       \"https://en.wiktionary.org/wiki/Wiktionary:Frequency_lists/Spanish3001-4000\",\n",
    "       \"https://en.wiktionary.org/wiki/Wiktionary:Frequency_lists/Spanish4001-5000\"\n",
    "      ]\n",
    "tables = []\n",
    "for url in URLS:\n",
    "    print(url)\n",
    "    tables.append(pd.read_html(url,header=0)[0])\n",
    "b=pd.concat(tables,ignore_index = True)\n",
    "b=b.head(2000)"
   ]
  },
  {
   "cell_type": "code",
   "execution_count": 30,
   "metadata": {},
   "outputs": [],
   "source": [
    "spanish_words = b[b['word'].str.len() >= 4]['word']\n",
    "french_words = a[a['word'].str.len() >= 4]['word']"
   ]
  },
  {
   "cell_type": "code",
   "execution_count": 31,
   "metadata": {},
   "outputs": [
    {
     "data": {
      "text/plain": [
       "1831"
      ]
     },
     "execution_count": 31,
     "metadata": {},
     "output_type": "execute_result"
    }
   ],
   "source": [
    "len(spanish_words)"
   ]
  },
  {
   "cell_type": "code",
   "execution_count": 32,
   "metadata": {},
   "outputs": [
    {
     "data": {
      "text/plain": [
       "1771"
      ]
     },
     "execution_count": 32,
     "metadata": {},
     "output_type": "execute_result"
    }
   ],
   "source": [
    "len(french_words)"
   ]
  },
  {
   "cell_type": "code",
   "execution_count": 33,
   "metadata": {},
   "outputs": [],
   "source": [
    "french_without_accent = np.array(french_words.apply(unidecode.unidecode))\n",
    "spanish_without_accent = np.array(spanish_words.apply(unidecode.unidecode))\n",
    "\n",
    "#Une todo en un input space y un objetivo (una variable de 0 y 1 que dice si es frances o español)\n",
    "input_space_words = np.append(french_without_accent, spanish_without_accent)\n",
    "language_words = np.append(np.repeat(0,len(french_without_accent)) , \n",
    "                           np.repeat(1,len(spanish_without_accent)))"
   ]
  },
  {
   "cell_type": "code",
   "execution_count": 34,
   "metadata": {},
   "outputs": [],
   "source": [
    "#Genera la matriz de n-gramas\n",
    "vectorizer = CountVectorizer(analyzer = 'char',  ngram_range=(1, 3))\n",
    "input_space = vectorizer.fit_transform(input_space_words)"
   ]
  },
  {
   "cell_type": "code",
   "execution_count": 35,
   "metadata": {},
   "outputs": [],
   "source": [
    "#Construye los kernels de chi y cosine\n",
    "cosine_kernel_similarity = metrics.pairwise.cosine_similarity(input_space.toarray())\n",
    "chi_kernel_similarity = metrics.pairwise.chi2_kernel(input_space.toarray())"
   ]
  },
  {
   "cell_type": "code",
   "execution_count": 36,
   "metadata": {},
   "outputs": [],
   "source": [
    "#Construye el kernel histogram intersection\n",
    "space = input_space.toarray()\n",
    "space = np.apply_along_axis( lambda x: x/x.sum(), axis =1 , arr = space)\n",
    "distance_matrix = []\n",
    "for idx1 in range(space.shape[0]):\n",
    "    row_ac = []\n",
    "    for idx2 in range(space.shape[0]):\n",
    "        minac = np.minimum(space[idx1],space[idx2])\n",
    "        row_ac.append(minac.sum())    \n",
    "    distance_matrix.append(row_ac)"
   ]
  },
  {
   "cell_type": "code",
   "execution_count": 37,
   "metadata": {},
   "outputs": [
    {
     "data": {
      "text/plain": [
       "(3602, 3602)"
      ]
     },
     "execution_count": 37,
     "metadata": {},
     "output_type": "execute_result"
    }
   ],
   "source": [
    "distance = np.array(distance_matrix)\n",
    "distance.shape"
   ]
  },
  {
   "cell_type": "markdown",
   "metadata": {},
   "source": [
    "## Kernel coseno"
   ]
  },
  {
   "cell_type": "code",
   "execution_count": 38,
   "metadata": {},
   "outputs": [],
   "source": [
    "from sklearn.model_selection import train_test_split  \n",
    "X_train, X_test, y_train, y_test = train_test_split(cosine_kernel_similarity, language_words, test_size = 0.20)  "
   ]
  },
  {
   "cell_type": "code",
   "execution_count": 39,
   "metadata": {},
   "outputs": [],
   "source": [
    "import warnings\n",
    "warnings.filterwarnings('ignore')"
   ]
  },
  {
   "cell_type": "code",
   "execution_count": 42,
   "metadata": {},
   "outputs": [],
   "source": [
    "c=np.logspace(-15,10,26,base=2)\n",
    "c_Score=[]\n",
    "for c_value in c:\n",
    "    clf =  LinearSVC(C = c_value)\n",
    "    #clf =  LinearSVC(C = 1)\n",
    "    score=cross_val_score(clf, X_train, y_train, cv = 5)\n",
    "    c_Score.append(score.mean())"
   ]
  },
  {
   "cell_type": "code",
   "execution_count": 43,
   "metadata": {},
   "outputs": [
    {
     "name": "stdout",
     "output_type": "stream",
     "text": [
      "The optimal c is: C= 2.0\n"
     ]
    }
   ],
   "source": [
    "print(\"The optimal c is: C=\",c[np.argmax(c_Score)])"
   ]
  },
  {
   "cell_type": "code",
   "execution_count": 44,
   "metadata": {},
   "outputs": [
    {
     "name": "stdout",
     "output_type": "stream",
     "text": [
      "Classification report for classifier LinearSVC(C=2.0, class_weight=None, dual=True, fit_intercept=True,\n",
      "     intercept_scaling=1, loss='squared_hinge', max_iter=1000,\n",
      "     multi_class='ovr', penalty='l2', random_state=None, tol=0.0001,\n",
      "     verbose=0):\n",
      "              precision    recall  f1-score   support\n",
      "\n",
      "           0       0.88      0.88      0.88       360\n",
      "           1       0.88      0.88      0.88       361\n",
      "\n",
      "   micro avg       0.88      0.88      0.88       721\n",
      "   macro avg       0.88      0.88      0.88       721\n",
      "weighted avg       0.88      0.88      0.88       721\n",
      "\n",
      "\n",
      "Confusion matrix:\n",
      "[[315  45]\n",
      " [ 43 318]]\n"
     ]
    }
   ],
   "source": [
    "clf =  LinearSVC(C = c[np.argmax(c_Score)])\n",
    "clf.fit(X_train, y_train)\n",
    "#Now predict the value of the digit on the second half:\n",
    "expected = y_test\n",
    "predicted = clf.predict(X_test)\n",
    "print(\"Classification report for classifier %s:\\n%s\\n\"\n",
    "      % (clf, metrics.classification_report(expected, predicted)))\n",
    "print(\"Confusion matrix:\\n%s\" % metrics.confusion_matrix(expected, predicted))"
   ]
  },
  {
   "cell_type": "markdown",
   "metadata": {},
   "source": [
    "## Kernel chi"
   ]
  },
  {
   "cell_type": "code",
   "execution_count": 45,
   "metadata": {},
   "outputs": [],
   "source": [
    "X_train, X_test, y_train, y_test = train_test_split(chi_kernel_similarity, language_words, test_size = 0.20)  "
   ]
  },
  {
   "cell_type": "code",
   "execution_count": 46,
   "metadata": {},
   "outputs": [
    {
     "name": "stdout",
     "output_type": "stream",
     "text": [
      "The optimal c is: C= 512.0\n",
      "Classification report for classifier LinearSVC(C=512.0, class_weight=None, dual=True, fit_intercept=True,\n",
      "     intercept_scaling=1, loss='squared_hinge', max_iter=1000,\n",
      "     multi_class='ovr', penalty='l2', random_state=None, tol=0.0001,\n",
      "     verbose=0):\n",
      "              precision    recall  f1-score   support\n",
      "\n",
      "           0       0.85      0.33      0.48       356\n",
      "           1       0.59      0.94      0.73       365\n",
      "\n",
      "   micro avg       0.64      0.64      0.64       721\n",
      "   macro avg       0.72      0.64      0.60       721\n",
      "weighted avg       0.72      0.64      0.61       721\n",
      "\n",
      "\n",
      "Confusion matrix:\n",
      "[[119 237]\n",
      " [ 21 344]]\n"
     ]
    }
   ],
   "source": [
    "c=np.logspace(-15,10,26,base=2)\n",
    "c_Score=[]\n",
    "for c_value in c:\n",
    "    clf =  LinearSVC(C = c_value)\n",
    "    #clf =  LinearSVC(C = 1)\n",
    "    score=cross_val_score(clf, X_train, y_train, cv = 5)\n",
    "    c_Score.append(score.mean())\n",
    "print(\"The optimal c is: C=\",c[np.argmax(c_Score)])\n",
    "clf =  LinearSVC(C = c[np.argmax(c_Score)])\n",
    "clf.fit(X_train, y_train)\n",
    "#Now predict the value of the digit on the second half:\n",
    "expected = y_test\n",
    "predicted = clf.predict(X_test)\n",
    "print(\"Classification report for classifier %s:\\n%s\\n\"\n",
    "      % (clf, metrics.classification_report(expected, predicted)))\n",
    "print(\"Confusion matrix:\\n%s\" % metrics.confusion_matrix(expected, predicted))"
   ]
  },
  {
   "cell_type": "markdown",
   "metadata": {},
   "source": [
    "## Kernel intersection"
   ]
  },
  {
   "cell_type": "code",
   "execution_count": 47,
   "metadata": {},
   "outputs": [],
   "source": [
    "X_train, X_test, y_train, y_test = train_test_split(distance, language_words, test_size = 0.20)"
   ]
  },
  {
   "cell_type": "code",
   "execution_count": 48,
   "metadata": {},
   "outputs": [
    {
     "name": "stdout",
     "output_type": "stream",
     "text": [
      "The optimal c is: C= 1.0\n",
      "Classification report for classifier LinearSVC(C=1.0, class_weight=None, dual=True, fit_intercept=True,\n",
      "     intercept_scaling=1, loss='squared_hinge', max_iter=1000,\n",
      "     multi_class='ovr', penalty='l2', random_state=None, tol=0.0001,\n",
      "     verbose=0):\n",
      "              precision    recall  f1-score   support\n",
      "\n",
      "           0       0.89      0.89      0.89       342\n",
      "           1       0.90      0.90      0.90       379\n",
      "\n",
      "   micro avg       0.90      0.90      0.90       721\n",
      "   macro avg       0.90      0.90      0.90       721\n",
      "weighted avg       0.90      0.90      0.90       721\n",
      "\n",
      "\n",
      "Confusion matrix:\n",
      "[[304  38]\n",
      " [ 37 342]]\n"
     ]
    }
   ],
   "source": [
    "c=np.logspace(-15,10,26,base=2)\n",
    "c_Score=[]\n",
    "for c_value in c:\n",
    "    clf =  LinearSVC(C = c_value)\n",
    "    #clf =  LinearSVC(C = 1)\n",
    "    score=cross_val_score(clf, X_train, y_train, cv = 5)\n",
    "    c_Score.append(score.mean())\n",
    "print(\"The optimal c is: C=\",c[np.argmax(c_Score)])\n",
    "clf =  LinearSVC(C = c[np.argmax(c_Score)])\n",
    "clf.fit(X_train, y_train)\n",
    "#Now predict the value of the digit on the second half:\n",
    "expected = y_test\n",
    "predicted = clf.predict(X_test)\n",
    "print(\"Classification report for classifier %s:\\n%s\\n\"\n",
    "      % (clf, metrics.classification_report(expected, predicted)))\n",
    "print(\"Confusion matrix:\\n%s\" % metrics.confusion_matrix(expected, predicted))"
   ]
  },
  {
   "cell_type": "markdown",
   "metadata": {},
   "source": [
    "## Kernel SSK"
   ]
  },
  {
   "cell_type": "code",
   "execution_count": 49,
   "metadata": {},
   "outputs": [],
   "source": [
    "%load_ext Cython"
   ]
  },
  {
   "cell_type": "code",
   "execution_count": 50,
   "metadata": {},
   "outputs": [],
   "source": [
    "%%cython\n",
    "import numpy as np\n",
    "cimport numpy as np\n",
    "\n",
    "from cpython cimport array\n",
    "import array\n",
    "\n",
    "cimport cython\n",
    "\n",
    "def ssk(s, t, int n, float lbda, accum=False):\n",
    "    \"\"\"s and t are strings, either numpy.str_ or python str, or a list of chars\"\"\"\n",
    "    s_array = array.array('l', [ord(c) for c in s])\n",
    "    t_array = array.array('l', [ord(c) for c in t])\n",
    "    return ssk_array(s_array, t_array, n, lbda, accum)\n",
    "\n",
    "# Kernel defined by Lodhi et al. (2002)\n",
    "@cython.boundscheck(False) # turn off bounds-checking for entire function\n",
    "@cython.wraparound(False)  # turn off negative index wrapping for entire function\n",
    "def ssk_array(array.array s_, array.array t_, int n, float lbda, accum=False):\n",
    "    cdef int lens, lent\n",
    "    cdef int i, sj, tk\n",
    "    cdef float toret\n",
    "    cdef long[:] s # this reduces the overhead 10x fold!!!\n",
    "    cdef long[:] t\n",
    "\n",
    "    s = s_ if s_.typecode == 'l' else array.array('l', [int(c) for c in s_])\n",
    "    t = t_ if t_.typecode == 'l' else array.array('l', [int(c) for c in t_])\n",
    "\n",
    "    lens, lent = len(s), len(t)\n",
    "    #k_prim = (-1)*np.ones( (n+1, lens, lent) )\n",
    "    cdef np.ndarray[np.float64_t, ndim=3] \\\n",
    "        k_prim = np.zeros( (n, lens, lent), dtype=np.float )\n",
    "\n",
    "    k_prim[0,:,:] = 1\n",
    "\n",
    "    for i in range(1,n):\n",
    "        for sj in range(i,lens):\n",
    "            toret = 0.\n",
    "            for tk in range(i,lent):\n",
    "                if s[sj-1]==t[tk-1]: # trick taken from shogun implemantion of SSK\n",
    "                    toret = lbda * (toret + lbda*k_prim[i-1,sj-1,tk-1])\n",
    "                else:\n",
    "                    toret *= lbda\n",
    "                k_prim[i,sj,tk] = toret + lbda * k_prim[i, sj-1, tk]\n",
    "\n",
    "    cdef int start = 0 if accum else n-1\n",
    "    cdef float k = 0.\n",
    "\n",
    "    for i in range(n):\n",
    "        for sj in range(i,lens):\n",
    "            for tk in range(i,lent):\n",
    "                if s[sj]==t[tk]:\n",
    "                    k += lbda*lbda*k_prim[i,sj,tk]\n",
    "\n",
    "    # print( [len(list(i for (sj,tk,i) in k_prim if i==m-1)) for m in range(n)] )\n",
    "    return k\n",
    "\n",
    "def string_kernel(xs, ys, n, lbda):\n",
    "    \"\"\"xs and ys are numpy arrays of strings or arrays of ints, n an integer and lbda a bool\"\"\"\n",
    "    if len(xs.shape) != 2 or len(ys.shape) != 2 or xs.shape[1] != 1 or ys.shape[1] != 1:\n",
    "        raise \"The shape of the features is wrong, it must be (n,1)\"\n",
    "\n",
    "    cdef int lenxs, lenys\n",
    "    cdef int i, j\n",
    "    cdef np.ndarray[np.float64_t, ndim=2] mat, mat_xs, mat_ys\n",
    "    lenxs, lenys = xs.shape[0], ys.shape[0]\n",
    "\n",
    "    mat = np.zeros( (lenxs, lenys) )\n",
    "\n",
    "    ssk_fun = ssk_array if xs.dtype == 'O' and isinstance(xs[0,0], array.array) else ssk\n",
    "\n",
    "    # If both lists are equal, then the resulting matrix is symetric, there is no need to\n",
    "    # calculate the hole thing\n",
    "    if lenxs == lenys and np.array_equal(xs, ys):\n",
    "        for i in range(lenxs):\n",
    "            for j in range(i,lenys):\n",
    "                mat[j,i] = mat[i,j] = ssk_fun(xs[i,0], ys[j,0], n, lbda, accum=True)\n",
    "\n",
    "        mat_xs = mat_ys = mat.diagonal().reshape( (lenxs, 1) )\n",
    "\n",
    "    else:\n",
    "        for i in range(lenxs):\n",
    "            for j in range(lenys):\n",
    "                mat[i,j] = ssk_fun(xs[i,0], ys[j,0], n, lbda, accum=True)\n",
    "\n",
    "        mat_xs = np.zeros( (lenxs, 1) )\n",
    "        mat_ys = np.zeros( (lenys, 1) )\n",
    "\n",
    "        for i in range(lenxs):\n",
    "            mat_xs[i] = ssk_fun(xs[i,0], xs[i,0], n, lbda, accum=True)\n",
    "        for j in range(lenys):\n",
    "            mat_ys[j] = ssk_fun(ys[j,0], ys[j,0], n, lbda, accum=True)\n",
    "\n",
    "    return np.divide(mat, np.sqrt(mat_ys.T * mat_xs))"
   ]
  },
  {
   "cell_type": "code",
   "execution_count": 51,
   "metadata": {},
   "outputs": [
    {
     "name": "stdout",
     "output_type": "stream",
     "text": [
      "Testing...\n",
      "[[0.40824829 0.23570226]\n",
      " [0.40824829 0.23570226]\n",
      " [0.31622777 0.18257419]\n",
      " [0.31622777 0.18257419]\n",
      " [0.25819889 0.1490712 ]]\n",
      "1572869636096.0\n"
     ]
    }
   ],
   "source": [
    "    print(\"Testing...\")\n",
    "    lbda = .6\n",
    "    assert abs( ssk(\"cat\", \"cart\", 4, lbda, accum=True) - (3*lbda**2 + lbda**4 + lbda**5 + 2*lbda**7) ) < 1e-6\n",
    "    assert ssk(\"science is organized knowledge\", \"wisdom is organized life\", 4, 1, accum=True) == 20538.0\n",
    "\n",
    "    xs = np.array( [\"cat\", \"car\", \"cart\", \"camp\", \"shard\"] ).reshape( (5,1) )\n",
    "    ys = np.array( [\"a\", \"cd\"] ).reshape( (2,1) )\n",
    "    print( string_kernel(xs, ys, 2, 1.) )\n",
    "    assert abs( string_kernel(xs, ys, 2, 1.)[0,0] - 0.40824829 ) < 1e-6\n",
    "\n",
    "    test = \"This is a very long string, just to test how fast this implementation of ssk is. It should look like the computation tooks no time, unless you're running this in a potato pc\"\n",
    "    print( ssk(test, test, 30, .8, accum=True) )\n"
   ]
  },
  {
   "cell_type": "code",
   "execution_count": 52,
   "metadata": {},
   "outputs": [],
   "source": [
    "size = len(input_space_words)\n",
    "xs = input_space_words.reshape((size,1))\n",
    "ys = input_space_words.reshape((size,1))\n",
    "distance_ssk = np.array(string_kernel(xs, ys, 3, 1.))"
   ]
  },
  {
   "cell_type": "code",
   "execution_count": 53,
   "metadata": {},
   "outputs": [
    {
     "data": {
      "text/plain": [
       "(3602, 3602)"
      ]
     },
     "execution_count": 53,
     "metadata": {},
     "output_type": "execute_result"
    }
   ],
   "source": [
    "distance_ssk.shape"
   ]
  },
  {
   "cell_type": "code",
   "execution_count": 54,
   "metadata": {},
   "outputs": [],
   "source": [
    "X_train, X_test, y_train, y_test = train_test_split(distance_ssk, language_words, test_size = 0.20)  "
   ]
  },
  {
   "cell_type": "code",
   "execution_count": 55,
   "metadata": {},
   "outputs": [
    {
     "name": "stdout",
     "output_type": "stream",
     "text": [
      "The optimal c is: C= 0.5\n",
      "Classification report for classifier LinearSVC(C=0.5, class_weight=None, dual=True, fit_intercept=True,\n",
      "     intercept_scaling=1, loss='squared_hinge', max_iter=1000,\n",
      "     multi_class='ovr', penalty='l2', random_state=None, tol=0.0001,\n",
      "     verbose=0):\n",
      "              precision    recall  f1-score   support\n",
      "\n",
      "           0       0.86      0.90      0.88       373\n",
      "           1       0.89      0.85      0.87       348\n",
      "\n",
      "   micro avg       0.88      0.88      0.88       721\n",
      "   macro avg       0.88      0.87      0.87       721\n",
      "weighted avg       0.88      0.88      0.88       721\n",
      "\n",
      "\n",
      "Confusion matrix:\n",
      "[[336  37]\n",
      " [ 53 295]]\n"
     ]
    }
   ],
   "source": [
    "c=np.logspace(-15,10,26,base=2)\n",
    "c_Score=[]\n",
    "for c_value in c:\n",
    "    clf =  LinearSVC(C = c_value)\n",
    "    #clf =  LinearSVC(C = 1)\n",
    "    score=cross_val_score(clf, X_train, y_train, cv = 5)\n",
    "    c_Score.append(score.mean())\n",
    "print(\"The optimal c is: C=\",c[np.argmax(c_Score)])\n",
    "clf =  LinearSVC(C = c[np.argmax(c_Score)])\n",
    "clf.fit(X_train, y_train)\n",
    "#Now predict the value of the digit on the second half:\n",
    "expected = y_test\n",
    "predicted = clf.predict(X_test)\n",
    "print(\"Classification report for classifier %s:\\n%s\\n\"\n",
    "      % (clf, metrics.classification_report(expected, predicted)))\n",
    "print(\"Confusion matrix:\\n%s\" % metrics.confusion_matrix(expected, predicted))"
   ]
  },
  {
   "cell_type": "markdown",
   "metadata": {},
   "source": [
    "For each kernel model, we calculated the maximum $C-score$ in order to find the optimal $C$ for the models, we saw that this parameter is very variable. \n",
    "for the four models, we find that chi-kernel model don't have a good performance, with a f1-score=0.48, how ever, the other three models present a good classification with a metrics scores greather than 0.8.\n",
    "We calculated a cross-validation with 5 folds, that support or validated the accurate of the models."
   ]
  },
  {
   "cell_type": "code",
   "execution_count": null,
   "metadata": {},
   "outputs": [],
   "source": []
  }
 ],
 "metadata": {
  "kernelspec": {
   "display_name": "Python 3",
   "language": "python",
   "name": "python3"
  },
  "language_info": {
   "codemirror_mode": {
    "name": "ipython",
    "version": 3
   },
   "file_extension": ".py",
   "mimetype": "text/x-python",
   "name": "python",
   "nbconvert_exporter": "python",
   "pygments_lexer": "ipython3",
   "version": "3.7.3"
  },
  "toc": {
   "base_numbering": 1,
   "nav_menu": {},
   "number_sections": true,
   "sideBar": true,
   "skip_h1_title": false,
   "title_cell": "Table of Contents",
   "title_sidebar": "Contents",
   "toc_cell": false,
   "toc_position": {},
   "toc_section_display": true,
   "toc_window_display": true
  },
  "varInspector": {
   "cols": {
    "lenName": 16,
    "lenType": 16,
    "lenVar": 40
   },
   "kernels_config": {
    "python": {
     "delete_cmd_postfix": "",
     "delete_cmd_prefix": "del ",
     "library": "var_list.py",
     "varRefreshCmd": "print(var_dic_list())"
    },
    "r": {
     "delete_cmd_postfix": ") ",
     "delete_cmd_prefix": "rm(",
     "library": "var_list.r",
     "varRefreshCmd": "cat(var_dic_list()) "
    }
   },
   "types_to_exclude": [
    "module",
    "function",
    "builtin_function_or_method",
    "instance",
    "_Feature"
   ],
   "window_display": false
  }
 },
 "nbformat": 4,
 "nbformat_minor": 1
}
