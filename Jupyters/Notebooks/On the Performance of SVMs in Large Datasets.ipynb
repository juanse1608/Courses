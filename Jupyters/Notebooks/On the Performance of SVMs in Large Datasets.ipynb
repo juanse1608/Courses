{
 "cells": [
  {
   "cell_type": "markdown",
   "metadata": {},
   "source": [
    "# Performance of SVMs in Large Datasets\n",
    "\n",
    "The main idea of this document is to evaluate and analyze the behavior of support vector machines in large datasets and implement some alternative methods such as Cascade SVMs, Bagging-Like SVMs adn Stepwise Baggind SVMs. \n",
    "\n",
    "_(Some other methods can be added)_"
   ]
  },
  {
   "cell_type": "code",
   "execution_count": 26,
   "metadata": {},
   "outputs": [],
   "source": [
    "#Loading all the required libraries\n",
    "from __future__ import absolute_import, division, print_function, unicode_literals\n",
    "\n",
    "import numpy as np\n",
    "import scipy as sc\n",
    "import random as rd\n",
    "import pandas as pd \n",
    "import tensorflow as tf\n",
    "from tensorflow import keras\n",
    "from tensorflow.keras import datasets, layers, models\n",
    "from keras.models import Sequential\n",
    "from keras.layers import Dense\n",
    "from keras.utils import to_categorical\n",
    "from sklearn import datasets,svm,metrics\n",
    "from sklearn.metrics import confusion_matrix\n",
    "from sklearn.model_selection import train_test_split\n",
    "from sklearn.metrics import confusion_matrix\n",
    "from sklearn.svm import LinearSVC\n",
    "from sklearn import preprocessing\n",
    "from sklearn.utils.multiclass import unique_labels\n",
    "from sklearn.datasets import load_digits\n",
    "from sklearn import preprocessing\n",
    "import matplotlib.pylab as plt"
   ]
  },
  {
   "cell_type": "markdown",
   "metadata": {},
   "source": [
    "## MNIST Digits Dataset\n",
    "\n",
    "Let's use the MNIST dataset as a first example and let's check the size of the dataset and the dimension of the input space."
   ]
  },
  {
   "cell_type": "code",
   "execution_count": 27,
   "metadata": {},
   "outputs": [
    {
     "name": "stdout",
     "output_type": "stream",
     "text": [
      "The shape of train images is (60000, 28, 28)\n",
      "The shape of test images is (10000, 28, 28)\n"
     ]
    }
   ],
   "source": [
    "#Loading train and test datasets\n",
    "(train_images, train_labels), (test_images, test_labels) = keras.datasets.mnist.load_data()\n",
    "print('The shape of train images is ' + np.str(train_images.shape))\n",
    "print('The shape of test images is ' + np.str(test_images.shape))"
   ]
  },
  {
   "cell_type": "code",
   "execution_count": 3,
   "metadata": {},
   "outputs": [],
   "source": [
    "#Normalizing pixels, so the take values from 0 to 1\n",
    "train_images, test_images = train_images/255.0, test_images/255.0"
   ]
  },
  {
   "cell_type": "code",
   "execution_count": 15,
   "metadata": {},
   "outputs": [
    {
     "data": {
      "image/png": "[encoded data removed]",
      "text/plain": [
       "<Figure size 1440x720 with 8 Axes>"
      ]
     },
     "metadata": {
      "needs_background": "light"
     },
     "output_type": "display_data"
    }
   ],
   "source": [
    "#Let's visualizate the digits (the first n digits)\n",
    "n = 8\n",
    "plt.figure(figsize=(20,10))\n",
    "for i in range(n):\n",
    "    plt.subplot(1, n, i+1)\n",
    "    plt.axis('off')\n",
    "    plt.imshow(train_images[i,:].reshape((28,28)))\n",
    "    plt.title('Training: %i' % train_labels[i]) "
   ]
  },
  {
   "cell_type": "code",
   "execution_count": 5,
   "metadata": {},
   "outputs": [
    {
     "data": {
      "text/plain": [
       "10"
      ]
     },
     "execution_count": 5,
     "metadata": {},
     "output_type": "execute_result"
    }
   ],
   "source": [
    "#How many labels there are? 10: the digits from 0 to 9\n",
    "size_labels = len(np.unique(train_labels)) ; size_labels"
   ]
  },
  {
   "cell_type": "code",
   "execution_count": 6,
   "metadata": {},
   "outputs": [
    {
     "name": "stdout",
     "output_type": "stream",
     "text": [
      "The shape of train images is (60000, 784)\n",
      "The shape of test images is (10000, 784)\n"
     ]
    }
   ],
   "source": [
    "#We have to reshape the data (extend the pixels in one arrange)\n",
    "train_images_svm = train_images.reshape(len(train_images), 28*28)\n",
    "test_images_svm = test_images.reshape(len(test_images), 28*28)\n",
    "print('The shape of train images is ' + np.str(train_images_svm.shape))\n",
    "print('The shape of test images is ' + np.str(test_images_svm.shape))"
   ]
  },
  {
   "cell_type": "code",
   "execution_count": 25,
   "metadata": {},
   "outputs": [],
   "source": [
    "#Function which objective is to plot in a fancy way the confusion matrix\n",
    "def plot_confusion_matrix(y_true, y_pred, classes,\n",
    "                          normalize=False,\n",
    "                          title=None,\n",
    "                          cmap=plt.cm.Blues):\n",
    "    \"\"\"\n",
    "    This function prints and plots the confusion matrix.\n",
    "    Normalization can be applied by setting `normalize=True`.\n",
    "    \"\"\"\n",
    "    if not title:\n",
    "        if normalize:\n",
    "            title = 'Normalized confusion matrix'\n",
    "        else:\n",
    "            title = 'Confusion matrix, without normalization'\n",
    "\n",
    "    # Compute confusion matrix\n",
    "    cm = confusion_matrix(y_true, y_pred)\n",
    "    # Only use the labels that appear in the data\n",
    "    classes = classes[unique_labels(y_true, y_pred)]\n",
    "    if normalize:\n",
    "        cm = cm.astype('float') / cm.sum(axis=1)[:, np.newaxis]\n",
    "        #print(\"Normalized confusion matrix\")\n",
    "\n",
    "    #print(cm)\n",
    "\n",
    "    fig, ax = plt.subplots(figsize = (10,10))\n",
    "    im = ax.imshow(cm, interpolation='nearest', cmap=cmap)\n",
    "    ax.figure.colorbar(im, ax=ax)\n",
    "    # We want to show all ticks...\n",
    "    ax.set(xticks=np.arange(cm.shape[1]),\n",
    "           yticks=np.arange(cm.shape[0]),\n",
    "           # ... and label them with the respective list entries\n",
    "           xticklabels=classes, yticklabels=classes,\n",
    "           title=title,\n",
    "           ylabel='True label',\n",
    "           xlabel='Predicted label')\n",
    "\n",
    "    # Rotate the tick labels and set their alignment.\n",
    "    plt.setp(ax.get_xticklabels(), rotation=0, ha=\"right\",\n",
    "             rotation_mode=\"anchor\")\n",
    "\n",
    "    # Loop over data dimensions and create text annotations.\n",
    "    fmt = '.2f' if normalize else 'd'\n",
    "    thresh = cm.max() / 2.\n",
    "    for i in range(cm.shape[0]):\n",
    "        for j in range(cm.shape[1]):\n",
    "            ax.text(j, i, format(cm[i, j], fmt),\n",
    "                    ha=\"center\", va=\"center\",\n",
    "                    color=\"white\" if cm[i, j] > thresh else \"black\")\n",
    "    fig.tight_layout()\n",
    "    return ax"
   ]
  },
  {
   "cell_type": "markdown",
   "metadata": {},
   "source": [
    "## SVMs Performance and Analysis\n",
    "\n",
    "The main idea of this section is to see the behavior of regular SVMs in diferent subsamples of the original data."
   ]
  },
  {
   "cell_type": "code",
   "execution_count": 7,
   "metadata": {},
   "outputs": [
    {
     "data": {
      "text/plain": [
       "array([    0,     1,     2, ..., 59997, 59998, 59999])"
      ]
     },
     "execution_count": 7,
     "metadata": {},
     "output_type": "execute_result"
    }
   ],
   "source": [
    "#We generate a random order of the sample \n",
    "random_order = rd.sample(range(len(train_images_svm)), len(train_images_svm))\n",
    "np.sort(random_order)"
   ]
  },
  {
   "cell_type": "code",
   "execution_count": 8,
   "metadata": {},
   "outputs": [
    {
     "data": {
      "text/plain": [
       "60"
      ]
     },
     "execution_count": 8,
     "metadata": {},
     "output_type": "execute_result"
    }
   ],
   "source": [
    "#Pick a number multiple of len(train_images_svm)=60000\n",
    "size_subsample = 1000\n",
    "total_of_subsamples = np.int(len(train_images_svm)/size_subsample) ; total_of_subsamples"
   ]
  },
  {
   "cell_type": "code",
   "execution_count": 9,
   "metadata": {},
   "outputs": [
    {
     "data": {
      "text/plain": [
       "(1000, 784)"
      ]
     },
     "execution_count": 9,
     "metadata": {},
     "output_type": "execute_result"
    }
   ],
   "source": [
    "#We pick one subsample of size size_subsample and evaluate it doing SVMs\n",
    "number_of_subsample = rd.randint(0,total_of_subsamples-1) \n",
    "first = number_of_subsample*size_subsample\n",
    "last = (number_of_subsample+1)*size_subsample\n",
    "values = random_order[first:last]\n",
    "\n",
    "train_subsample_images = train_images_svm[values,:]\n",
    "train_subsample_labels = train_labels[values]\n",
    "train_subsample_images.shape"
   ]
  },
  {
   "cell_type": "code",
   "execution_count": 10,
   "metadata": {},
   "outputs": [
    {
     "data": {
      "image/png": "[encoded data removed]",
      "text/plain": [
       "<Figure size 432x288 with 1 Axes>"
      ]
     },
     "metadata": {
      "needs_background": "light"
     },
     "output_type": "display_data"
    }
   ],
   "source": [
    "#Histogram of the labels. The idea is to veirfy that the digits are balanced\n",
    "train_subsample_labels_pd = pd.DataFrame(train_subsample_labels)\n",
    "train_subsample_labels_pd.plot.hist(grid=False, bins=10, rwidth=0.9, color='#607c8e', legend=None)\n",
    "plt.title('Histogram of Labels')\n",
    "plt.xlabel('Digits')\n",
    "plt.ylabel('Counts')\n",
    "plt.grid(axis='y', alpha=0.75)\n",
    "plt.show()"
   ]
  },
  {
   "cell_type": "code",
   "execution_count": 11,
   "metadata": {},
   "outputs": [],
   "source": [
    "#This auxiliar function returns zero if the two values are equal and one if not\n",
    "def mistake(x,y):\n",
    "    if x == y:\n",
    "        return 0\n",
    "    else:\n",
    "        return 1\n",
    "mistake_vectorized = np.vectorize(mistake)"
   ]
  },
  {
   "cell_type": "code",
   "execution_count": 20,
   "metadata": {},
   "outputs": [
    {
     "data": {
      "image/png": "[encoded data removed]",
      "text/plain": [
       "<Figure size 720x504 with 1 Axes>"
      ]
     },
     "metadata": {
      "needs_background": "light"
     },
     "output_type": "display_data"
    },
    {
     "name": "stdout",
     "output_type": "stream",
     "text": [
      "The minimum error in the test dataset is 0.1024 with C = 0.03750320998681571\n"
     ]
    }
   ],
   "source": [
    "#Let's evlauate different C's \n",
    "c = np.logspace(-10, 10, 20, base=2)\n",
    "error_train=[]\n",
    "error_test=[]\n",
    "for i in range(len(c)):\n",
    "    classifier = svm.SVC(C = c[i], gamma =0.0001, kernel='linear')\n",
    "    classifier.fit(train_subsample_images, train_subsample_labels)\n",
    "    predicted_test = classifier.predict(test_images_svm)\n",
    "    predicted_train = classifier.predict(train_subsample_images)\n",
    "    test_score = np.sum(mistake_vectorized(predicted_test, test_labels))/len(test_labels)\n",
    "    train_score = np.sum(mistake_vectorized(predicted_train, train_subsample_labels))/len(train_subsample_labels)\n",
    "    error_train.append(train_score)\n",
    "    error_test.append(test_score)\n",
    "    #print(i)\n",
    "    \n",
    "#Let's plot the train and test errors and pick the C that minimizes the test error    \n",
    "plt.figure(figsize=(10,7))\n",
    "plt.plot(c,error_train,label=\"error train\")\n",
    "plt.plot(c,error_test,label=\"error test\")\n",
    "plt.axvline(x=c[np.argmin(error_test)],linewidth=0.9,color=\"rebeccapurple\")\n",
    "plt.xscale(\"log\")\n",
    "plt.legend()\n",
    "plt.show()\n",
    "print('The minimum error in the test dataset is ' + np.str(np.min(error_test)) + ' with C = ' \n",
    "      + np.str(c[np.argmin(error_test)]))"
   ]
  },
  {
   "cell_type": "code",
   "execution_count": null,
   "metadata": {},
   "outputs": [],
   "source": [
    "np.set_printoptions(precision=2)\n",
    "\n",
    "#Plot non-normalized confusion matrix\n",
    "plot_confusion_matrix(test_labels, predictions_reshaped, classes=np.sort(np.unique(train_labels)),\n",
    "                      title='Confusion matrix (Without Normalization)')\n",
    "\n",
    "plt.show()\n",
    "# Plot normalized confusion matrix\n",
    "plot_confusion_matrix(test_labels, predictions_reshaped, classes=np.sort(np.unique(train_labels)),\n",
    "                      normalize=True, title='Normalized Confusion Matrix')\n",
    "\n",
    "plt.show()"
   ]
  },
  {
   "cell_type": "code",
   "execution_count": 24,
   "metadata": {},
   "outputs": [
    {
     "name": "stdout",
     "output_type": "stream",
     "text": [
      "Classification report for classifier SVC(C=0.03750320998681571, cache_size=200, class_weight=None, coef0=0.0,\n",
      "  decision_function_shape='ovr', degree=3, gamma=0.0001, kernel='linear',\n",
      "  max_iter=-1, probability=False, random_state=None, shrinking=True,\n",
      "  tol=0.001, verbose=False):\n",
      "              precision    recall  f1-score   support\n",
      "\n",
      "           0       0.92      0.96      0.94       980\n",
      "           1       0.92      0.98      0.95      1135\n",
      "           2       0.93      0.86      0.90      1032\n",
      "           3       0.90      0.87      0.88      1010\n",
      "           4       0.89      0.89      0.89       982\n",
      "           5       0.83      0.84      0.84       892\n",
      "           6       0.91      0.95      0.93       958\n",
      "           7       0.94      0.89      0.91      1028\n",
      "           8       0.89      0.83      0.86       974\n",
      "           9       0.85      0.89      0.87      1009\n",
      "\n",
      "   micro avg       0.90      0.90      0.90     10000\n",
      "   macro avg       0.90      0.90      0.90     10000\n",
      "weighted avg       0.90      0.90      0.90     10000\n",
      "\n",
      "\n"
     ]
    }
   ],
   "source": [
    "clf = svm.SVC(C = c[np.argmin(error_test)], gamma=0.0001, kernel='linear')\n",
    "clf.fit(train_subsample_images, train_subsample_labels)\n",
    "#Now predict the value of the digit on the second half:\n",
    "expected = test_labels\n",
    "predicted = clf.predict(test_images_svm)\n",
    "print(\"Classification report for classifier %s:\\n%s\\n\"\n",
    "      % (clf, metrics.classification_report(expected, predicted)))"
   ]
  },
  {
   "cell_type": "code",
   "execution_count": null,
   "metadata": {},
   "outputs": [],
   "source": []
  }
 ],
 "metadata": {
  "kernelspec": {
   "display_name": "Python 3",
   "language": "python",
   "name": "python3"
  },
  "language_info": {
   "codemirror_mode": {
    "name": "ipython",
    "version": 3
   },
   "file_extension": ".py",
   "mimetype": "text/x-python",
   "name": "python",
   "nbconvert_exporter": "python",
   "pygments_lexer": "ipython3",
   "version": "3.7.3"
  },
  "toc": {
   "base_numbering": 1,
   "nav_menu": {},
   "number_sections": true,
   "sideBar": true,
   "skip_h1_title": false,
   "title_cell": "Table of Contents",
   "title_sidebar": "Contents",
   "toc_cell": false,
   "toc_position": {},
   "toc_section_display": true,
   "toc_window_display": true
  },
  "varInspector": {
   "cols": {
    "lenName": 16,
    "lenType": 16,
    "lenVar": 40
   },
   "kernels_config": {
    "python": {
     "delete_cmd_postfix": "",
     "delete_cmd_prefix": "del ",
     "library": "var_list.py",
     "varRefreshCmd": "print(var_dic_list())"
    },
    "r": {
     "delete_cmd_postfix": ") ",
     "delete_cmd_prefix": "rm(",
     "library": "var_list.r",
     "varRefreshCmd": "cat(var_dic_list()) "
    }
   },
   "types_to_exclude": [
    "module",
    "function",
    "builtin_function_or_method",
    "instance",
    "_Feature"
   ],
   "window_display": false
  }
 },
 "nbformat": 4,
 "nbformat_minor": 2
}
