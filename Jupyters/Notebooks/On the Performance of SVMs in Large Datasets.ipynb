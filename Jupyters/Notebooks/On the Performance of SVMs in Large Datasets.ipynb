{
 "cells": [
  {
   "cell_type": "markdown",
   "metadata": {},
   "source": [
    "# Performance of SVMs in Large Datasets\n",
    "\n",
    "The main idea of this document is to evaluate and analyze the behavior of support vector machines in large datasets and implement some alternative methods such as Cascade SVMs, Bagging-Like SVMs adn Stepwise Baggind SVMs. \n",
    "\n",
    "The idea for doing this notebook rises from reading [Studies in Classification, Data Analysis, and Knowledge Organization](https://link.springer.com/bookseries/1564)."
   ]
  },
  {
   "cell_type": "code",
   "execution_count": 3,
   "metadata": {},
   "outputs": [],
   "source": [
    "#Loading all the required libraries\n",
    "from __future__ import absolute_import, division, print_function, unicode_literals\n",
    "\n",
    "import numpy as np\n",
    "import scipy as sc\n",
    "import random as rd\n",
    "import pandas as pd \n",
    "import tensorflow as tf\n",
    "from tensorflow import keras\n",
    "from tensorflow.keras import datasets, layers, models\n",
    "from keras.models import Sequential\n",
    "from keras.layers import Dense\n",
    "from keras.utils import to_categorical\n",
    "from sklearn import datasets,svm,metrics\n",
    "from sklearn.metrics import confusion_matrix\n",
    "from sklearn.model_selection import train_test_split\n",
    "from sklearn.metrics import confusion_matrix\n",
    "from sklearn.svm import LinearSVC\n",
    "from sklearn.model_selection import cross_val_score\n",
    "from sklearn import preprocessing\n",
    "from sklearn.utils.multiclass import unique_labels\n",
    "from sklearn.datasets import load_digits\n",
    "from sklearn import preprocessing\n",
    "import matplotlib.pylab as plt"
   ]
  },
  {
   "cell_type": "markdown",
   "metadata": {},
   "source": [
    "## MNIST Digits Dataset\n",
    "\n",
    "Let's use the MNIST dataset as a first example and let's check the size of the dataset and the dimension of the input space."
   ]
  },
  {
   "cell_type": "code",
   "execution_count": 4,
   "metadata": {},
   "outputs": [
    {
     "name": "stdout",
     "output_type": "stream",
     "text": [
      "The shape of train images is (60000, 28, 28)\n",
      "The shape of test images is (10000, 28, 28)\n"
     ]
    }
   ],
   "source": [
    "#Loading train and test datasets\n",
    "(train_images, train_labels), (test_images, test_labels) = keras.datasets.mnist.load_data()\n",
    "print('The shape of train images is ' + np.str(train_images.shape))\n",
    "print('The shape of test images is ' + np.str(test_images.shape))"
   ]
  },
  {
   "cell_type": "code",
   "execution_count": 5,
   "metadata": {},
   "outputs": [],
   "source": [
    "#Normalizing pixels, so the take values from 0 to 1\n",
    "train_images, test_images = train_images/255.0, test_images/255.0"
   ]
  },
  {
   "cell_type": "code",
   "execution_count": 6,
   "metadata": {},
   "outputs": [
    {
     "data": {
      "image/png": "[encoded data removed]",
      "text/plain": [
       "<Figure size 1440x720 with 8 Axes>"
      ]
     },
     "metadata": {
      "needs_background": "light"
     },
     "output_type": "display_data"
    }
   ],
   "source": [
    "#Let's visualizate the digits (the first n digits)\n",
    "n = 8\n",
    "plt.figure(figsize=(20,10))\n",
    "for i in range(n):\n",
    "    plt.subplot(1, n, i+1)\n",
    "    plt.axis('off')\n",
    "    plt.imshow(train_images[i,:].reshape((28,28)))\n",
    "    plt.title('Training: %i' % train_labels[i]) "
   ]
  },
  {
   "cell_type": "code",
   "execution_count": 7,
   "metadata": {},
   "outputs": [
    {
     "data": {
      "text/plain": [
       "10"
      ]
     },
     "execution_count": 7,
     "metadata": {},
     "output_type": "execute_result"
    }
   ],
   "source": [
    "#How many labels there are? 10: the digits from 0 to 9\n",
    "size_labels = len(np.unique(train_labels)) ; size_labels"
   ]
  },
  {
   "cell_type": "code",
   "execution_count": 8,
   "metadata": {},
   "outputs": [
    {
     "name": "stdout",
     "output_type": "stream",
     "text": [
      "The shape of train images is (60000, 784)\n",
      "The shape of test images is (10000, 784)\n"
     ]
    }
   ],
   "source": [
    "#We have to reshape the data (extend the pixels in one arrange)\n",
    "train_images_svm = train_images.reshape(len(train_images), 28*28)\n",
    "test_images_svm = test_images.reshape(len(test_images), 28*28)\n",
    "print('The shape of train images is ' + np.str(train_images_svm.shape))\n",
    "print('The shape of test images is ' + np.str(test_images_svm.shape))"
   ]
  },
  {
   "cell_type": "code",
   "execution_count": 9,
   "metadata": {},
   "outputs": [],
   "source": [
    "#Function which objective is to plot in a fancy way the confusion matrix\n",
    "def plot_confusion_matrix(y_true, y_pred, classes,\n",
    "                          normalize=False,\n",
    "                          title=None,\n",
    "                          cmap=plt.cm.Blues):\n",
    "    \"\"\"\n",
    "    This function prints and plots the confusion matrix.\n",
    "    Normalization can be applied by setting `normalize=True`.\n",
    "    \"\"\"\n",
    "    if not title:\n",
    "        if normalize:\n",
    "            title = 'Normalized confusion matrix'\n",
    "        else:\n",
    "            title = 'Confusion matrix, without normalization'\n",
    "\n",
    "    # Compute confusion matrix\n",
    "    cm = confusion_matrix(y_true, y_pred)\n",
    "    # Only use the labels that appear in the data\n",
    "    classes = classes[unique_labels(y_true, y_pred)]\n",
    "    if normalize:\n",
    "        cm = cm.astype('float') / cm.sum(axis=1)[:, np.newaxis]\n",
    "        #print(\"Normalized confusion matrix\")\n",
    "\n",
    "    #print(cm)\n",
    "\n",
    "    fig, ax = plt.subplots(figsize = (10,10))\n",
    "    im = ax.imshow(cm, interpolation='nearest', cmap=cmap)\n",
    "    ax.figure.colorbar(im, ax=ax)\n",
    "    # We want to show all ticks...\n",
    "    ax.set(xticks=np.arange(cm.shape[1]),\n",
    "           yticks=np.arange(cm.shape[0]),\n",
    "           # ... and label them with the respective list entries\n",
    "           xticklabels=classes, yticklabels=classes,\n",
    "           title=title,\n",
    "           ylabel='True label',\n",
    "           xlabel='Predicted label')\n",
    "\n",
    "    # Rotate the tick labels and set their alignment.\n",
    "    plt.setp(ax.get_xticklabels(), rotation=0, ha=\"right\",\n",
    "             rotation_mode=\"anchor\")\n",
    "\n",
    "    # Loop over data dimensions and create text annotations.\n",
    "    fmt = '.2f' if normalize else 'd'\n",
    "    thresh = cm.max() / 2.\n",
    "    for i in range(cm.shape[0]):\n",
    "        for j in range(cm.shape[1]):\n",
    "            ax.text(j, i, format(cm[i, j], fmt),\n",
    "                    ha=\"center\", va=\"center\",\n",
    "                    color=\"white\" if cm[i, j] > thresh else \"black\")\n",
    "    fig.tight_layout()\n",
    "    return ax"
   ]
  },
  {
   "cell_type": "markdown",
   "metadata": {},
   "source": [
    "## SVMs Performance and Analysis\n",
    "\n",
    "The main idea of this section is to see the behavior of regular SVMs in diferent subsamples of the original data."
   ]
  },
  {
   "cell_type": "code",
   "execution_count": 8,
   "metadata": {},
   "outputs": [
    {
     "data": {
      "text/plain": [
       "array([    0,     1,     2, ..., 59997, 59998, 59999])"
      ]
     },
     "execution_count": 8,
     "metadata": {},
     "output_type": "execute_result"
    }
   ],
   "source": [
    "#We generate a random order of the sample \n",
    "random_order = rd.sample(range(len(train_images_svm)), len(train_images_svm))\n",
    "np.sort(random_order)"
   ]
  },
  {
   "cell_type": "code",
   "execution_count": 9,
   "metadata": {},
   "outputs": [
    {
     "data": {
      "text/plain": [
       "6"
      ]
     },
     "execution_count": 9,
     "metadata": {},
     "output_type": "execute_result"
    }
   ],
   "source": [
    "#Pick a number multiple of len(train_images_svm)=60000\n",
    "size_subsample = 10000\n",
    "total_of_subsamples = np.int(len(train_images_svm)/size_subsample) ; total_of_subsamples"
   ]
  },
  {
   "cell_type": "code",
   "execution_count": 10,
   "metadata": {},
   "outputs": [
    {
     "data": {
      "text/plain": [
       "(10000, 784)"
      ]
     },
     "execution_count": 10,
     "metadata": {},
     "output_type": "execute_result"
    }
   ],
   "source": [
    "#We pick one subsample of size size_subsample and evaluate it doing SVMs\n",
    "number_of_subsample = rd.randint(0,total_of_subsamples-1) \n",
    "first = number_of_subsample*size_subsample\n",
    "last = (number_of_subsample+1)*size_subsample\n",
    "values = random_order[first:last]\n",
    "\n",
    "train_subsample_images = train_images_svm[values,:]\n",
    "train_subsample_labels = train_labels[values]\n",
    "train_subsample_images.shape"
   ]
  },
  {
   "cell_type": "code",
   "execution_count": 11,
   "metadata": {},
   "outputs": [
    {
     "data": {
      "image/png": "[encoded data removed]",
      "text/plain": [
       "<Figure size 432x288 with 1 Axes>"
      ]
     },
     "metadata": {
      "needs_background": "light"
     },
     "output_type": "display_data"
    }
   ],
   "source": [
    "#Histogram of the labels. The idea is to veirfy that the digits are balanced\n",
    "train_subsample_labels_pd = pd.DataFrame(train_subsample_labels)\n",
    "train_subsample_labels_pd.plot.hist(grid=False, bins=10, rwidth=0.9, color='#607c8e', legend=None)\n",
    "plt.title('Histogram of Labels')\n",
    "plt.xlabel('Digits')\n",
    "plt.ylabel('Counts')\n",
    "plt.grid(axis='y', alpha=0.75)\n",
    "plt.show()"
   ]
  },
  {
   "cell_type": "code",
   "execution_count": 12,
   "metadata": {
    "scrolled": true
   },
   "outputs": [
    {
     "name": "stdout",
     "output_type": "stream",
     "text": [
      "0.03125\n",
      "0.0625\n",
      "0.125\n",
      "0.25\n",
      "0.5\n",
      "1.0\n",
      "2.0\n",
      "4.0\n",
      "8.0\n",
      "16.0\n",
      "32.0\n",
      "The maximum score in the test dataset is 0.9279041074943413 with C = 0.0625\n"
     ]
    }
   ],
   "source": [
    "#Let's evlauate different C's \n",
    "c = np.logspace(-5, 5, 11, base=2)\n",
    "c_score=[]\n",
    "for c_value in c:\n",
    "    clf =  svm.SVC(C = c_value, gamma=0.0001, kernel='linear')\n",
    "    score=cross_val_score(clf, train_subsample_images, train_subsample_labels, cv = 5)\n",
    "    c_score.append(score.mean())\n",
    "    print(c_value)\n",
    "print('The maximum score in the test dataset is ' + np.str(np.max(c_score)) + ' with C = ' \n",
    "      + np.str(c[np.argmax(c_score)]))"
   ]
  },
  {
   "cell_type": "code",
   "execution_count": 13,
   "metadata": {},
   "outputs": [
    {
     "data": {
      "image/png": "[encoded data removed]",
      "text/plain": [
       "<Figure size 720x720 with 2 Axes>"
      ]
     },
     "metadata": {
      "needs_background": "light"
     },
     "output_type": "display_data"
    },
    {
     "data": {
      "image/png": "[encoded data removed]",
      "text/plain": [
       "<Figure size 720x720 with 2 Axes>"
      ]
     },
     "metadata": {
      "needs_background": "light"
     },
     "output_type": "display_data"
    }
   ],
   "source": [
    "clf = svm.SVC(C = c[np.argmax(c_score)], gamma=0.0001, kernel='linear')\n",
    "clf.fit(train_subsample_images, train_subsample_labels)\n",
    "predicted = clf.predict(test_images_svm)\n",
    "\n",
    "np.set_printoptions(precision=2)\n",
    "\n",
    "#Plot non-normalized confusion matrix\n",
    "plot_confusion_matrix(test_labels, predicted, classes=np.sort(np.unique(train_labels)),\n",
    "                      title='Confusion matrix (Without Normalization)')\n",
    "\n",
    "plt.show()\n",
    "# Plot normalized confusion matrix\n",
    "plot_confusion_matrix(test_labels, predicted, classes=np.sort(np.unique(train_labels)),\n",
    "                      normalize=True, title='Normalized Confusion Matrix')\n",
    "\n",
    "plt.show()"
   ]
  },
  {
   "cell_type": "code",
   "execution_count": 14,
   "metadata": {},
   "outputs": [
    {
     "name": "stdout",
     "output_type": "stream",
     "text": [
      "Classification report for classifier SVC(C=0.0625, cache_size=200, class_weight=None, coef0=0.0,\n",
      "  decision_function_shape='ovr', degree=3, gamma=0.0001, kernel='linear',\n",
      "  max_iter=-1, probability=False, random_state=None, shrinking=True,\n",
      "  tol=0.001, verbose=False):\n",
      "              precision    recall  f1-score   support\n",
      "\n",
      "           0       0.96      0.98      0.97       980\n",
      "           1       0.96      0.98      0.97      1135\n",
      "           2       0.92      0.93      0.92      1032\n",
      "           3       0.91      0.92      0.92      1010\n",
      "           4       0.92      0.95      0.94       982\n",
      "           5       0.91      0.89      0.90       892\n",
      "           6       0.95      0.96      0.95       958\n",
      "           7       0.95      0.92      0.93      1028\n",
      "           8       0.92      0.88      0.90       974\n",
      "           9       0.93      0.90      0.92      1009\n",
      "\n",
      "   micro avg       0.93      0.93      0.93     10000\n",
      "   macro avg       0.93      0.93      0.93     10000\n",
      "weighted avg       0.93      0.93      0.93     10000\n",
      "\n",
      "\n"
     ]
    }
   ],
   "source": [
    "#Now predict the value of the digit on the second half:\n",
    "expected = test_labels\n",
    "print(\"Classification report for classifier %s:\\n%s\\n\"\n",
    "      % (clf, metrics.classification_report(expected, predicted)))"
   ]
  },
  {
   "cell_type": "markdown",
   "metadata": {},
   "source": [
    "## Cascade SVMs Performance and Analysis\n",
    "\n",
    "Let's create a function which objective is to implement [Cascade SVMs](https://pdfs.semanticscholar.org/61ab/f3eb0f653b67c0eb42c527b6620db51d4f3f.pdf)."
   ]
  },
  {
   "cell_type": "markdown",
   "metadata": {},
   "source": [
    "__Considerations:__\n",
    "\n",
    "1. ¿Should I use LinearSVC for seep ud my algorithm? _I've been reading a lot in stackoverflow and sklearn documentaiton and I think it is a good idea to do it_\n",
    "\n",
    "__¿What happen?__ LinearSVC returns a worst model than svm.SVC"
   ]
  },
  {
   "cell_type": "code",
   "execution_count": 54,
   "metadata": {},
   "outputs": [],
   "source": [
    "#Cascade SVM\n",
    "#@data: The data predictors\n",
    "#@target: The target labels\n",
    "#@kernel: The type of kernel\n",
    "#@C: The C parameter of svm.SVC\n",
    "#@use_LinearSVC if TRUE then the model will use LinearSVC when 'he' can do it\n",
    "#@gamma: The Gamma of svm.SVC\n",
    "#@layers: The number of layers (the repeats in the method)\n",
    "#@number_of_partitions: A vector of partitions to be done in each layer\n",
    "def CascadeSVM(data, target, kernel, gamma, number_of_layers, number_of_partitions,\n",
    "               counting = 1, C = None, use_LinearSVC=False):\n",
    "    \n",
    "    if number_of_layers != 0:\n",
    "        #We generate a random order of the sample \n",
    "        random_order = rd.sample(range(len(data)), len(data))\n",
    "\n",
    "        #Pick a number multiple of len(train_images_svm)=60000\n",
    "        size_subsample = np.int(len(data)/number_of_partitions[0])\n",
    "\n",
    "        support_vectors = []\n",
    "        for partition in range(number_of_partitions[0]):\n",
    "            first = partition*size_subsample\n",
    "            last = (partition+1)*size_subsample\n",
    "            values = random_order[first:last]\n",
    "            data_partition = data[values,:]\n",
    "            target_partition = target[values]\n",
    "            \n",
    "            if C == None:\n",
    "                #Let's evlauate different C's, UNCOMMENT THIS CODE IF YOU WANT TO PICK A C USING CV\n",
    "                c = np.logspace(-5, 4, 10, base=2)\n",
    "                c_score=[]\n",
    "                for c_value in c:\n",
    "                    if kernel!='linear' or (not use_LinearSVC):\n",
    "                        clf =  svm.SVC(C=c, gamma=gamma, kernel=kernel)\n",
    "                    else:\n",
    "                        clf = LinearSVC(C=c)\n",
    "                    score=cross_val_score(clf, data_partition, target_partition, cv = 5)\n",
    "                    c_score.append(score.mean())\n",
    "                C = c[np.argmax(c_score)]\n",
    "                \n",
    "            clf = svm.SVC(C = C, gamma=gamma, kernel=kernel)\n",
    "            clf.fit(data_partition, target_partition)\n",
    "            vectors = clf.support_ + first\n",
    "            support_vectors = np.r_[support_vectors,vectors]\n",
    "            #print('Layer ' + np.str(counting) + ' and Partition ' + np.str(partition+1) )\n",
    "        \n",
    "        #Create the new data,target, layers and partitions\n",
    "        support_vectors = support_vectors.astype(int)\n",
    "        \n",
    "        random_order = np.array(random_order)\n",
    "        new_data = data[random_order[support_vectors],:]\n",
    "        new_target = target[random_order[support_vectors]]\n",
    "        new_number_of_layers = number_of_layers-1\n",
    "        new_number_of_partitions = np.delete(number_of_partitions, 0)\n",
    "        print('The layer No.' + np.str(counting) + ' (with '+ np.str(number_of_partitions[0]) + ' partitions)'+\n",
    "              ' has been completed with ' +\n",
    "              np.str(len(support_vectors)) + ' support vectors')\n",
    "        \n",
    "        return CascadeSVM(data=new_data, target=new_target, number_of_layers=new_number_of_layers,\n",
    "                          kernel=kernel, gamma=gamma, number_of_partitions=new_number_of_partitions,\n",
    "                          counting=counting+1, C=C, use_LinearSVC=use_LinearSVC)\n",
    "    else:\n",
    "        if C == None:\n",
    "                #Let's evlauate different C's, UNCOMMENT THIS CODE IF YOU WANT TO PICK A C USING CV\n",
    "                c = np.logspace(-5, 4, 10, base=2)\n",
    "                c_score=[]\n",
    "                for c_value in c:\n",
    "                    if kernel != 'linear' or (not use_LinearSVC):\n",
    "                        clf =  svm.SVC(C = c, gamma=gamma, kernel=kernel)\n",
    "                    else:\n",
    "                        clf = LinearSVC(C=c)\n",
    "                    score=cross_val_score(clf, data, target, cv = 5)\n",
    "                    c_score.append(score.mean())\n",
    "                C = c[np.argmax(c_score)]\n",
    "        if kernel!='linear' or (not use_LinearSVC):\n",
    "            clf = svm.SVC(C = C, gamma=gamma, kernel=kernel)\n",
    "            print('You pick to use regular svm.SVC')\n",
    "        else:\n",
    "            clf = LinearSVC(C = C)\n",
    "            print('You pick to use Linear_SVC')\n",
    "\n",
    "        clf.fit(data, target)\n",
    "        return clf"
   ]
  },
  {
   "cell_type": "code",
   "execution_count": 55,
   "metadata": {},
   "outputs": [
    {
     "name": "stdout",
     "output_type": "stream",
     "text": [
      "15\n"
     ]
    }
   ],
   "source": [
    "number_of_partitions = [60, 30, 30, 30, 15, 15, 15, 5, 5, 5, 5, 5, 5, 5, 5]\n",
    "#This will print us the number of layers\n",
    "print(len(number_of_partitions))"
   ]
  },
  {
   "cell_type": "code",
   "execution_count": null,
   "metadata": {},
   "outputs": [],
   "source": [
    "clf = CascadeSVM(data=train_images_svm, target=train_labels, kernel='linear', gamma=0.0001,\n",
    "                 number_of_layers=len(number_of_partitions), number_of_partitions=number_of_partitions, C=0.05)"
   ]
  },
  {
   "cell_type": "code",
   "execution_count": null,
   "metadata": {
    "scrolled": false
   },
   "outputs": [],
   "source": [
    "predicted = clf.predict(test_images_svm)\n",
    "\n",
    "np.set_printoptions(precision=2)\n",
    "\n",
    "#Plot non-normalized confusion matrix\n",
    "plot_confusion_matrix(test_labels, predicted, classes=np.sort(np.unique(train_labels)),\n",
    "                      title='Confusion matrix (Without Normalization)')\n",
    "\n",
    "plt.show()\n",
    "# Plot normalized confusion matrix\n",
    "plot_confusion_matrix(test_labels, predicted, classes=np.sort(np.unique(train_labels)),\n",
    "                      normalize=True, title='Normalized Confusion Matrix')\n",
    "\n",
    "plt.show()"
   ]
  },
  {
   "cell_type": "code",
   "execution_count": null,
   "metadata": {
    "scrolled": false
   },
   "outputs": [],
   "source": [
    "#Now predict the value of the digit on the second half:\n",
    "expected = test_labels\n",
    "print(\"Classification report for classifier %s:\\n%s\\n\"\n",
    "      % (clf, metrics.classification_report(expected, predicted)))"
   ]
  },
  {
   "cell_type": "markdown",
   "metadata": {},
   "source": [
    "We use the full dataset and obtain a 1% incremental in Precision, Recall and $F_1$-score by implementing a Cascada SVM with 15 layers with a final SVM with approx 10000 support vectors. \n",
    "\n",
    "Note that the number of support vectors appears to be converging. \n",
    "\n",
    "It remains to keep doing more and more combination of layers in order to reduce the error. "
   ]
  },
  {
   "cell_type": "markdown",
   "metadata": {},
   "source": [
    "## Bagging SVM Performance and Analysis\n",
    "\n",
    "Implemenenting and evaluating _BaggingClassifer()_ with SVM and evaluating its performance over large datasets.\n"
   ]
  },
  {
   "cell_type": "code",
   "execution_count": null,
   "metadata": {},
   "outputs": [],
   "source": []
  }
 ],
 "metadata": {
  "kernelspec": {
   "display_name": "Python 3",
   "language": "python",
   "name": "python3"
  },
  "language_info": {
   "codemirror_mode": {
    "name": "ipython",
    "version": 3
   },
   "file_extension": ".py",
   "mimetype": "text/x-python",
   "name": "python",
   "nbconvert_exporter": "python",
   "pygments_lexer": "ipython3",
   "version": "3.6.8"
  },
  "latex_envs": {
   "LaTeX_envs_menu_present": true,
   "autoclose": false,
   "autocomplete": true,
   "bibliofile": "biblio.bib",
   "cite_by": "apalike",
   "current_citInitial": 1,
   "eqLabelWithNumbers": true,
   "eqNumInitial": 1,
   "hotkeys": {
    "equation": "Ctrl-E",
    "itemize": "Ctrl-I"
   },
   "labels_anchors": false,
   "latex_user_defs": false,
   "report_style_numbering": false,
   "user_envs_cfg": false
  },
  "toc": {
   "base_numbering": 1,
   "nav_menu": {},
   "number_sections": true,
   "sideBar": true,
   "skip_h1_title": false,
   "title_cell": "Table of Contents",
   "title_sidebar": "Contents",
   "toc_cell": false,
   "toc_position": {
    "height": "calc(100% - 180px)",
    "left": "10px",
    "top": "150px",
    "width": "330.703px"
   },
   "toc_section_display": true,
   "toc_window_display": true
  },
  "varInspector": {
   "cols": {
    "lenName": 16,
    "lenType": 16,
    "lenVar": 40
   },
   "kernels_config": {
    "python": {
     "delete_cmd_postfix": "",
     "delete_cmd_prefix": "del ",
     "library": "var_list.py",
     "varRefreshCmd": "print(var_dic_list())"
    },
    "r": {
     "delete_cmd_postfix": ") ",
     "delete_cmd_prefix": "rm(",
     "library": "var_list.r",
     "varRefreshCmd": "cat(var_dic_list()) "
    }
   },
   "oldHeight": 525,
   "position": {
    "height": "331.973px",
    "left": "21.4805px",
    "right": "20px",
    "top": "437.98px",
    "width": "292.969px"
   },
   "types_to_exclude": [
    "module",
    "function",
    "builtin_function_or_method",
    "instance",
    "_Feature"
   ],
   "varInspector_section_display": "none",
   "window_display": false
  }
 },
 "nbformat": 4,
 "nbformat_minor": 2
}
