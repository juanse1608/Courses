{
 "cells": [
  {
   "cell_type": "markdown",
   "metadata": {},
   "source": [
    "# Métodos computacionales de Optimización Multivariada en Python\n",
    "\n",
    "#### Métodos Intensivos de Computación Estadística\n",
    "\n",
    "#### Juan Sebastián Corredor Rodriguez - jucorredorr@unal.edu."
   ]
  },
  {
   "cell_type": "code",
   "execution_count": 137,
   "metadata": {},
   "outputs": [],
   "source": [
    "#Carga las librerias de Python a usar\n",
    "import numpy as np\n",
    "import scipy as sc\n",
    "import time\n",
    "import matplotlib\n",
    "import matplotlib.pyplot as plt\n",
    "from scipy.optimize import minimize\n",
    "\n",
    "#Para obtener el gradiente por diferenciación atuomática\n",
    "import autograd\n",
    "from autograd import grad\n",
    "from autograd import elementwise_grad as egrad\n",
    "from autograd import hessian\n",
    "from autograd import jacobian\n",
    "\n",
    "#Simulated Annealing\n",
    "import random\n",
    "import math"
   ]
  },
  {
   "cell_type": "markdown",
   "metadata": {},
   "source": [
    "Vamos a estudiar el comportamiento de la Función de Rosenbrock bajo ciertos métodos de optimización. Se define $F: \\mathbb{R}^n \\to \\mathbb{R}$ como \n",
    "\\begin{align*}\n",
    "F(x_1,\\ldots,x_n) &= \\sum_{i=1}^{n-1} 100(x_{i+1}-x_{i}^2)^2 + (1-x_i)^2\n",
    "\\end{align*}\n",
    "Note que esta función se minimiza cuando $(x_1,\\ldots,x_n)=(1,\\ldots,1)$ y toma valor $0$. La librería de Python recomendada es scipy la cual tiene la función minimize (maximize).\n",
    "\n",
    "(Ver https://docs.scipy.org/doc/scipy/reference/generated/scipy.optimize.minimize.html para entender de manera más clara los parámetros de la función)."
   ]
  },
  {
   "cell_type": "code",
   "execution_count": 138,
   "metadata": {},
   "outputs": [],
   "source": [
    "#Se define la función de rosenbrock\n",
    "def rosen(x):\n",
    "    return sum(100.0*(x[1:]-x[:-1]**2.0)**2.0 + (1-x[:-1])**2.0)\n",
    "\n",
    "#Se define un punto inicial donde se empieza a iterar en los diferentes métodos de optimización\n",
    "dimension = 10\n",
    "punto_inicial = 100\n",
    "x_inicial = np.repeat(punto_inicial , dimension)"
   ]
  },
  {
   "cell_type": "markdown",
   "metadata": {},
   "source": [
    "### Método de Optimización Quasi Newton BFGS"
   ]
  },
  {
   "cell_type": "code",
   "execution_count": 139,
   "metadata": {},
   "outputs": [
    {
     "name": "stdout",
     "output_type": "stream",
     "text": [
      "285 ms ± 0 ns per loop (mean ± std. dev. of 1 run, 10 loops each)\n"
     ]
    }
   ],
   "source": [
    "%%timeit -n10 -r1\n",
    "#Se cuenta el tiempo promedio en hacer diez veces la minimizacion\n",
    "res = minimize(rosen, x_inicial , method='BFGS', options={'disp': False})"
   ]
  },
  {
   "cell_type": "code",
   "execution_count": 140,
   "metadata": {
    "scrolled": true
   },
   "outputs": [],
   "source": [
    "#Veamos que pasa con el tiempo que toma el algoritmo a medida que la dimensión crece\n",
    "punto_inicial = 5\n",
    "result = []\n",
    "for dim in range(50):\n",
    "    #if dim % 20 == 0:\n",
    "        #print(dim)\n",
    "    times = []\n",
    "    x_inicial = np.repeat(punto_inicial, dim + 2)\n",
    "    for i in range(10):\n",
    "        start = time.perf_counter()\n",
    "        res = minimize(rosen, x_inicial , method='BFGS', options={'disp': False})\n",
    "        end = time.perf_counter()\n",
    "        times.append(end-start)\n",
    "    result.append(np.array(times).mean())"
   ]
  },
  {
   "cell_type": "code",
   "execution_count": 142,
   "metadata": {},
   "outputs": [
    {
     "data": {
      "image/png": "[encoded data removed]",
      "text/plain": [
       "<Figure size 432x288 with 1 Axes>"
      ]
     },
     "metadata": {
      "needs_background": "light"
     },
     "output_type": "display_data"
    }
   ],
   "source": [
    "#Este grafico nos ayuda a entender 'la maldición de la dimensión'\n",
    "plt.plot(np.array(range(50))+2, result)\n",
    "plt.ylabel('Tiempo Promedio (s)')\n",
    "plt.xlabel('Dimension')\n",
    "plt.show()"
   ]
  },
  {
   "cell_type": "code",
   "execution_count": 188,
   "metadata": {},
   "outputs": [
    {
     "name": "stdout",
     "output_type": "stream",
     "text": [
      "Warning: Desired error not necessarily achieved due to precision loss.\n",
      "         Current function value: 0.000000\n",
      "         Iterations: 630\n",
      "         Function evaluations: 9804\n",
      "         Gradient evaluations: 816\n",
      "[0.99999996 0.99999992 0.99999988 0.99999977 0.9999996  0.99999924\n",
      " 0.99999845 0.99999687 0.99999376 0.99998753]\n",
      "CPU times: user 214 ms, sys: 11.2 ms, total: 225 ms\n",
      "Wall time: 232 ms\n"
     ]
    }
   ],
   "source": [
    "%%time\n",
    "#Ejemplo del output generado por la funcion\n",
    "dimension = 10\n",
    "punto_inicial = 100\n",
    "x_inicial = np.repeat(punto_inicial , dimension)\n",
    "res = minimize(rosen, x_inicial , method='BFGS', options={'disp': True})\n",
    "print(res.x)"
   ]
  },
  {
   "cell_type": "markdown",
   "metadata": {},
   "source": [
    "### Método de Optimización del Gradiente Conjugado "
   ]
  },
  {
   "cell_type": "code",
   "execution_count": 170,
   "metadata": {},
   "outputs": [],
   "source": [
    "#Se define la función de rosenbrock\n",
    "def rosen(x):\n",
    "    return sum(100.0*(x[1:]-x[:-1]**2.0)**2.0 + (1-x[:-1])**2.0)\n",
    "\n",
    "#Se define un punto inicial donde se empieza a iterar en los diferentes métodos de optimización\n",
    "dimension = 10\n",
    "punto_inicial = 100\n",
    "x_inicial = np.repeat(punto_inicial , dimension)"
   ]
  },
  {
   "cell_type": "code",
   "execution_count": 171,
   "metadata": {},
   "outputs": [],
   "source": [
    "#Se encuentra el jacobiano (gradiente)\n",
    "#gradiente = grad(rosen)"
   ]
  },
  {
   "cell_type": "code",
   "execution_count": 185,
   "metadata": {},
   "outputs": [
    {
     "name": "stdout",
     "output_type": "stream",
     "text": [
      "814 ms ± 0 ns per loop (mean ± std. dev. of 1 run, 10 loops each)\n"
     ]
    }
   ],
   "source": [
    "%%timeit -n10 -r1\n",
    "#Se cuenta el tiempo promedio en hacer diez veces la minimizacion\n",
    "res = minimize(rosen, x_inicial , method='CG', options={'disp': False})"
   ]
  },
  {
   "cell_type": "code",
   "execution_count": 186,
   "metadata": {
    "scrolled": true
   },
   "outputs": [],
   "source": [
    "#Veamos que pasa con el tiempo que toma el algoritmo a medida que la dimensión crece\n",
    "punto_inicial = 5\n",
    "result = []\n",
    "for dim in range(50):\n",
    "    #if dim % 5 == 0:\n",
    "        #print(dim)\n",
    "    times = []\n",
    "    x_inicial = np.repeat(punto_inicial, dim + 2)\n",
    "    for i in range(5):\n",
    "        start = time.perf_counter()\n",
    "        res = minimize(rosen, x_inicial , method='CG', options={'disp': False})\n",
    "        end = time.perf_counter()\n",
    "        times.append(end-start)\n",
    "    result.append(np.array(times).mean())"
   ]
  },
  {
   "cell_type": "code",
   "execution_count": 187,
   "metadata": {},
   "outputs": [
    {
     "data": {
      "image/png": "[encoded data removed]",
      "text/plain": [
       "<Figure size 432x288 with 1 Axes>"
      ]
     },
     "metadata": {
      "needs_background": "light"
     },
     "output_type": "display_data"
    }
   ],
   "source": [
    "#Este grafico nos ayuda a entender 'la maldición de la dimensión'\n",
    "plt.plot(np.array(range(50))+2, result)\n",
    "plt.ylabel('Tiempo Promedio (s)')\n",
    "plt.xlabel('Dimension')\n",
    "plt.show()"
   ]
  },
  {
   "cell_type": "code",
   "execution_count": 184,
   "metadata": {},
   "outputs": [
    {
     "name": "stdout",
     "output_type": "stream",
     "text": [
      "Optimization terminated successfully.\n",
      "         Current function value: 0.000000\n",
      "         Iterations: 428\n",
      "         Function evaluations: 9240\n",
      "         Gradient evaluations: 770\n",
      "[0.99999996 0.99999991 0.99999983 0.99999969 0.99999939 0.99999878\n",
      " 0.99999757 0.99999516 0.99999031 0.9999806 ]\n",
      "CPU times: user 185 ms, sys: 5.24 ms, total: 190 ms\n",
      "Wall time: 188 ms\n"
     ]
    }
   ],
   "source": [
    "%%time\n",
    "#Ejemplo del output generado por la funcion\n",
    "dimension = 10\n",
    "punto_inicial = 100\n",
    "x_inicial = np.repeat(punto_inicial , dimension)\n",
    "res = minimize(rosen, x_inicial , method='CG', options={'disp': True})\n",
    "print(res.x)"
   ]
  },
  {
   "cell_type": "markdown",
   "metadata": {},
   "source": [
    "### Método de Optimización Quasi Newton L-BFGS-B"
   ]
  },
  {
   "cell_type": "markdown",
   "metadata": {},
   "source": [
    "Método que aproxima BFGS pero usando una cantidad limitda de memoria del computador."
   ]
  },
  {
   "cell_type": "code",
   "execution_count": 150,
   "metadata": {},
   "outputs": [],
   "source": [
    "#Se define la función de rosenbrock\n",
    "def rosen(x):\n",
    "    return sum(100.0*(x[1:]-x[:-1]**2.0)**2.0 + (1-x[:-1])**2.0)\n",
    "\n",
    "#Se define un punto inicial donde se empieza a iterar en los diferentes métodos de optimización\n",
    "dimension = 10\n",
    "punto_inicial = 100\n",
    "x_inicial = np.repeat(punto_inicial , dimension)"
   ]
  },
  {
   "cell_type": "code",
   "execution_count": 151,
   "metadata": {},
   "outputs": [
    {
     "name": "stdout",
     "output_type": "stream",
     "text": [
      "36.3 ms ± 0 ns per loop (mean ± std. dev. of 1 run, 10 loops each)\n"
     ]
    }
   ],
   "source": [
    "%%timeit -n10 -r1\n",
    "#Se cuenta el tiempo promedio en hacer diez veces la minimizacion\n",
    "res = minimize(rosen, x_inicial , method='L-BFGS-B', options={'disp': False})"
   ]
  },
  {
   "cell_type": "code",
   "execution_count": 152,
   "metadata": {
    "scrolled": true
   },
   "outputs": [],
   "source": [
    "#Veamos que pasa con el tiempo que toma el algoritmo a medida que la dimensión crece\n",
    "punto_inicial = 5\n",
    "result = []\n",
    "for dim in range(50):\n",
    "    #if dim % 20 == 0:\n",
    "        #print(dim)\n",
    "    times = []\n",
    "    x_inicial = np.repeat(punto_inicial, dim + 2)\n",
    "    for i in range(10):\n",
    "        start = time.perf_counter()\n",
    "        res = minimize(rosen, x_inicial , method='L-BFGS-B', options={'disp': False})\n",
    "        end = time.perf_counter()\n",
    "        times.append(end-start)\n",
    "    result.append(np.array(times).mean())"
   ]
  },
  {
   "cell_type": "code",
   "execution_count": 153,
   "metadata": {},
   "outputs": [
    {
     "data": {
      "image/png": "[encoded data removed]",
      "text/plain": [
       "<Figure size 432x288 with 1 Axes>"
      ]
     },
     "metadata": {
      "needs_background": "light"
     },
     "output_type": "display_data"
    }
   ],
   "source": [
    "#Este grafico nos ayuda a entender 'la maldición de la dimensión'\n",
    "plt.plot(np.array(range(50))+2, result)\n",
    "plt.ylabel('Tiempo Promedio (s)')\n",
    "plt.xlabel('Dimension')\n",
    "plt.show()"
   ]
  },
  {
   "cell_type": "code",
   "execution_count": 168,
   "metadata": {},
   "outputs": [
    {
     "name": "stdout",
     "output_type": "stream",
     "text": [
      "[1.00000009 1.00000011 1.0000001  0.99999999 0.99999962 0.99999922\n",
      " 0.99999852 0.99999725 0.99999464 0.9999892 ]\n",
      "CPU times: user 46.8 ms, sys: 3.44 ms, total: 50.3 ms\n",
      "Wall time: 56.8 ms\n"
     ]
    }
   ],
   "source": [
    "%%time\n",
    "#Ejemplo del output generado por la funcion\n",
    "dimension = 10\n",
    "punto_inicial = 100\n",
    "x_inicial = np.repeat(punto_inicial , dimension)\n",
    "res = minimize(rosen, x_inicial , method='L-BFGS-B', options={'disp': True})\n",
    "print(res.x)"
   ]
  }
 ],
 "metadata": {
  "kernelspec": {
   "display_name": "Python 3",
   "language": "python",
   "name": "python3"
  },
  "language_info": {
   "codemirror_mode": {
    "name": "ipython",
    "version": 3
   },
   "file_extension": ".py",
   "mimetype": "text/x-python",
   "name": "python",
   "nbconvert_exporter": "python",
   "pygments_lexer": "ipython3",
   "version": "3.7.3"
  }
 },
 "nbformat": 4,
 "nbformat_minor": 2
}
