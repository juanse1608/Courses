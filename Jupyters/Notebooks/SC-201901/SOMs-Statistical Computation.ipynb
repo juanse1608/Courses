{
 "cells": [
  {
   "cell_type": "markdown",
   "metadata": {},
   "source": [
    "# SOMs in Python - Homework\n",
    "\n",
    "__Métodos Intensivos de Computación Estadística__\n",
    "\n",
    "Juan Sebastián Corredor Rodriguez - jucorredorr@unal.edu.co\n",
    "\n",
    "See my [Github Account](https://github.com/juanse1608) to know more about me and my projects."
   ]
  },
  {
   "cell_type": "code",
   "execution_count": 42,
   "metadata": {},
   "outputs": [],
   "source": [
    "import numpy as np\n",
    "import scipy as sc\n",
    "from scipy.spatial.distance import pdist\n",
    "from scipy.spatial.distance import squareform\n",
    "from sklearn.model_selection import train_test_split\n",
    "import pandas as pd\n",
    "from sklearn import preprocessing\n",
    "from sklearn import model_selection\n",
    "from sklearn.metrics import confusion_matrix\n",
    "from sklearn.utils.multiclass import unique_labels\n",
    "from sklearn import metrics\n",
    "import math\n",
    "from minisom import MiniSom    \n",
    "\n",
    "\n",
    "%config IPCompleter.greedy = True"
   ]
  },
  {
   "cell_type": "code",
   "execution_count": 3,
   "metadata": {},
   "outputs": [
    {
     "name": "stdout",
     "output_type": "stream",
     "text": [
      "/Users/JuanSebastianCorredorRodriguez/Documents/Git Repositories/Jupyters-2019/Jupyters/Datasets\n"
     ]
    }
   ],
   "source": [
    "#Let's plot the working directory\n",
    "%cd ../../Datasets/"
   ]
  },
  {
   "cell_type": "code",
   "execution_count": 121,
   "metadata": {},
   "outputs": [],
   "source": [
    "import warnings\n",
    "warnings.filterwarnings(\"ignore\")\n",
    "dta = pd.read_csv('Fifa_19.csv')"
   ]
  },
  {
   "cell_type": "code",
   "execution_count": 122,
   "metadata": {},
   "outputs": [],
   "source": [
    "#Select GKs and CMs only\n",
    "dta = dta[dta.Position.isin(['GK','CM'])]\n",
    "labels = dta['Position']"
   ]
  },
  {
   "cell_type": "code",
   "execution_count": 105,
   "metadata": {},
   "outputs": [
    {
     "data": {
      "text/plain": [
       "Index(['Unnamed: 0', 'ID', 'Name', 'Age', 'Photo', 'Nationality', 'Flag',\n",
       "       'Overall', 'Potential', 'Club', 'Club Logo', 'Value', 'Wage', 'Special',\n",
       "       'Preferred Foot', 'International Reputation', 'Weak Foot',\n",
       "       'Skill Moves', 'Work Rate', 'Body Type', 'Real Face', 'Position',\n",
       "       'Jersey Number', 'Joined', 'Loaned From', 'Contract Valid Until',\n",
       "       'Height', 'Weight', 'LS', 'ST', 'RS', 'LW', 'LF', 'CF', 'RF', 'RW',\n",
       "       'LAM', 'CAM', 'RAM', 'LM', 'LCM', 'CM', 'RCM', 'RM', 'LWB', 'LDM',\n",
       "       'CDM', 'RDM', 'RWB', 'LB', 'LCB', 'CB', 'RCB', 'RB', 'Crossing',\n",
       "       'Finishing', 'HeadingAccuracy', 'ShortPassing', 'Volleys', 'Dribbling',\n",
       "       'Curve', 'FKAccuracy', 'LongPassing', 'BallControl', 'Acceleration',\n",
       "       'SprintSpeed', 'Agility', 'Reactions', 'Balance', 'ShotPower',\n",
       "       'Jumping', 'Stamina', 'Strength', 'LongShots', 'Aggression',\n",
       "       'Interceptions', 'Positioning', 'Vision', 'Penalties', 'Composure',\n",
       "       'Marking', 'StandingTackle', 'SlidingTackle', 'GKDiving', 'GKHandling',\n",
       "       'GKKicking', 'GKPositioning', 'GKReflexes', 'Release Clause'],\n",
       "      dtype='object')"
      ]
     },
     "execution_count": 105,
     "metadata": {},
     "output_type": "execute_result"
    }
   ],
   "source": [
    "dta.columns"
   ]
  },
  {
   "cell_type": "code",
   "execution_count": 106,
   "metadata": {},
   "outputs": [],
   "source": [
    "dta = dta[['Crossing',\n",
    "'Finishing', 'HeadingAccuracy', 'ShortPassing', 'Volleys', 'Dribbling',\n",
    "'Curve', 'FKAccuracy', 'LongPassing', 'BallControl', 'Acceleration',\n",
    "'SprintSpeed', 'Agility', 'Reactions', 'Balance', 'ShotPower',\n",
    "'Jumping', 'Stamina', 'Strength', 'LongShots', 'Aggression',\n",
    "'Interceptions', 'Positioning', 'Vision', 'Penalties', 'Composure',\n",
    "'Marking', 'StandingTackle', 'SlidingTackle', 'GKDiving', 'GKHandling',\n",
    "'GKKicking', 'GKPositioning', 'GKReflexes']]"
   ]
  },
  {
   "cell_type": "code",
   "execution_count": 107,
   "metadata": {},
   "outputs": [
    {
     "name": "stdout",
     "output_type": "stream",
     "text": [
      "    Crossing  Finishing  HeadingAccuracy  ShortPassing  Volleys  Dribbling  \\\n",
      "3       17.0       13.0             21.0          50.0     13.0       18.0   \n",
      "9       13.0       11.0             15.0          29.0     13.0       12.0   \n",
      "18      15.0       14.0             11.0          36.0     14.0       17.0   \n",
      "19      14.0       14.0             13.0          33.0     12.0       13.0   \n",
      "22      15.0       13.0             25.0          55.0     11.0       30.0   \n",
      "\n",
      "    Curve  FKAccuracy  LongPassing  BallControl  ...  Penalties  Composure  \\\n",
      "3    21.0        19.0         51.0         42.0  ...       40.0       68.0   \n",
      "9    13.0        14.0         26.0         16.0  ...       11.0       70.0   \n",
      "18   18.0        12.0         42.0         18.0  ...       25.0       69.0   \n",
      "19   19.0        20.0         35.0         23.0  ...       27.0       66.0   \n",
      "22   14.0        11.0         59.0         48.0  ...       47.0       70.0   \n",
      "\n",
      "    Marking  StandingTackle  SlidingTackle  GKDiving  GKHandling  GKKicking  \\\n",
      "3      15.0            21.0           13.0      90.0        85.0       87.0   \n",
      "9      27.0            12.0           18.0      86.0        92.0       78.0   \n",
      "18     25.0            13.0           10.0      87.0        85.0       88.0   \n",
      "19     20.0            18.0           16.0      85.0        91.0       72.0   \n",
      "22     17.0            10.0           11.0      90.0        86.0       91.0   \n",
      "\n",
      "    GKPositioning  GKReflexes  \n",
      "3            88.0        94.0  \n",
      "9            88.0        89.0  \n",
      "18           85.0        90.0  \n",
      "19           86.0        88.0  \n",
      "22           87.0        87.0  \n",
      "\n",
      "[5 rows x 34 columns]\n"
     ]
    }
   ],
   "source": [
    "print(dta.head())"
   ]
  },
  {
   "cell_type": "code",
   "execution_count": 70,
   "metadata": {},
   "outputs": [
    {
     "name": "stdout",
     "output_type": "stream",
     "text": [
      "Training...\n",
      "Ready!\n"
     ]
    }
   ],
   "source": [
    "#Let's implement the minisom with a SOM 6 times 6\n",
    "som = MiniSom(10, 10, 34, sigma=0.5, learning_rate=0.5)\n",
    "som.random_weights_init(np.array(dta))\n",
    "print('Training...')\n",
    "som.train_random(np.array(dta), 100)\n",
    "print('Ready!')"
   ]
  },
  {
   "cell_type": "code",
   "execution_count": 119,
   "metadata": {},
   "outputs": [
    {
     "data": {
      "image/png": "[encoded data removed]",
      "text/plain": [
       "<Figure size 432x288 with 2 Axes>"
      ]
     },
     "metadata": {
      "needs_background": "light"
     },
     "output_type": "display_data"
    }
   ],
   "source": [
    "from pylab import plot,axis,show,pcolor,colorbar,bone\n",
    "bone()\n",
    "pcolor(som.distance_map().T) # distance map as background\n",
    "colorbar()\n",
    "show() # show the figure"
   ]
  },
  {
   "cell_type": "markdown",
   "metadata": {},
   "source": [
    "We can see that in the corners the colors are darker w.r.t the center of the square. This gives us an impression that one of the two selected positions is in the center and the other one in the corners, which I think it is a cool result. "
   ]
  },
  {
   "cell_type": "code",
   "execution_count": null,
   "metadata": {},
   "outputs": [],
   "source": []
  }
 ],
 "metadata": {
  "kernelspec": {
   "display_name": "Python 3",
   "language": "python",
   "name": "python3"
  },
  "language_info": {
   "codemirror_mode": {
    "name": "ipython",
    "version": 3
   },
   "file_extension": ".py",
   "mimetype": "text/x-python",
   "name": "python",
   "nbconvert_exporter": "python",
   "pygments_lexer": "ipython3",
   "version": "3.7.3"
  },
  "latex_envs": {
   "LaTeX_envs_menu_present": true,
   "autoclose": false,
   "autocomplete": true,
   "bibliofile": "biblio.bib",
   "cite_by": "apalike",
   "current_citInitial": 1,
   "eqLabelWithNumbers": true,
   "eqNumInitial": 1,
   "hotkeys": {
    "equation": "Ctrl-E",
    "itemize": "Ctrl-I"
   },
   "labels_anchors": false,
   "latex_user_defs": false,
   "report_style_numbering": false,
   "user_envs_cfg": false
  },
  "toc": {
   "base_numbering": 1,
   "nav_menu": {},
   "number_sections": true,
   "sideBar": true,
   "skip_h1_title": false,
   "title_cell": "Table of Contents",
   "title_sidebar": "Contents",
   "toc_cell": false,
   "toc_position": {},
   "toc_section_display": true,
   "toc_window_display": true
  },
  "varInspector": {
   "cols": {
    "lenName": 16,
    "lenType": 16,
    "lenVar": 40
   },
   "kernels_config": {
    "python": {
     "delete_cmd_postfix": "",
     "delete_cmd_prefix": "del ",
     "library": "var_list.py",
     "varRefreshCmd": "print(var_dic_list())"
    },
    "r": {
     "delete_cmd_postfix": ") ",
     "delete_cmd_prefix": "rm(",
     "library": "var_list.r",
     "varRefreshCmd": "cat(var_dic_list()) "
    }
   },
   "types_to_exclude": [
    "module",
    "function",
    "builtin_function_or_method",
    "instance",
    "_Feature"
   ],
   "window_display": false
  }
 },
 "nbformat": 4,
 "nbformat_minor": 2
}
