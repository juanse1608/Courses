{
 "cells": [
  {
   "cell_type": "markdown",
   "metadata": {},
   "source": [
    "# Dimensionality Reduction in Julia\n",
    "\n",
    "#### Métodos Intensivos de Computación Estadística\n",
    "\n",
    "#### Juan Sebastián Corredor Rodriguez - jucorredorr@unal.edu."
   ]
  },
  {
   "cell_type": "markdown",
   "metadata": {},
   "source": [
    "The main idea of this notebook is to present some dimensionality reduction methods in Julia and evaluate its results and performance. Specifically, the methods are:\n",
    "1. [PCA (Principal Component Analysis)](https://en.wikipedia.org/wiki/Principal_component_analysis).\n",
    "2. [LLE (Locally Linear Embedding)](http://www.robots.ox.ac.uk/~az/lectures/ml/lle.pdf).\n",
    "3. [Isomap (Isometric Feature Mapping)](https://en.wikipedia.org/wiki/Isomap). "
   ]
  },
  {
   "cell_type": "markdown",
   "metadata": {},
   "source": [
    "#### Principal Component Analysis (PCA)\n",
    "\n",
    "See https://github.com/JuliaStats/MultivariateStats.jl/blob/master/docs/source/pca.rst."
   ]
  },
  {
   "cell_type": "code",
   "execution_count": 22,
   "metadata": {},
   "outputs": [],
   "source": [
    "#Load the corresponding libraries\n",
    "\n",
    "import Pkg\n",
    "#Pkg.add(\"MultivariateStats\") \n",
    "#Pkg.add(\"ManifoldLearning\")\n",
    "#Pkg.add(\"RDatasets\")\n",
    "#Pkg.add(\"Plots\")\n",
    "#Pkg.add(\"PlotlyJS\")\n",
    "#Pkg.add(\"ORCA\")\n",
    "#Pkg.add(\"Gadfly\")\n",
    "using Gadfly\n",
    "using ORCA\n",
    "using PlotlyJS\n",
    "using ManifoldLearning\n",
    "using Plots\n",
    "using RDatasets\n",
    "using MultivariateStats"
   ]
  },
  {
   "cell_type": "code",
   "execution_count": 23,
   "metadata": {},
   "outputs": [
    {
     "name": "stdout",
     "output_type": "stream",
     "text": [
      "Done!"
     ]
    }
   ],
   "source": [
    "plotly() # using plotly for 3D-interacive graphing\n",
    "\n",
    "#Loading iris dataset\n",
    "iris = dataset(\"datasets\", \"iris\")\n",
    "\n",
    "#Split half to training set\n",
    "X_train = convert(Matrix, iris[1:2:end,1:4])'\n",
    "X_train_labels = convert(Vector, iris[1:2:end,5])\n",
    "\n",
    "#Split other half to testing set\n",
    "X_test = convert(Matrix, iris[2:2:end,1:4])'\n",
    "X_test_labels = convert(Vector, iris[2:2:end,5])\n",
    "\n",
    "print(\"Done!\")"
   ]
  },
  {
   "cell_type": "code",
   "execution_count": 37,
   "metadata": {},
   "outputs": [
    {
     "data": {
      "text/plain": [
       "4×75 LinearAlgebra.Adjoint{Float64,Array{Float64,2}}:\n",
       " 5.1  4.7  5.0  4.6  4.4  5.4  4.8  5.8  …  6.3  6.0  6.7  5.8  6.7  6.3  6.2\n",
       " 3.5  3.2  3.6  3.4  2.9  3.7  3.0  4.0     3.4  3.0  3.1  2.7  3.3  2.5  3.4\n",
       " 1.4  1.3  1.4  1.4  1.4  1.5  1.4  1.2     5.6  4.8  5.6  5.1  5.7  5.0  5.4\n",
       " 0.2  0.2  0.2  0.3  0.2  0.2  0.1  0.2     2.4  1.8  2.4  1.9  2.5  1.9  2.3"
      ]
     },
     "execution_count": 37,
     "metadata": {},
     "output_type": "execute_result"
    }
   ],
   "source": [
    "#Each observation is now a column\n",
    "X_train"
   ]
  },
  {
   "cell_type": "code",
   "execution_count": 25,
   "metadata": {},
   "outputs": [
    {
     "data": {
      "text/plain": [
       "3×75 Array{Float64,2}:\n",
       "  2.72714    2.75491    2.32396   …  -1.92047   -1.74161   -1.37706 \n",
       " -0.230916  -0.406149   0.646374      0.246554   0.127625  -0.280295\n",
       " -0.253119  -0.0271266  0.230469      0.180044   0.123165   0.314992"
      ]
     },
     "execution_count": 25,
     "metadata": {},
     "output_type": "execute_result"
    }
   ],
   "source": [
    "#Train a PCA model, allowing up to 3 dimensions (parameter specified in maxoutdim)\n",
    "pca_model = fit(PCA, X_train; maxoutdim=3)\n",
    "\n",
    "#Apply PCA model to testing set\n",
    "X_test_projected = transform(pca_model, X_test)\n",
    "X_test_projected"
   ]
  },
  {
   "cell_type": "code",
   "execution_count": 26,
   "metadata": {},
   "outputs": [
    {
     "data": {
      "text/plain": [
       "4×75 Array{Float64,2}:\n",
       " 4.86449  4.61087   5.40782   5.00775   …  6.79346  6.58825  6.46774  5.94384\n",
       " 3.04262  3.08695   3.89061   3.39069      3.20785  3.13416  3.03873  2.94737\n",
       " 1.46099  1.48132   1.68656   1.48668      5.91124  5.39197  5.25542  5.02469\n",
       " 0.10362  0.229519  0.421233  0.221041     2.28224  1.99665  1.91243  1.91901"
      ]
     },
     "execution_count": 26,
     "metadata": {},
     "output_type": "execute_result"
    }
   ],
   "source": [
    "#Reconstruct testing observations (approximately)\n",
    "X_test_reconstructed = reconstruct(pca_model, X_test_projected) #You can evaluate how different is of original data\n",
    "X_test_reconstructed"
   ]
  },
  {
   "cell_type": "code",
   "execution_count": 28,
   "metadata": {},
   "outputs": [
    {
     "data": {
      "text/plain": [
       "4×75 LinearAlgebra.Adjoint{Float64,Array{Float64,2}}:\n",
       " 4.9  4.6  5.4  5.0  4.9  4.8  4.3  5.7  …  6.4  6.9  6.9  6.8  6.7  6.5  5.9\n",
       " 3.0  3.1  3.9  3.4  3.1  3.4  3.0  4.4     3.1  3.1  3.1  3.2  3.0  3.0  3.0\n",
       " 1.4  1.5  1.7  1.5  1.5  1.6  1.1  1.5     5.5  5.4  5.1  5.9  5.2  5.2  5.1\n",
       " 0.2  0.2  0.4  0.2  0.1  0.2  0.1  0.4     1.8  2.1  2.3  2.3  2.3  2.0  1.8"
      ]
     },
     "execution_count": 28,
     "metadata": {},
     "output_type": "execute_result"
    }
   ],
   "source": [
    "X_test "
   ]
  },
  {
   "cell_type": "markdown",
   "metadata": {},
   "source": [
    "#### LLE and Isomap Methods\n",
    "\n",
    "Let's see how to implements theese methods using pkg ManifoldLearning."
   ]
  },
  {
   "cell_type": "code",
   "execution_count": 66,
   "metadata": {},
   "outputs": [
    {
     "name": "stderr",
     "output_type": "stream",
     "text": [
      "┌ Warning: Found 2 connected components. Largest component is selected.\n",
      "└ @ ManifoldLearning /Users/JuanSebastianCorredorRodriguez/.julia/packages/ManifoldLearning/cj14P/src/utils.jl:45\n",
      "┌ Warning: Found 2 connected components. Largest component is selected.\n",
      "└ @ ManifoldLearning /Users/JuanSebastianCorredorRodriguez/.julia/packages/ManifoldLearning/cj14P/src/utils.jl:45\n"
     ]
    },
    {
     "data": {
      "text/plain": [
       "LLE(outdim = 3, neighbors = 3)"
      ]
     },
     "execution_count": 66,
     "metadata": {},
     "output_type": "execute_result"
    }
   ],
   "source": [
    "X_train_projected_isomap = transform(Isomap, X_train; k = 3, d = 3)\n",
    "X_train_projected_lle = transform(LLE, X_train; k = 3, d = 3)"
   ]
  },
  {
   "cell_type": "code",
   "execution_count": 74,
   "metadata": {},
   "outputs": [
    {
     "data": {
      "text/plain": [
       "3×50 Array{Float64,2}:\n",
       " -0.660178   -0.645426   -0.40219    …   2.45097   -0.268812    2.38143 \n",
       "  1.57505     1.49209     0.360931      -0.295682   0.205135   -0.201306\n",
       " -0.0833845  -0.0751031   0.0248118     -0.344455   0.0522324  -0.90252 "
      ]
     },
     "execution_count": 74,
     "metadata": {},
     "output_type": "execute_result"
    }
   ],
   "source": [
    "transform(X_train_projected_isomap)"
   ]
  },
  {
   "cell_type": "code",
   "execution_count": 71,
   "metadata": {},
   "outputs": [
    {
     "data": {
      "text/plain": [
       "3×50 LinearAlgebra.Transpose{Float64,Array{Float64,2}}:\n",
       "  5.64286e-6  0.000159763  -0.0191072   …  -0.0110724   -0.0136918 \n",
       " -0.00011389  0.000929377  -0.00161377     -0.00576302   3.61576e-7\n",
       " -0.00330561  0.0346012    -0.0119724       0.299182    -1.74803e-6"
      ]
     },
     "execution_count": 71,
     "metadata": {},
     "output_type": "execute_result"
    }
   ],
   "source": [
    "transform(X_train_projected_lle)"
   ]
  }
 ],
 "metadata": {
  "kernelspec": {
   "display_name": "Julia 1.1.0",
   "language": "julia",
   "name": "julia-1.1"
  },
  "language_info": {
   "file_extension": ".jl",
   "mimetype": "application/julia",
   "name": "julia",
   "version": "1.1.0"
  }
 },
 "nbformat": 4,
 "nbformat_minor": 2
}
