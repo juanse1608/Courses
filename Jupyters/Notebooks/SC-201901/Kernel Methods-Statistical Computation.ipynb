{
 "cells": [
  {
   "cell_type": "markdown",
   "metadata": {},
   "source": [
    "# Kernel Methods - Homework\n",
    "\n",
    "__Métodos Intensivos de Computación Estadística__\n",
    "\n",
    "Juan Sebastián Corredor Rodriguez - jucorredorr@unal.edu.co\n",
    "\n",
    "See my [Github Account](https://github.com/juanse1608) to know more about me and my projects."
   ]
  },
  {
   "cell_type": "markdown",
   "metadata": {},
   "source": [
    "## Algorithm for Novelty Detection 5.4 \n",
    "\n",
    "Let's implement this algorithm for two kernels: Gaussian and Polynomial."
   ]
  },
  {
   "cell_type": "code",
   "execution_count": 327,
   "metadata": {},
   "outputs": [],
   "source": [
    "import numpy as np\n",
    "import scipy as sc\n",
    "from scipy.spatial.distance import pdist\n",
    "from scipy.spatial.distance import squareform\n",
    "from sklearn.model_selection import train_test_split\n",
    "import pandas as pd\n",
    "from sklearn import preprocessing\n",
    "from sklearn import model_selection\n",
    "from sklearn.metrics import confusion_matrix\n",
    "from sklearn.utils.multiclass import unique_labels\n",
    "from sklearn import metrics\n",
    "\n",
    "%config IPCompleter.greedy = True"
   ]
  },
  {
   "cell_type": "code",
   "execution_count": 4,
   "metadata": {},
   "outputs": [
    {
     "name": "stdout",
     "output_type": "stream",
     "text": [
      "/Users/JuanSebastianCorredorRodriguez/Documents/Git Repositories/Jupyters-2019/Jupyters/Datasets\n"
     ]
    }
   ],
   "source": [
    "#Let's plot the working directory\n",
    "%cd ../../Datasets/"
   ]
  },
  {
   "cell_type": "code",
   "execution_count": 5,
   "metadata": {},
   "outputs": [],
   "source": [
    "#Let's load the names and the data\n",
    "names = pd.read_csv('wpbc_names.dat', header = None)\n",
    "dta = pd.read_csv('breast_data.dat', header = None)"
   ]
  },
  {
   "cell_type": "code",
   "execution_count": 14,
   "metadata": {},
   "outputs": [],
   "source": [
    "#Let's assign the names to each column of dta\n",
    "names = np.array(names).reshape(32,)\n",
    "dta.columns = names"
   ]
  },
  {
   "cell_type": "code",
   "execution_count": 16,
   "metadata": {},
   "outputs": [
    {
     "name": "stdout",
     "output_type": "stream",
     "text": [
      "Index(['id', 'diagnosis', 'radius_mean', 'texture_mean', 'perimeter_mean',\n",
      "       'area_mean', 'smoothness_mean', 'compactness_mean', 'concavity_mean',\n",
      "       'concave points_mean', 'symmetry_mean', 'fractal_dimension_mean',\n",
      "       'radius_se', 'texture_se', 'perimeter_se', 'area_se', 'smoothness_se',\n",
      "       'compactness_se', 'concavity_se', 'concave points_se', 'symmetry_se',\n",
      "       'fractal_dimension_se', 'radius_worst', 'texture_worst',\n",
      "       'perimeter_worst', 'area_worst', 'smoothness_worst',\n",
      "       'compactness_worst', 'concavity_worst', 'concave points_worst',\n",
      "       'symmetry_worst', 'fractal_dimension_worst'],\n",
      "      dtype='object')\n"
     ]
    }
   ],
   "source": [
    "#Let's see the columns of dta\n",
    "print(dta.columns)"
   ]
  },
  {
   "cell_type": "code",
   "execution_count": 22,
   "metadata": {},
   "outputs": [],
   "source": [
    "#Standardize dta\n",
    "dta_raw = dta.drop(columns=['id','diagnosis'])\n",
    "dta_raw.columns\n",
    "\n",
    "#Create the Scaler object\n",
    "scaler = preprocessing.StandardScaler()\n",
    "#Get column names first\n",
    "names = dta_raw.columns\n",
    "\n",
    "#Create the Scaler object\n",
    "scaler = preprocessing.StandardScaler()\n",
    "# Fit your data on the scaler object\n",
    "scaled_dta = scaler.fit_transform(dta_raw)\n",
    "scaled_dta = pd.DataFrame(scaled_dta, columns=names)"
   ]
  },
  {
   "cell_type": "code",
   "execution_count": 107,
   "metadata": {},
   "outputs": [
    {
     "name": "stdout",
     "output_type": "stream",
     "text": [
      "(569, 30)\n"
     ]
    }
   ],
   "source": [
    "#Let's see the data\n",
    "print(scaled_dta.shape)"
   ]
  },
  {
   "cell_type": "code",
   "execution_count": 197,
   "metadata": {},
   "outputs": [],
   "source": [
    "dta_train, dta_test, label_train, label_test = train_test_split(scaled_dta, dta['diagnosis'], test_size=0.3,\n",
    "                                                                random_state=100)"
   ]
  },
  {
   "cell_type": "markdown",
   "metadata": {},
   "source": [
    "### Gaussian Kernel \n",
    "\n",
    "Let's see how to implement the method with Gaussian Kernel\n",
    "\n",
    "---"
   ]
  },
  {
   "cell_type": "code",
   "execution_count": 300,
   "metadata": {
    "scrolled": true
   },
   "outputs": [
    {
     "data": {
      "text/plain": [
       "(398, 30)"
      ]
     },
     "execution_count": 300,
     "metadata": {},
     "output_type": "execute_result"
    }
   ],
   "source": [
    "#Let's use sklearn for doing Novelty Detection\n",
    "condfidence = 0.1\n",
    "def kernel_gaussian_inverse(x,z, sigma=1.0):\n",
    "    return np.exp(-(np.linalg.norm(x-z))**2/sigma**2)\n",
    "\n",
    "dta_train.shape"
   ]
  },
  {
   "cell_type": "code",
   "execution_count": 301,
   "metadata": {},
   "outputs": [
    {
     "data": {
      "text/plain": [
       "1.0"
      ]
     },
     "execution_count": 301,
     "metadata": {},
     "output_type": "execute_result"
    }
   ],
   "source": [
    "kernel_gaussian(dta_train.iloc[2,:], dta_train.iloc[2,:])"
   ]
  },
  {
   "cell_type": "code",
   "execution_count": 302,
   "metadata": {},
   "outputs": [
    {
     "name": "stdout",
     "output_type": "stream",
     "text": [
      "0\n",
      "100\n",
      "200\n",
      "300\n"
     ]
    }
   ],
   "source": [
    "kernel_matrix = np.zeros((len(dta_train), len(dta_train)))\n",
    "for i in range(len(dta_train)):\n",
    "    for j in range(i,len(dta_train)):\n",
    "        kernel_matrix[i,j] = kernel_gaussian(dta_train.iloc[i,:], dta_train.iloc[j,:])\n",
    "        kernel_matrix[j,i] = kernel_gaussian(dta_train.iloc[i,:], dta_train.iloc[j,:])\n",
    "    if i%100 == 0:\n",
    "        print(i)"
   ]
  },
  {
   "cell_type": "code",
   "execution_count": 201,
   "metadata": {},
   "outputs": [],
   "source": [
    "#The ell number\n",
    "size_dta = len(dta_train)\n",
    "#The parameters to create the distances \n",
    "col_means = kernel_matrix.mean(axis=1)\n",
    "kernel_mean = col_means.mean()\n",
    "\n",
    "tranining_distances_2 = np.diag(kernel_matrix) - (2*col_means) + (np.repeat(kernel_mean, len(kernel_matrix)))\n",
    "\n",
    "#The maximum distance\n",
    "maximum_distance = np.sqrt(np.max(tranining_distances_2))"
   ]
  },
  {
   "cell_type": "code",
   "execution_count": 202,
   "metadata": {},
   "outputs": [],
   "source": [
    "#Back up parameter\n",
    "esterr = np.sqrt(2*np.max(np.diag(kernel_matrix)/size_dta))*(np.sqrt(2) + np.sqrt(np.log(1/condfidence)))\n",
    "threshold = maximum_distance + 2*esterr \n",
    "threshold = threshold*threshold"
   ]
  },
  {
   "cell_type": "code",
   "execution_count": 203,
   "metadata": {},
   "outputs": [
    {
     "name": "stdout",
     "output_type": "stream",
     "text": [
      "The threshold is: 2.0009588929139355\n"
     ]
    }
   ],
   "source": [
    "print('The threshold is:',threshold)"
   ]
  },
  {
   "cell_type": "markdown",
   "metadata": {},
   "source": [
    "Let's see what happens on the test dataset:"
   ]
  },
  {
   "cell_type": "code",
   "execution_count": 204,
   "metadata": {},
   "outputs": [
    {
     "name": "stdout",
     "output_type": "stream",
     "text": [
      "0\n",
      "100\n",
      "200\n",
      "300\n"
     ]
    }
   ],
   "source": [
    "#Calculate the KTests matrix\n",
    "kernel_matrix_test = np.zeros((len(dta_train)+1, len(dta_test))) # con minuscula son los kernel de los test  \n",
    "\n",
    "for i in range(len(dta_train)):\n",
    "    for j in range(len(dta_test)):\n",
    "        kernel_matrix_test[i,j] = kernel_gaussian(dta_train.iloc[i,:], dta_test.iloc[j,:])\n",
    "        kernel_matrix_test[len(kernel_matrix_test)-100,j] = kernel_gaussian(dta_test.iloc[j,:], dta_test.iloc[j,:])\n",
    "    if i%100 == 0:\n",
    "        print(i) "
   ]
  },
  {
   "cell_type": "code",
   "execution_count": 205,
   "metadata": {},
   "outputs": [
    {
     "data": {
      "text/plain": [
       "(399, 171)"
      ]
     },
     "execution_count": 205,
     "metadata": {},
     "output_type": "execute_result"
    }
   ],
   "source": [
    "kernel_matrix_test.shape"
   ]
  },
  {
   "cell_type": "code",
   "execution_count": 206,
   "metadata": {},
   "outputs": [
    {
     "data": {
      "text/plain": [
       "array([False, False, False, False, False, False, False, False, False,\n",
       "       False, False, False, False, False, False, False, False, False,\n",
       "       False, False, False, False, False, False, False, False, False,\n",
       "       False, False, False, False, False, False, False, False, False,\n",
       "       False, False, False, False, False, False, False, False, False,\n",
       "       False, False, False, False, False, False, False, False, False,\n",
       "       False, False, False, False, False, False, False, False, False,\n",
       "       False, False, False, False, False, False, False, False, False,\n",
       "       False, False, False, False, False, False, False, False, False,\n",
       "       False, False, False, False, False, False, False, False, False,\n",
       "       False, False, False, False, False, False, False, False, False,\n",
       "       False, False, False, False, False, False, False, False, False,\n",
       "       False, False, False, False, False, False, False, False, False,\n",
       "       False, False, False, False, False, False, False, False, False,\n",
       "       False, False, False, False, False, False, False, False, False,\n",
       "       False, False, False, False, False, False, False, False, False,\n",
       "       False, False, False, False, False, False, False, False, False,\n",
       "       False, False, False, False, False, False, False, False, False,\n",
       "       False, False, False, False, False, False, False, False, False])"
      ]
     },
     "execution_count": 206,
     "metadata": {},
     "output_type": "execute_result"
    }
   ],
   "source": [
    "size_dta_test = kernel_matrix_test.shape[1]\n",
    "d_test = np.sum(kernel_matrix_test[0:size_dta,:]) / size_dta\n",
    "test_dist_2 = kernel_matrix_test[size_dta,:] - 2*d_test + (np.repeat(kernel_mean, size_dta_test))\n",
    "\n",
    "#Print the novelty indices\n",
    "novelty_indices = test_dist_2 > threshold \n",
    "novelty_indices"
   ]
  },
  {
   "cell_type": "markdown",
   "metadata": {},
   "source": [
    "Under the RBF (the Gaussian Kernel) there're not novelties using __Algorithm 5.4__."
   ]
  },
  {
   "cell_type": "markdown",
   "metadata": {},
   "source": [
    "### Polynomial Kernel \n",
    "\n",
    "Let's see how to implement the method with polynomial kernel. \n",
    "\n",
    "In this case, let's use the polynomial kernel with degree 2.\n",
    "\n",
    "---"
   ]
  },
  {
   "cell_type": "code",
   "execution_count": 207,
   "metadata": {
    "scrolled": true
   },
   "outputs": [
    {
     "data": {
      "text/plain": [
       "(398, 30)"
      ]
     },
     "execution_count": 207,
     "metadata": {},
     "output_type": "execute_result"
    }
   ],
   "source": [
    "#Let's use sklearn for doing Novelty Detection\n",
    "condfidence = 0.1\n",
    "def kernel_polynomial(x,z, grado=2, constant=1):\n",
    "    return (np.dot(x,z)+constant)**grado\n",
    "\n",
    "dta_train.shape"
   ]
  },
  {
   "cell_type": "code",
   "execution_count": 208,
   "metadata": {},
   "outputs": [
    {
     "data": {
      "text/plain": [
       "234.1101998114614"
      ]
     },
     "execution_count": 208,
     "metadata": {},
     "output_type": "execute_result"
    }
   ],
   "source": [
    "kernel_polynomial(dta_train.iloc[2,:], dta_train.iloc[2,:])"
   ]
  },
  {
   "cell_type": "code",
   "execution_count": 209,
   "metadata": {},
   "outputs": [
    {
     "name": "stdout",
     "output_type": "stream",
     "text": [
      "0\n",
      "100\n",
      "200\n",
      "300\n"
     ]
    }
   ],
   "source": [
    "kernel_matrix = np.zeros((len(dta_train), len(dta_train)))\n",
    "for i in range(len(dta_train)):\n",
    "    for j in range(i,len(dta_train)):\n",
    "        kernel_matrix[i,j] = kernel_polynomial(dta_train.iloc[i,:], dta_train.iloc[j,:])\n",
    "        kernel_matrix[j,i] = kernel_polynomial(dta_train.iloc[i,:], dta_train.iloc[j,:])\n",
    "    if i%100 == 0:\n",
    "        print(i)"
   ]
  },
  {
   "cell_type": "code",
   "execution_count": 210,
   "metadata": {},
   "outputs": [],
   "source": [
    "#The ell number\n",
    "size_dta = len(dta_train)\n",
    "#The parameters to create the distances \n",
    "col_means = kernel_matrix.mean(axis=1)\n",
    "kernel_mean = col_means.mean()\n",
    "\n",
    "tranining_distances_2 = np.diag(kernel_matrix) - (2*col_means) + (np.repeat(kernel_mean, len(kernel_matrix)))\n",
    "\n",
    "#The maximum distance\n",
    "maximum_distance = np.sqrt(np.max(tranining_distances_2))"
   ]
  },
  {
   "cell_type": "code",
   "execution_count": 211,
   "metadata": {},
   "outputs": [],
   "source": [
    "#Back up parameter\n",
    "esterr = np.sqrt(2*np.max(np.diag(kernel_matrix)/size_dta))*(np.sqrt(2) + np.sqrt(np.log(1/condfidence)))\n",
    "threshold = maximum_distance + 2*esterr \n",
    "threshold = threshold*threshold"
   ]
  },
  {
   "cell_type": "code",
   "execution_count": 212,
   "metadata": {},
   "outputs": [
    {
     "name": "stdout",
     "output_type": "stream",
     "text": [
      "The threshold is: 329966.0133575029\n"
     ]
    }
   ],
   "source": [
    "print('The threshold is:',threshold)"
   ]
  },
  {
   "cell_type": "markdown",
   "metadata": {},
   "source": [
    "Let's see what happens on the test dataset:"
   ]
  },
  {
   "cell_type": "code",
   "execution_count": 213,
   "metadata": {},
   "outputs": [
    {
     "name": "stdout",
     "output_type": "stream",
     "text": [
      "0\n",
      "100\n",
      "200\n",
      "300\n"
     ]
    }
   ],
   "source": [
    "#Calculate the KTests matrix\n",
    "kernel_matrix_test = np.zeros((len(dta_train)+1, len(dta_test))) # con minuscula son los kernel de los test  \n",
    "\n",
    "for i in range(len(dta_train)):\n",
    "    for j in range(len(dta_test)):\n",
    "        kernel_matrix_test[i,j] = kernel_polynomial(dta_train.iloc[i,:], dta_test.iloc[j,:])\n",
    "        kernel_matrix_test[len(kernel_matrix_test)-100,j] = kernel_polynomial(dta_test.iloc[j,:], dta_test.iloc[j,:])\n",
    "    if i%100 == 0:\n",
    "        print(i) "
   ]
  },
  {
   "cell_type": "code",
   "execution_count": 214,
   "metadata": {},
   "outputs": [
    {
     "data": {
      "text/plain": [
       "(399, 171)"
      ]
     },
     "execution_count": 214,
     "metadata": {},
     "output_type": "execute_result"
    }
   ],
   "source": [
    "kernel_matrix_test.shape"
   ]
  },
  {
   "cell_type": "code",
   "execution_count": 215,
   "metadata": {},
   "outputs": [
    {
     "data": {
      "text/plain": [
       "array([False, False, False, False, False, False, False, False, False,\n",
       "       False, False, False, False, False, False, False, False, False,\n",
       "       False, False, False, False, False, False, False, False, False,\n",
       "       False, False, False, False, False, False, False, False, False,\n",
       "       False, False, False, False, False, False, False, False, False,\n",
       "       False, False, False, False, False, False, False, False, False,\n",
       "       False, False, False, False, False, False, False, False, False,\n",
       "       False, False, False, False, False, False, False, False, False,\n",
       "       False, False, False, False, False, False, False, False, False,\n",
       "       False, False, False, False, False, False, False, False, False,\n",
       "       False, False, False, False, False, False, False, False, False,\n",
       "       False, False, False, False, False, False, False, False, False,\n",
       "       False, False, False, False, False, False, False, False, False,\n",
       "       False, False, False, False, False, False, False, False, False,\n",
       "       False, False, False, False, False, False, False, False, False,\n",
       "       False, False, False, False, False, False, False, False, False,\n",
       "       False, False, False, False, False, False, False, False, False,\n",
       "       False, False, False, False, False, False, False, False, False,\n",
       "       False, False, False, False, False, False, False, False, False])"
      ]
     },
     "execution_count": 215,
     "metadata": {},
     "output_type": "execute_result"
    }
   ],
   "source": [
    "size_dta_test = kernel_matrix_test.shape[1]\n",
    "d_test = np.mean(kernel_matrix_test[0:size_dta,:])\n",
    "test_dist_2 = kernel_matrix_test[size_dta,:] - 2*d_test + (np.repeat(kernel_mean, size_dta_test))\n",
    "\n",
    "#Print the novelty indices\n",
    "novelty_indices = test_dist_2 > threshold \n",
    "novelty_indices"
   ]
  },
  {
   "cell_type": "markdown",
   "metadata": {},
   "source": [
    "Under the Polynomial Kernel there're not novelties using __Algorithm 5.4__."
   ]
  },
  {
   "cell_type": "markdown",
   "metadata": {},
   "source": [
    "Niether one of the two kernels found a novelty."
   ]
  },
  {
   "cell_type": "markdown",
   "metadata": {},
   "source": [
    "## Parzen Based Classifier 5.6\n",
    "\n"
   ]
  },
  {
   "cell_type": "markdown",
   "metadata": {},
   "source": [
    "Let's implement this classifier in the train dataset (using the Gaussian Kernel Matrix)."
   ]
  },
  {
   "cell_type": "code",
   "execution_count": null,
   "metadata": {},
   "outputs": [],
   "source": [
    "kernel_matrix = np.zeros((len(dta_train), len(dta_train)))\n",
    "for i in range(len(dta_train)):\n",
    "    for j in range(i,len(dta_train)):\n",
    "        kernel_matrix[i,j] = kernel_gaussian(dta_train.iloc[i,:], dta_train.iloc[j,:])\n",
    "        kernel_matrix[j,i] = kernel_gaussian(dta_train.iloc[i,:], dta_train.iloc[j,:])"
   ]
  },
  {
   "cell_type": "code",
   "execution_count": 303,
   "metadata": {},
   "outputs": [],
   "source": [
    "\n",
    "#The s_plus and s_minus\n",
    "s_plus = dta_train[label_train == 'M']\n",
    "s_minus = dta_train[label_train == 'B']\n",
    "\n",
    "#The l_plus and l_minus\n",
    "l_plus = len(s_plus)\n",
    "l_minus = len(s_minus)"
   ]
  },
  {
   "cell_type": "code",
   "execution_count": 304,
   "metadata": {},
   "outputs": [],
   "source": [
    "#The alpha_minus and alpha_plus\n",
    "alpha_plus = (label_train == 'M').astype(int)\n",
    "alpha_minus = (label_train == 'B').astype(int)"
   ]
  },
  {
   "cell_type": "code",
   "execution_count": 305,
   "metadata": {},
   "outputs": [],
   "source": [
    "alpha_plus_t = np.matrix(np.array(alpha_plus).reshape((1,398)))\n",
    "alpha_plus_nt = np.matrix(np.array(alpha_plus).reshape((398,1)))\n",
    "\n",
    "\n",
    "alpha_minus_t = np.matrix(np.array(alpha_minus).reshape((1,398)))\n",
    "alpha_minus_nt = np.matrix(np.array(alpha_minus).reshape((398,1)))\n",
    "kernel_matrix_matrix = np.matrix(kernel_matrix)\n",
    "\n",
    "positive = (np.matmul(np.matmul(alpha_plus_t, kernel_matrix_matrix), alpha_plus_nt))\n",
    "negative = (np.matmul(np.matmul(alpha_minus_t, kernel_matrix_matrix), alpha_minus_nt))\n",
    "\n",
    "b_result = 0.5*(positive - negative)"
   ]
  },
  {
   "cell_type": "code",
   "execution_count": 306,
   "metadata": {},
   "outputs": [],
   "source": [
    "#Let's define alpha\n",
    "alpha = alpha_plus - alpha_minus"
   ]
  },
  {
   "cell_type": "code",
   "execution_count": 307,
   "metadata": {},
   "outputs": [],
   "source": [
    "#Let's define the function that clasifies\n",
    "def parzen_classifier(b, alpha, test, train):\n",
    "    resultado = -b\n",
    "    for i in range(len(alpha)):\n",
    "        resultado += alpha[i]*kernel_polynomial(train[i],test)\n",
    "    return np.sign(resultado)"
   ]
  },
  {
   "cell_type": "code",
   "execution_count": 308,
   "metadata": {},
   "outputs": [
    {
     "data": {
      "text/plain": [
       "array([ 1., -1.,  1.,  1.,  1., -1.,  1.,  1., -1., -1., -1.,  1.,  1.,\n",
       "        1., -1., -1., -1., -1.,  1.,  1., -1.,  1.,  1.,  1.,  1.,  1.,\n",
       "        1.,  1., -1.,  1., -1., -1., -1.,  1.,  1.,  1., -1.,  1.,  1.,\n",
       "        1.,  1.,  1.,  1.,  1., -1.,  1.,  1., -1., -1., -1., -1.,  1.,\n",
       "       -1.,  1.,  1., -1., -1., -1., -1.,  1.,  1.,  1.,  1.,  1.,  1.,\n",
       "       -1.,  1.,  1., -1.,  1.,  1., -1.,  1.,  1., -1., -1., -1.,  1.,\n",
       "        1.,  1., -1.,  1.,  1.,  1.,  1.,  1.,  1.,  1.,  1.,  1., -1.,\n",
       "       -1., -1.,  1.,  1.,  1.,  1.,  1.,  1., -1.,  1.,  1.,  1.,  1.,\n",
       "       -1., -1.,  1., -1.,  1.,  1., -1., -1.,  1.,  1., -1., -1.,  1.,\n",
       "       -1.,  1.,  1.,  1.,  1., -1.,  1., -1.,  1., -1., -1., -1., -1.,\n",
       "        1.,  1.,  1.,  1., -1., -1., -1., -1.,  1., -1.,  1.,  1., -1.,\n",
       "       -1., -1.,  1.,  1.,  1.,  1.,  1.,  1.,  1., -1.,  1., -1.,  1.,\n",
       "       -1.,  1.,  1.,  1.,  1., -1., -1., -1.,  1., -1., -1.,  1., -1.,\n",
       "        1., -1.])"
      ]
     },
     "execution_count": 308,
     "metadata": {},
     "output_type": "execute_result"
    }
   ],
   "source": [
    "predictions = []\n",
    "for i in range(len(dta_test)):\n",
    "    pred = parzen_classifier(b=b_result[0,0], alpha=np.array(alpha), test=np.array(dta_test)[i],\n",
    "                             train=np.array(dta_train))\n",
    "    predictions = np.append(predictions, pred)\n",
    "predictions"
   ]
  },
  {
   "cell_type": "code",
   "execution_count": 319,
   "metadata": {},
   "outputs": [],
   "source": [
    "labels = (label_test == 'M').astype(int)\n",
    "labels[labels == 0] = -1"
   ]
  },
  {
   "cell_type": "code",
   "execution_count": 320,
   "metadata": {},
   "outputs": [],
   "source": [
    "#Let's plot the confusion matrix\n",
    "#Function which objective is to plot in a fancy way the confusion matrix\n",
    "def plot_confusion_matrix(y_true, y_pred, classes,\n",
    "                          normalize=False,\n",
    "                          title=None,\n",
    "                          cmap=plt.cm.Blues):\n",
    "    \"\"\"\n",
    "    This function prints and plots the confusion matrix.\n",
    "    Normalization can be applied by setting `normalize=True`.\n",
    "    \"\"\"\n",
    "    if not title:\n",
    "        if normalize:\n",
    "            title = 'Normalized confusion matrix'\n",
    "        else:\n",
    "            title = 'Confusion matrix, without normalization'\n",
    "\n",
    "    # Compute confusion matrix\n",
    "    cm = confusion_matrix(y_true, y_pred)\n",
    "    # Only use the labels that appear in the data\n",
    "    classes = classes[unique_labels(y_true, y_pred)]\n",
    "    if normalize:\n",
    "        cm = cm.astype('float') / cm.sum(axis=1)[:, np.newaxis]\n",
    "        #print(\"Normalized confusion matrix\")\n",
    "\n",
    "    #print(cm)\n",
    "\n",
    "    fig, ax = plt.subplots(figsize = (10,10))\n",
    "    im = ax.imshow(cm, interpolation='nearest', cmap=cmap)\n",
    "    ax.figure.colorbar(im, ax=ax)\n",
    "    # We want to show all ticks...\n",
    "    ax.set(xticks=np.arange(cm.shape[1]),\n",
    "           yticks=np.arange(cm.shape[0]),\n",
    "           # ... and label them with the respective list entries\n",
    "           xticklabels=classes, yticklabels=classes,\n",
    "           title=title,\n",
    "           ylabel='True label',\n",
    "           xlabel='Predicted label')\n",
    "\n",
    "    # Rotate the tick labels and set their alignment.\n",
    "    plt.setp(ax.get_xticklabels(), rotation=0, ha=\"right\",\n",
    "             rotation_mode=\"anchor\")\n",
    "\n",
    "    # Loop over data dimensions and create text annotations.\n",
    "    fmt = '.2f' if normalize else 'd'\n",
    "    thresh = cm.max() / 2.\n",
    "    for i in range(cm.shape[0]):\n",
    "        for j in range(cm.shape[1]):\n",
    "            ax.text(j, i, format(cm[i, j], fmt),\n",
    "                    ha=\"center\", va=\"center\",\n",
    "                    color=\"white\" if cm[i, j] > thresh else \"black\")\n",
    "    fig.tight_layout()\n",
    "    return ax"
   ]
  },
  {
   "cell_type": "code",
   "execution_count": 325,
   "metadata": {},
   "outputs": [
    {
     "data": {
      "image/png": "[encoded data removed]",
      "text/plain": [
       "<Figure size 720x720 with 2 Axes>"
      ]
     },
     "metadata": {
      "needs_background": "light"
     },
     "output_type": "display_data"
    },
    {
     "data": {
      "image/png": "[encoded data removed]",
      "text/plain": [
       "<Figure size 720x720 with 2 Axes>"
      ]
     },
     "metadata": {
      "needs_background": "light"
     },
     "output_type": "display_data"
    }
   ],
   "source": [
    "#Plot non-normalized confusion matrix\n",
    "plot_confusion_matrix(labels, predictions, classes=np.sort(np.unique(labels)),\n",
    "                      title='Confusion matrix (Without Normalization)')\n",
    "\n",
    "plt.show()\n",
    "# Plot normalized confusion matrix\n",
    "plot_confusion_matrix(labels, predictions, classes=np.sort(np.unique(labels)),\n",
    "                      normalize=True, title='Normalized Confusion Matrix')\n",
    "\n",
    "plt.show()"
   ]
  },
  {
   "cell_type": "code",
   "execution_count": 329,
   "metadata": {},
   "outputs": [
    {
     "name": "stdout",
     "output_type": "stream",
     "text": [
      "Classification report for classifier Parzen Based Classifier:\n",
      "              precision    recall  f1-score   support\n",
      "\n",
      "          -1       0.84      0.56      0.67       102\n",
      "           1       0.56      0.84      0.67        69\n",
      "\n",
      "   micro avg       0.67      0.67      0.67       171\n",
      "   macro avg       0.70      0.70      0.67       171\n",
      "weighted avg       0.73      0.67      0.67       171\n",
      "\n",
      "\n"
     ]
    }
   ],
   "source": [
    "expected = labels\n",
    "print(\"Classification report for classifier %s:\\n%s\\n\"\n",
    "      % ('Parzen Based Classifier', metrics.classification_report(expected, predictions)))"
   ]
  },
  {
   "cell_type": "markdown",
   "metadata": {},
   "source": [
    "There is one class with high precision and low recall and other with high recall and low precision. \n",
    "The $F_1$-score is 0.67. Which I think it is pretty good for a Kernel Classifier such as this."
   ]
  },
  {
   "cell_type": "code",
   "execution_count": null,
   "metadata": {},
   "outputs": [],
   "source": []
  }
 ],
 "metadata": {
  "@webio": {
   "lastCommId": null,
   "lastKernelId": null
  },
  "kernelspec": {
   "display_name": "Python 3",
   "language": "python",
   "name": "python3"
  },
  "latex_envs": {
   "LaTeX_envs_menu_present": true,
   "autoclose": false,
   "autocomplete": true,
   "bibliofile": "biblio.bib",
   "cite_by": "apalike",
   "current_citInitial": 1,
   "eqLabelWithNumbers": true,
   "eqNumInitial": 1,
   "hotkeys": {
    "equation": "Ctrl-E",
    "itemize": "Ctrl-I"
   },
   "labels_anchors": false,
   "latex_user_defs": false,
   "report_style_numbering": false,
   "user_envs_cfg": false
  },
  "toc": {
   "base_numbering": 1,
   "nav_menu": {},
   "number_sections": true,
   "sideBar": true,
   "skip_h1_title": false,
   "title_cell": "Table of Contents",
   "title_sidebar": "Contents",
   "toc_cell": false,
   "toc_position": {},
   "toc_section_display": true,
   "toc_window_display": true
  },
  "varInspector": {
   "cols": {
    "lenName": 16,
    "lenType": 16,
    "lenVar": 40
   },
   "kernels_config": {
    "python": {
     "delete_cmd_postfix": "",
     "delete_cmd_prefix": "del ",
     "library": "var_list.py",
     "varRefreshCmd": "print(var_dic_list())"
    },
    "r": {
     "delete_cmd_postfix": ") ",
     "delete_cmd_prefix": "rm(",
     "library": "var_list.r",
     "varRefreshCmd": "cat(var_dic_list()) "
    }
   },
   "oldHeight": 581,
   "position": {
    "height": "40px",
    "left": "1650px",
    "right": "20px",
    "top": "120px",
    "width": "250px"
   },
   "types_to_exclude": [
    "module",
    "function",
    "builtin_function_or_method",
    "instance",
    "_Feature"
   ],
   "varInspector_section_display": "none",
   "window_display": false
  }
 },
 "nbformat": 4,
 "nbformat_minor": 2
}
