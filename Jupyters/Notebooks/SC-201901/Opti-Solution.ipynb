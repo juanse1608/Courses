{
 "cells": [
  {
   "cell_type": "markdown",
   "metadata": {},
   "source": [
    "# Solutions of Optimization Homework.\n",
    "\n",
    "[Juan Sebastián Corredor Rodriguez](https://github.com/juanse1608) - jucorredor@unal.edu.co\n",
    "\n",
    "This notebook contents the solution of the homework about optimization found in"
   ]
  },
  {
   "cell_type": "code",
   "execution_count": 74,
   "metadata": {},
   "outputs": [],
   "source": [
    "#Loading the required libraries\n",
    "import numpy as np\n",
    "import pandas as pd\n",
    "import scipy as sc\n",
    "import time\n",
    "import matplotlib\n",
    "from mpl_toolkits import mplot3d\n",
    "import matplotlib.pyplot as plt\n",
    "from scipy.optimize import minimize"
   ]
  },
  {
   "cell_type": "markdown",
   "metadata": {},
   "source": [
    "## Problem 1: The Styblinski-Tang Function.\n",
    "\n",
    "Minimize the next function using BFGS, Conjugate Gradient and L-BFGS and compare the results:\n",
    "\\begin{align*}\n",
    "f(x_1,\\ldots,x_n) &= \\frac{1}{2}\\sum_{i=1}^{n} (x_i^4-16x_i^2+5x_i) \\:\\:\\:\\:\\text{Styblinski-Tang Function}\n",
    "\\end{align*}\n",
    "Evaluate the behavior of the algorithms as:\n",
    "\n",
    "1. The dimension $n$ goes to infinity i.e. $n \\to \\infty$.\n",
    "2. Changes the initial value $x_0$."
   ]
  },
  {
   "cell_type": "markdown",
   "metadata": {},
   "source": [
    "__Solution.__ Let's write the Styblinski-Tang Function in Python:"
   ]
  },
  {
   "cell_type": "code",
   "execution_count": 44,
   "metadata": {},
   "outputs": [],
   "source": [
    "#The function written in python\n",
    "def sty_tang(x):\n",
    "    return 1/2*sum(x**4-16*x**2+5*x)"
   ]
  },
  {
   "cell_type": "code",
   "execution_count": 62,
   "metadata": {},
   "outputs": [],
   "source": [
    "#We define a dimension and an initial value\n",
    "dimension = 10\n",
    "initial_value = 100\n",
    "initial_x = np.repeat(initial_value , dimension)"
   ]
  },
  {
   "cell_type": "markdown",
   "metadata": {},
   "source": [
    "Let's see the bahavior of this algorithms in terms of time:"
   ]
  },
  {
   "cell_type": "code",
   "execution_count": 27,
   "metadata": {},
   "outputs": [
    {
     "name": "stdout",
     "output_type": "stream",
     "text": [
      "66.3 ms ± 0 ns per loop (mean ± std. dev. of 1 run, 10 loops each)\n"
     ]
    }
   ],
   "source": [
    "%%timeit -n10 -r1\n",
    "#It counts the avg time after doing 10 iterations\n",
    "min_bfgs = minimize(sty_tang, initial_x , method='BFGS', options={'disp': False})"
   ]
  },
  {
   "cell_type": "code",
   "execution_count": 28,
   "metadata": {},
   "outputs": [
    {
     "name": "stdout",
     "output_type": "stream",
     "text": [
      "8.35 ms ± 0 ns per loop (mean ± std. dev. of 1 run, 10 loops each)\n"
     ]
    }
   ],
   "source": [
    "%%timeit -n10 -r1\n",
    "#It counts the avg time after doing 10 iterations\n",
    "min_cg = minimize(sty_tang, initial_x , method='CG', options={'disp': False})"
   ]
  },
  {
   "cell_type": "code",
   "execution_count": 29,
   "metadata": {},
   "outputs": [
    {
     "name": "stdout",
     "output_type": "stream",
     "text": [
      "7.23 ms ± 0 ns per loop (mean ± std. dev. of 1 run, 10 loops each)\n"
     ]
    }
   ],
   "source": [
    "%%timeit -n10 -r1\n",
    "#It counts the avg time after doing 10 iterations\n",
    "min_lbfgs = minimize(sty_tang, initial_x , method='L-BFGS-B', options={'disp': False})"
   ]
  },
  {
   "cell_type": "markdown",
   "metadata": {},
   "source": [
    "The CG and L-BFGS methods took approx 8.4 ms and 7.2 ms respectively. On the other hand, BFGS took 66 ms approximately. It's clear that CG and L-BFGS take less time than BFGS, but know let's see the results of the algorithms."
   ]
  },
  {
   "cell_type": "code",
   "execution_count": 63,
   "metadata": {},
   "outputs": [],
   "source": [
    "min_bfgs = minimize(sty_tang, initial_x , method='BFGS', options={'disp': False})\n",
    "min_cg = minimize(sty_tang, initial_x , method='CG', options={'disp': False})\n",
    "min_lbfgs = minimize(sty_tang, initial_x , method='L-BFGS-B', options={'disp': False})"
   ]
  },
  {
   "cell_type": "code",
   "execution_count": 64,
   "metadata": {},
   "outputs": [
    {
     "name": "stdout",
     "output_type": "stream",
     "text": [
      "Results for BFGS:  Optimization terminated successfully.  The minimum is f(x) =  -250.29446655283647 \n",
      "\n",
      "with x =  [2.75 2.75 2.75 2.75 2.75 2.75 2.75 2.75 2.75 2.75]\n"
     ]
    }
   ],
   "source": [
    "print('Results for BFGS: ', min_bfgs.message, ' The minimum is f(x) = ',\n",
    "       min_bfgs.fun, '\\n\\nwith x = ', np.round(min_bfgs.x,2)) "
   ]
  },
  {
   "cell_type": "code",
   "execution_count": 65,
   "metadata": {},
   "outputs": [
    {
     "name": "stdout",
     "output_type": "stream",
     "text": [
      "Results for CG:  Desired error not necessarily achieved due to precision loss.  The minimum is f(x) =  140419253.04471308 \n",
      "\n",
      "with x =  [72.85 72.85 72.85 72.85 72.85 72.85 72.85 72.85 72.85 72.85]\n"
     ]
    }
   ],
   "source": [
    "print('Results for CG: ', min_cg.message, ' The minimum is f(x) = ',\n",
    "       min_cg.fun, '\\n\\nwith x = ', np.round(min_cg.x,2)) "
   ]
  },
  {
   "cell_type": "code",
   "execution_count": 71,
   "metadata": {},
   "outputs": [
    {
     "name": "stdout",
     "output_type": "stream",
     "text": [
      "Results for L-BFGS: Does the optimization terminate successfully?  True. The minimum is f(x) =  -250.2944665528392 \n",
      "\n",
      "with x =  [2.75 2.75 2.75 2.75 2.75 2.75 2.75 2.75 2.75 2.75]\n"
     ]
    }
   ],
   "source": [
    "print('Results for L-BFGS: Does the optimization terminate successfully? ', np.str(min_lbfgs.success) + '.' ,\n",
    "      'The minimum is f(x) = ',\n",
    "       min_lbfgs.fun, '\\n\\nwith x = ', np.round(min_lbfgs.x,2)) "
   ]
  },
  {
   "cell_type": "markdown",
   "metadata": {},
   "source": [
    "1. It is clear that both BFGS and L-BFGS reach a local minimum successfully. Whereas CG does not appear to converge and (intuitively) does not reach a local minimum.\n",
    "\n",
    "2. It looks like our function does not reach the global minimum $f(x^*)=-39.16d$ with $x^*=(-2.9,\\ldots,-2.9)$ no matter the algorithm. But, what is happening? Let's find out."
   ]
  },
  {
   "cell_type": "code",
   "execution_count": 109,
   "metadata": {
    "scrolled": true
   },
   "outputs": [
    {
     "data": {
      "text/plain": [
       "<mpl_toolkits.mplot3d.art3d.Poly3DCollection at 0x1293ff908>"
      ]
     },
     "execution_count": 109,
     "metadata": {},
     "output_type": "execute_result"
    },
    {
     "data": {
      "image/png": "[encoded data removed]",
      "text/plain": [
       "<Figure size 432x288 with 1 Axes>"
      ]
     },
     "metadata": {
      "needs_background": "light"
     },
     "output_type": "display_data"
    }
   ],
   "source": [
    "#Let's plot our function when x is two-dimensional and see what we get\n",
    "x = np.linspace(-5, 5, 250)\n",
    "y = np.linspace(-5, 5, 250)\n",
    "x, y = np.meshgrid(x, y)\n",
    "z = sty_tang(np.array([x,y]))\n",
    "\n",
    "ax = plt.axes(projection='3d')\n",
    "ax.set_title('Styblinsky Tang Function')\n",
    "ax.plot_surface(x, y, z, rstride=1, cstride=1, cmap='inferno_r', edgecolor='none')"
   ]
  },
  {
   "cell_type": "markdown",
   "metadata": {},
   "source": [
    "It looks that our function has four local minimums (one being the global). So, it is natural that the algorithms does not reach the global minimum under certain initial values. Now, let's evaluate some initial values and see the bahavior of the algorithms.\n",
    "\n",
    "__What if we set initial value nearer to any local minimum?__"
   ]
  },
  {
   "cell_type": "code",
   "execution_count": 137,
   "metadata": {},
   "outputs": [
    {
     "name": "stdout",
     "output_type": "stream",
     "text": [
      "\n",
      "Initial Value:  [-50 -50 -50 -50 -50 -50 -50 -50 -50 -50] \n",
      "Results for BFGS:  Optimization terminated successfully.  The minimum is f(x) =  -377.52 \n",
      "with x =  [-2.9  -2.9  -2.9  -2.9  -2.9  -2.9  -2.9  -2.9  -2.9   2.75]\n",
      "\n",
      "Initial Value:  [-40 -40 -40 -40 -40 -40 -40 -40 -40 -40] \n",
      "Results for BFGS:  Optimization terminated successfully.  The minimum is f(x) =  -391.66 \n",
      "with x =  [-2.9 -2.9 -2.9 -2.9 -2.9 -2.9 -2.9 -2.9 -2.9 -2.9]\n",
      "\n",
      "Initial Value:  [-30 -30 -30 -30 -30 -30 -30 -30 -30 -30] \n",
      "Results for BFGS:  Optimization terminated successfully.  The minimum is f(x) =  -377.52 \n",
      "with x =  [-2.9  -2.9  -2.9  -2.9  -2.9   2.75 -2.9  -2.9  -2.9  -2.9 ]\n",
      "\n",
      "Initial Value:  [-20 -20 -20 -20 -20 -20 -20 -20 -20 -20] \n",
      "Results for BFGS:  Optimization terminated successfully.  The minimum is f(x) =  -391.66 \n",
      "with x =  [-2.9 -2.9 -2.9 -2.9 -2.9 -2.9 -2.9 -2.9 -2.9 -2.9]\n",
      "\n",
      "Initial Value:  [-10 -10 -10 -10 -10 -10 -10 -10 -10 -10] \n",
      "Results for BFGS:  Optimization terminated successfully.  The minimum is f(x) =  -391.66 \n",
      "with x =  [-2.9 -2.9 -2.9 -2.9 -2.9 -2.9 -2.9 -2.9 -2.9 -2.9]\n"
     ]
    }
   ],
   "source": [
    "initial_value = -50\n",
    "while initial_value <= -5:\n",
    "    initial_x = np.repeat(initial_value , dimension)\n",
    "    min_bfgs = minimize(sty_tang, initial_x , method='BFGS', options={'disp': False})\n",
    "    print('\\nInitial Value: ', initial_x, '\\nResults for BFGS: ', min_bfgs.message, ' The minimum is f(x) = ',\n",
    "           np.round(min_bfgs.fun, 2), '\\nwith x = ', np.round(min_bfgs.x,2)) \n",
    "    initial_value += 10"
   ]
  },
  {
   "cell_type": "code",
   "execution_count": 135,
   "metadata": {},
   "outputs": [
    {
     "name": "stdout",
     "output_type": "stream",
     "text": [
      "\n",
      "Initial Value:  [-50 -50 -50 -50 -50 -50 -50 -50 -50 -50] \n",
      "Results for CG:  Optimization terminated successfully.  The minimum is f(x) =  -250.29 \n",
      "with x =  [2.75 2.75 2.75 2.75 2.75 2.75 2.75 2.75 2.75 2.75]\n",
      "\n",
      "Initial Value:  [-40 -40 -40 -40 -40 -40 -40 -40 -40 -40] \n",
      "Results for CG:  Desired error not necessarily achieved due to precision loss.  The minimum is f(x) =  122870.67 \n",
      "with x =  [-12.85 -12.85 -12.85 -12.85 -12.85 -12.85 -12.85 -12.85 -12.85 -12.85]\n",
      "\n",
      "Initial Value:  [-30 -30 -30 -30 -30 -30 -30 -30 -30 -30] \n",
      "Results for CG:  Optimization terminated successfully.  The minimum is f(x) =  -250.29 \n",
      "with x =  [2.75 2.75 2.75 2.75 2.75 2.75 2.75 2.75 2.75 2.75]\n",
      "\n",
      "Initial Value:  [-20 -20 -20 -20 -20 -20 -20 -20 -20 -20] \n",
      "Results for CG:  Optimization terminated successfully.  The minimum is f(x) =  -250.29 \n",
      "with x =  [2.75 2.75 2.75 2.75 2.75 2.75 2.75 2.75 2.75 2.75]\n",
      "\n",
      "Initial Value:  [-10 -10 -10 -10 -10 -10 -10 -10 -10 -10] \n",
      "Results for CG:  Optimization terminated successfully.  The minimum is f(x) =  -391.66 \n",
      "with x =  [-2.9 -2.9 -2.9 -2.9 -2.9 -2.9 -2.9 -2.9 -2.9 -2.9]\n",
      "\n",
      "Initial Value:  [0 0 0 0 0 0 0 0 0 0] \n",
      "Results for CG:  Optimization terminated successfully.  The minimum is f(x) =  -391.66 \n",
      "with x =  [-2.9 -2.9 -2.9 -2.9 -2.9 -2.9 -2.9 -2.9 -2.9 -2.9]\n"
     ]
    }
   ],
   "source": [
    "initial_value = -50\n",
    "while initial_value <= 0:\n",
    "    initial_x = np.repeat(initial_value , dimension)\n",
    "    min_cg = minimize(sty_tang, initial_x , method='CG', options={'disp': False})\n",
    "    print('\\nInitial Value: ', initial_x, '\\nResults for CG: ', min_cg.message, ' The minimum is f(x) = ',\n",
    "           np.round(min_cg.fun, 2), '\\nwith x = ', np.round(min_cg.x,2)) \n",
    "    initial_value += 10 "
   ]
  },
  {
   "cell_type": "code",
   "execution_count": 136,
   "metadata": {},
   "outputs": [
    {
     "name": "stdout",
     "output_type": "stream",
     "text": [
      "\n",
      "Initial Value:  [-50 -50 -50 -50 -50 -50 -50 -50 -50 -50] \n",
      "Results for L-BFGS: Does the optimization terminate successfully?  True. The minimum is f(x) =  -391.66 \n",
      "with x =  [-2.9 -2.9 -2.9 -2.9 -2.9 -2.9 -2.9 -2.9 -2.9 -2.9]\n",
      "\n",
      "Initial Value:  [-40 -40 -40 -40 -40 -40 -40 -40 -40 -40] \n",
      "Results for L-BFGS: Does the optimization terminate successfully?  True. The minimum is f(x) =  -391.66 \n",
      "with x =  [-2.9 -2.9 -2.9 -2.9 -2.9 -2.9 -2.9 -2.9 -2.9 -2.9]\n",
      "\n",
      "Initial Value:  [-30 -30 -30 -30 -30 -30 -30 -30 -30 -30] \n",
      "Results for L-BFGS: Does the optimization terminate successfully?  True. The minimum is f(x) =  -391.66 \n",
      "with x =  [-2.9 -2.9 -2.9 -2.9 -2.9 -2.9 -2.9 -2.9 -2.9 -2.9]\n",
      "\n",
      "Initial Value:  [-20 -20 -20 -20 -20 -20 -20 -20 -20 -20] \n",
      "Results for L-BFGS: Does the optimization terminate successfully?  True. The minimum is f(x) =  -391.66 \n",
      "with x =  [-2.9 -2.9 -2.9 -2.9 -2.9 -2.9 -2.9 -2.9 -2.9 -2.9]\n",
      "\n",
      "Initial Value:  [-10 -10 -10 -10 -10 -10 -10 -10 -10 -10] \n",
      "Results for L-BFGS: Does the optimization terminate successfully?  True. The minimum is f(x) =  -391.66 \n",
      "with x =  [-2.9 -2.9 -2.9 -2.9 -2.9 -2.9 -2.9 -2.9 -2.9 -2.9]\n"
     ]
    }
   ],
   "source": [
    "initial_value = -50\n",
    "while initial_value <= -5:\n",
    "    initial_x = np.repeat(initial_value , dimension)\n",
    "    min_lbfgs = minimize(sty_tang, initial_x , method='L-BFGS-B', options={'disp': False})\n",
    "    print('\\nInitial Value: ', initial_x, '\\nResults for L-BFGS: Does the optimization terminate successfully? ',\n",
    "           np.str(min_lbfgs.success) + '.' ,\n",
    "          'The minimum is f(x) = ',\n",
    "           np.round(min_lbfgs.fun, 2), '\\nwith x = ', np.round(min_lbfgs.x,2)) \n",
    "    initial_value += 10 "
   ]
  },
  {
   "cell_type": "markdown",
   "metadata": {},
   "source": [
    "In this particular case, mantaining constant the dimension, it's clear that BFGS and L-BFGS are stronger that CG, since they both converge far from the respective minimum. \n",
    "\n",
    "On the other hand, CG needs to be closer to the initial value to converge to a local minimum. "
   ]
  },
  {
   "cell_type": "code",
   "execution_count": null,
   "metadata": {},
   "outputs": [],
   "source": []
  }
 ],
 "metadata": {
  "kernelspec": {
   "display_name": "Python 3",
   "language": "python",
   "name": "python3"
  },
  "language_info": {
   "codemirror_mode": {
    "name": "ipython",
    "version": 3
   },
   "file_extension": ".py",
   "mimetype": "text/x-python",
   "name": "python",
   "nbconvert_exporter": "python",
   "pygments_lexer": "ipython3",
   "version": "3.6.8"
  },
  "latex_envs": {
   "LaTeX_envs_menu_present": true,
   "autoclose": false,
   "autocomplete": true,
   "bibliofile": "biblio.bib",
   "cite_by": "apalike",
   "current_citInitial": 1,
   "eqLabelWithNumbers": true,
   "eqNumInitial": 1,
   "hotkeys": {
    "equation": "Ctrl-E",
    "itemize": "Ctrl-I"
   },
   "labels_anchors": false,
   "latex_user_defs": false,
   "report_style_numbering": false,
   "user_envs_cfg": false
  },
  "toc": {
   "base_numbering": 1,
   "nav_menu": {},
   "number_sections": true,
   "sideBar": true,
   "skip_h1_title": false,
   "title_cell": "Table of Contents",
   "title_sidebar": "Contents",
   "toc_cell": false,
   "toc_position": {
    "height": "calc(100% - 180px)",
    "left": "10px",
    "top": "150px",
    "width": "329.266px"
   },
   "toc_section_display": true,
   "toc_window_display": true
  },
  "varInspector": {
   "cols": {
    "lenName": 16,
    "lenType": 16,
    "lenVar": 40
   },
   "kernels_config": {
    "python": {
     "delete_cmd_postfix": "",
     "delete_cmd_prefix": "del ",
     "library": "var_list.py",
     "varRefreshCmd": "print(var_dic_list())"
    },
    "r": {
     "delete_cmd_postfix": ") ",
     "delete_cmd_prefix": "rm(",
     "library": "var_list.r",
     "varRefreshCmd": "cat(var_dic_list()) "
    }
   },
   "position": {
    "height": "473.722px",
    "left": "9.43465px",
    "right": "20px",
    "top": "287.986px",
    "width": "213.182px"
   },
   "types_to_exclude": [
    "module",
    "function",
    "builtin_function_or_method",
    "instance",
    "_Feature"
   ],
   "window_display": false
  }
 },
 "nbformat": 4,
 "nbformat_minor": 2
}
