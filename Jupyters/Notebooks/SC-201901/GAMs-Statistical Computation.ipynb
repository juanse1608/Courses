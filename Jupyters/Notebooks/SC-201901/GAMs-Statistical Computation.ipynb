{
 "cells": [
  {
   "cell_type": "markdown",
   "metadata": {},
   "source": [
    "# Kernel Methods - Homework\n",
    "\n",
    "__Métodos Intensivos de Computación Estadística__\n",
    "\n",
    "Juan Sebastián Corredor Rodriguez - jucorredorr@unal.edu.co\n",
    "\n",
    "See my [Github Account](https://github.com/juanse1608) to know more about me and my projects."
   ]
  },
  {
   "cell_type": "code",
   "execution_count": 20,
   "metadata": {},
   "outputs": [],
   "source": [
    "#Loading the required libraries\n",
    "#install.packages('caret')\n",
    "#install.packages('gamlss')\n",
    "#install.packages('e1071')\n",
    "#devtools::install_github(\"r-lib/rlang\", build_vignettes = TRUE)\n",
    "library(gamlss)\n",
    "library(caret)\n",
    "library(e1071)"
   ]
  },
  {
   "cell_type": "markdown",
   "metadata": {},
   "source": [
    "The main idea of this script is to see a to classify the breast cancer diagnosis using GAMLSS models\n",
    "\n",
    "---"
   ]
  },
  {
   "cell_type": "code",
   "execution_count": 3,
   "metadata": {},
   "outputs": [],
   "source": [
    "#Let's plot the working directory\n",
    "setwd('../../Datasets/')"
   ]
  },
  {
   "cell_type": "code",
   "execution_count": 4,
   "metadata": {},
   "outputs": [],
   "source": [
    "#Let's load the names and the data\n",
    "names = read.table('wpbc_names.dat', stringsAsFactors = F)\n",
    "dta = read.table('breast_data.dat', sep = ',')"
   ]
  },
  {
   "cell_type": "code",
   "execution_count": 5,
   "metadata": {},
   "outputs": [],
   "source": [
    "colnames(dta) = unique(names)[1:32,]"
   ]
  },
  {
   "cell_type": "code",
   "execution_count": 6,
   "metadata": {},
   "outputs": [
    {
     "ename": "ERROR",
     "evalue": "Error in names(x) <- value: el atributo 'names' [33] debe tener la misma longitud que el vector [32]\n",
     "output_type": "error",
     "traceback": [
      "Error in names(x) <- value: el atributo 'names' [33] debe tener la misma longitud que el vector [32]\nTraceback:\n",
      "1. `colnames<-`(`*tmp*`, value = c(\"id\", \"diagnosis\", \"radius_mean\", \n . \"texture_mean\", \"perimeter_mean\", \"area_mean\", \"smoothness_mean\", \n . \"compactness_mean\", \"concavity_mean\", \"concave\", \"points_mean\", \n . \"symmetry_mean\", \"fractal_dimension_mean\", \"radius_se\", \"texture_se\", \n . \"perimeter_se\", \"area_se\", \"smoothness_se\", \"compactness_se\", \n . \"concavity_se\", \"points_se\", \"symmetry_se\", \"fractal_dimension_se\", \n . \"radius_worst\", \"texture_worst\", \"perimeter_worst\", \"area_worst\", \n . \"smoothness_worst\", \"compactness_worst\", \"concavity_worst\", \"points_worst\", \n . \"symmetry_worst\", \"fractal_dimension_worst\"))"
     ]
    }
   ],
   "source": [
    "#Let's assign\n",
    "colnames(dta)  = unique(names[,1])\n",
    "print(head(dta))"
   ]
  },
  {
   "cell_type": "code",
   "execution_count": 7,
   "metadata": {},
   "outputs": [],
   "source": [
    "#Remove ids\n",
    "dta$id= NULL"
   ]
  },
  {
   "cell_type": "code",
   "execution_count": 8,
   "metadata": {},
   "outputs": [
    {
     "data": {
      "text/plain": [
       "\n",
       "  B   M \n",
       "357 212 "
      ]
     },
     "metadata": {},
     "output_type": "display_data"
    }
   ],
   "source": [
    "#Let's see the distribution of the diagnosis \n",
    "table(dta$diagnosis)\n",
    "#Looks not at all inflated"
   ]
  },
  {
   "cell_type": "code",
   "execution_count": 9,
   "metadata": {},
   "outputs": [],
   "source": [
    "trains = sample(1:nrow(dta), size = ceiling(0.8*nrow(dta)), replace = FALSE)\n",
    "dta_train = dta[trains,]\n",
    "dta_test = dta_train[-trains,]"
   ]
  },
  {
   "cell_type": "code",
   "execution_count": 10,
   "metadata": {},
   "outputs": [
    {
     "name": "stdout",
     "output_type": "stream",
     "text": [
      "[1] \"The AIC is 999.134988117046\"\n"
     ]
    }
   ],
   "source": [
    "control = gamlss.control(trace = F)\n",
    "m_binomial = gamlss(diagnosis ~ ., data = dta_train, family = BI, control = control)\n",
    "print(paste('The AIC is', GAIC(m_binomial)))"
   ]
  },
  {
   "cell_type": "code",
   "execution_count": 11,
   "metadata": {},
   "outputs": [
    {
     "name": "stdout",
     "output_type": "stream",
     "text": [
      "******************************************************************\n",
      "Family:  c(\"BI\", \"Binomial\") \n",
      "\n",
      "Call:  gamlss(formula = diagnosis ~ ., family = BI, data = dta_train,  \n",
      "    control = control) \n",
      "\n",
      "Fitting method: RS() \n",
      "\n",
      "------------------------------------------------------------------\n",
      "Mu link function:  logit\n",
      "Mu Coefficients:\n",
      "                         Estimate Std. Error t value Pr(>|t|)    \n",
      "(Intercept)            -4.855e+10  2.002e+05 -242576   <2e-16 ***\n",
      "radius_mean             7.250e+09  7.934e+04   91377   <2e-16 ***\n",
      "texture_mean           -6.764e+07  3.860e+03  -17524   <2e-16 ***\n",
      "perimeter_mean         -8.045e+08  1.160e+04  -69365   <2e-16 ***\n",
      "area_mean              -1.395e+07  2.599e+02  -53667   <2e-16 ***\n",
      "smoothness_mean         9.141e+09  9.744e+05    9381   <2e-16 ***\n",
      "compactness_mean       -5.793e+09  6.335e+05   -9145   <2e-16 ***\n",
      "concavity_mean          2.082e+10  4.956e+05   42000   <2e-16 ***\n",
      "concave                -8.856e+09  9.640e+05   -9187   <2e-16 ***\n",
      "points_mean            -1.041e+10  3.648e+05  -28531   <2e-16 ***\n",
      "symmetry_mean          -5.675e+09  2.632e+06   -2156   <2e-16 ***\n",
      "fractal_dimension_mean  1.397e+10  1.472e+05   94907   <2e-16 ***\n",
      "radius_se               1.986e+07  1.823e+04    1090   <2e-16 ***\n",
      "texture_se             -2.840e+08  1.969e+04  -14426   <2e-16 ***\n",
      "perimeter_se           -3.237e+07  6.413e+02  -50465   <2e-16 ***\n",
      "area_se                 4.024e+11  3.564e+06  112919   <2e-16 ***\n",
      "smoothness_se           2.923e+10  1.029e+06   28416   <2e-16 ***\n",
      "compactness_se         -6.310e+10  5.984e+05 -105454   <2e-16 ***\n",
      "concavity_se           -4.256e+10  2.674e+06  -15919   <2e-16 ***\n",
      "points_se               2.919e+09  1.324e+06    2205   <2e-16 ***\n",
      "symmetry_se            -6.099e+10  5.378e+06  -11341   <2e-16 ***\n",
      "fractal_dimension_se   -3.146e+08  2.852e+04  -11030   <2e-16 ***\n",
      "radius_worst            3.010e+08  3.380e+03   89048   <2e-16 ***\n",
      "texture_worst           1.809e+08  2.806e+03   64447   <2e-16 ***\n",
      "perimeter_worst        -8.562e+06  1.597e+02  -53613   <2e-16 ***\n",
      "area_worst             -1.895e+10  7.192e+05  -26352   <2e-16 ***\n",
      "smoothness_worst       -1.411e+10  1.781e+05  -79239   <2e-16 ***\n",
      "compactness_worst       8.405e+09  1.276e+05   65863   <2e-16 ***\n",
      "concavity_worst         4.583e+10  4.378e+05  104679   <2e-16 ***\n",
      "points_worst            1.163e+10  2.443e+05   47592   <2e-16 ***\n",
      "symmetry_worst          6.769e+10  1.105e+06   61277   <2e-16 ***\n",
      "---\n",
      "Signif. codes:  0 ‘***’ 0.001 ‘**’ 0.01 ‘*’ 0.05 ‘.’ 0.1 ‘ ’ 1\n",
      "\n",
      "------------------------------------------------------------------\n",
      "No. of observations in the fit:  456 \n",
      "Degrees of Freedom for the fit:  31\n",
      "      Residual Deg. of Freedom:  425 \n",
      "                      at cycle:  5 \n",
      " \n",
      "Global Deviance:     937.135 \n",
      "            AIC:     999.135 \n",
      "            SBC:     1126.932 \n",
      "******************************************************************\n"
     ]
    }
   ],
   "source": [
    "options(warn=-1)\n",
    "summary(m_binomial)"
   ]
  },
  {
   "cell_type": "markdown",
   "metadata": {},
   "source": [
    "We can see with this model that all the coefficients are significant.\n",
    "\n",
    "---\n",
    "\n",
    "Now let's see how it predicts data"
   ]
  },
  {
   "cell_type": "code",
   "execution_count": 12,
   "metadata": {},
   "outputs": [],
   "source": [
    "predictions = round(predict(object = m_binomial, newdata = dta_test[,-1], type='response'))\n",
    "expected = as.numeric(dta_test$diagnosis == 'M')"
   ]
  },
  {
   "cell_type": "code",
   "execution_count": 17,
   "metadata": {},
   "outputs": [
    {
     "name": "stdout",
     "output_type": "stream",
     "text": [
      "[1] 0.01086957\n"
     ]
    }
   ],
   "source": [
    "#Let's take a look at the mse \n",
    "mse = mean(abs(predictions - expected))\n",
    "print(mse)"
   ]
  },
  {
   "cell_type": "markdown",
   "metadata": {},
   "source": [
    "It is pretty lower, the model it is almost perfect. GOOD! "
   ]
  },
  {
   "cell_type": "code",
   "execution_count": 21,
   "metadata": {},
   "outputs": [
    {
     "data": {
      "text/plain": [
       "Confusion Matrix and Statistics\n",
       "\n",
       "          Reference\n",
       "Prediction  0  1\n",
       "         0 52  0\n",
       "         1  1 39\n",
       "                                          \n",
       "               Accuracy : 0.9891          \n",
       "                 95% CI : (0.9409, 0.9997)\n",
       "    No Information Rate : 0.5761          \n",
       "    P-Value [Acc > NIR] : <2e-16          \n",
       "                                          \n",
       "                  Kappa : 0.9778          \n",
       "                                          \n",
       " Mcnemar's Test P-Value : 1               \n",
       "                                          \n",
       "            Sensitivity : 0.9811          \n",
       "            Specificity : 1.0000          \n",
       "         Pos Pred Value : 1.0000          \n",
       "         Neg Pred Value : 0.9750          \n",
       "             Prevalence : 0.5761          \n",
       "         Detection Rate : 0.5652          \n",
       "   Detection Prevalence : 0.5652          \n",
       "      Balanced Accuracy : 0.9906          \n",
       "                                          \n",
       "       'Positive' Class : 0               \n",
       "                                          "
      ]
     },
     "metadata": {},
     "output_type": "display_data"
    }
   ],
   "source": [
    "#The confusion matrix\n",
    "confusionMatrix(data = as.factor(predictions), reference = as.factor(expected))"
   ]
  },
  {
   "cell_type": "markdown",
   "metadata": {},
   "source": [
    "We can see very nice results, with an accuracy of 98.91%."
   ]
  },
  {
   "cell_type": "code",
   "execution_count": null,
   "metadata": {},
   "outputs": [],
   "source": []
  }
 ],
 "metadata": {
  "@webio": {
   "lastCommId": null,
   "lastKernelId": null
  },
  "kernelspec": {
   "display_name": "R",
   "language": "R",
   "name": "ir"
  },
  "language_info": {
   "codemirror_mode": "r",
   "file_extension": ".r",
   "mimetype": "text/x-r-source",
   "name": "R",
   "pygments_lexer": "r",
   "version": "3.6.0"
  },
  "latex_envs": {
   "LaTeX_envs_menu_present": true,
   "autoclose": false,
   "autocomplete": true,
   "bibliofile": "biblio.bib",
   "cite_by": "apalike",
   "current_citInitial": 1,
   "eqLabelWithNumbers": true,
   "eqNumInitial": 1,
   "hotkeys": {
    "equation": "Ctrl-E",
    "itemize": "Ctrl-I"
   },
   "labels_anchors": false,
   "latex_user_defs": false,
   "report_style_numbering": false,
   "user_envs_cfg": false
  },
  "toc": {
   "base_numbering": 1,
   "nav_menu": {},
   "number_sections": true,
   "sideBar": true,
   "skip_h1_title": false,
   "title_cell": "Table of Contents",
   "title_sidebar": "Contents",
   "toc_cell": false,
   "toc_position": {},
   "toc_section_display": true,
   "toc_window_display": true
  },
  "varInspector": {
   "cols": {
    "lenName": 16,
    "lenType": 16,
    "lenVar": 40
   },
   "kernels_config": {
    "python": {
     "delete_cmd_postfix": "",
     "delete_cmd_prefix": "del ",
     "library": "var_list.py",
     "varRefreshCmd": "print(var_dic_list())"
    },
    "r": {
     "delete_cmd_postfix": ") ",
     "delete_cmd_prefix": "rm(",
     "library": "var_list.r",
     "varRefreshCmd": "cat(var_dic_list()) "
    }
   },
   "types_to_exclude": [
    "module",
    "function",
    "builtin_function_or_method",
    "instance",
    "_Feature"
   ],
   "window_display": false
  }
 },
 "nbformat": 4,
 "nbformat_minor": 2
}
