{
 "cells": [
  {
   "cell_type": "markdown",
   "metadata": {},
   "source": [
    "# Métodos computacionales de Optimización Multivariada en R\n",
    "\n",
    "#### Juan Sebastián Corredor Rodriguez - jucorredorr@unal.edu.co"
   ]
  },
  {
   "cell_type": "markdown",
   "metadata": {},
   "source": [
    "Ver https://cran.r-project.org/web/views/Optimization.html donde se encuentra la descripcción de bastantes librerías para implementar distintos métodos de optimización.\n",
    "Además se puede estudiar la librería _optimization_, que use para hacer el recocido simulado, en https://cran.r-project.org/web/packages/optimization/optimization.pdf. "
   ]
  },
  {
   "cell_type": "code",
   "execution_count": 158,
   "metadata": {},
   "outputs": [],
   "source": [
    "#Carga las librerias que implementa la optimizacion en R\n",
    "#install.packages('optimx')\n",
    "#install.packages('tictoc')\n",
    "#install.packages('optimization')\n",
    "library(stats)\n",
    "library(optimx)\n",
    "library(tictoc)\n",
    "library(optimization)\n",
    "\n",
    "#devtools::install_github(\"Non-Contradiction/autodiffr\")\n",
    "#devtools::install_github(\"Non-Contradiction/JuliaCall\")\n",
    "library(JuliaCall)\n",
    "library(autodiffr)"
   ]
  },
  {
   "cell_type": "code",
   "execution_count": 144,
   "metadata": {},
   "outputs": [],
   "source": [
    "#JuliaCall::julia_setup(rebuild = TRUE , JULIA_HOME = 'Applications/Julia-1.1.app/Contents/Resources/julia/bin/')"
   ]
  },
  {
   "cell_type": "code",
   "execution_count": 138,
   "metadata": {},
   "outputs": [],
   "source": [
    "#JuliaCall:::julia_locate(JULIA_HOME = \"Applications/Julia-1.1.app/Contents/Resources/julia/bin/\")"
   ]
  },
  {
   "cell_type": "code",
   "execution_count": 17,
   "metadata": {},
   "outputs": [],
   "source": [
    "#Define la función de Rosenbrock en R\n",
    "rosenbrock = function(x){\n",
    "   y = sum((1.0 - x[1:(length(x)-1)])^2 + (100.0 * (x[2:length(x)] - x[1:(length(x)-1)]^2)^2))\n",
    "  return(y)\n",
    "}"
   ]
  },
  {
   "cell_type": "markdown",
   "metadata": {},
   "source": [
    "### Método de Optimización Quasi Newton BFGS"
   ]
  },
  {
   "cell_type": "code",
   "execution_count": 143,
   "metadata": {},
   "outputs": [],
   "source": [
    "#gradiente = makeGradFunc(rosenbrock)"
   ]
  },
  {
   "cell_type": "code",
   "execution_count": 232,
   "metadata": {},
   "outputs": [
    {
     "data": {
      "text/plain": [
       "Time difference of 0.09826183 secs"
      ]
     },
     "metadata": {},
     "output_type": "display_data"
    }
   ],
   "source": [
    "#Realiza la optimizacion \n",
    "start_time = Sys.time()\n",
    "optimizacion = optimx(par = punto_inicial, fn = rosenbrock, method = 'BFGS', itnmax = 1000)\n",
    "end_time = Sys.time()\n",
    "time_taken = end_time - start_time\n",
    "time_taken"
   ]
  },
  {
   "cell_type": "code",
   "execution_count": 233,
   "metadata": {},
   "outputs": [
    {
     "name": "stdout",
     "output_type": "stream",
     "text": [
      "            p1        p2        p3        p4        p5        p6        p7\n",
      "BFGS 0.9999977 0.9999963 0.9999941 0.9999898 0.9999814 0.9999647 0.9999311\n",
      "            p8        p9       p10        value fevals gevals niter convcode\n",
      "BFGS 0.9998638 0.9997289 0.9994577 1.004916e-07    514    130    NA        0\n",
      "     kkt1 kkt2 xtime\n",
      "BFGS TRUE TRUE  0.01\n"
     ]
    }
   ],
   "source": [
    "print(optimizacion)"
   ]
  },
  {
   "cell_type": "code",
   "execution_count": 234,
   "metadata": {},
   "outputs": [
    {
     "name": "stdout",
     "output_type": "stream",
     "text": [
      "[1] \"1.09759999999987 segundos\"\n"
     ]
    }
   ],
   "source": [
    "tic.clearlog()\n",
    "for (x in 1:10) {\n",
    "    #passing x to tic() makes its value to become a label \n",
    "    #at time of the matching toc() call.\n",
    "    tic(x)\n",
    "    Sys.sleep(1)\n",
    "    optimx(par = punto_inicial, fn = rosenbrock, method = 'BFGS', itnmax = 1000)\n",
    "    #When log = TRUE, toc() pushes the measured timing to a list\n",
    "    #quiet = TRUE prevents from printing the timing\n",
    "    toc(log = TRUE, quiet = TRUE)\n",
    "}\n",
    "log_txt = tic.log(format = TRUE)\n",
    "log_lst = tic.log(format = FALSE)\n",
    "tic.clearlog()\n",
    "timings = unlist(lapply(log_lst, function(x) x$toc - x$tic)) ; print(paste(mean(timings), 'segundos'))"
   ]
  },
  {
   "cell_type": "markdown",
   "metadata": {},
   "source": [
    "### Método de Optimización del Gradiente Conjugado"
   ]
  },
  {
   "cell_type": "code",
   "execution_count": 240,
   "metadata": {},
   "outputs": [],
   "source": [
    "#Escoje el punto inicial y la dimension en la cual se va a realizar el problema\n",
    "dimension = 10\n",
    "punto_inicial = rep(100, dimension)"
   ]
  },
  {
   "cell_type": "code",
   "execution_count": 243,
   "metadata": {},
   "outputs": [
    {
     "data": {
      "text/plain": [
       "Time difference of 7.803389 secs"
      ]
     },
     "metadata": {},
     "output_type": "display_data"
    }
   ],
   "source": [
    "#Realiza la optimizacion \n",
    "start_time = Sys.time()\n",
    "optimizacion = optimx(par = punto_inicial, fn = rosenbrock, method = 'CG' , itnmax = 100000)\n",
    "end_time = Sys.time()\n",
    "time_taken = end_time - start_time\n",
    "time_taken"
   ]
  },
  {
   "cell_type": "code",
   "execution_count": 244,
   "metadata": {},
   "outputs": [
    {
     "name": "stdout",
     "output_type": "stream",
     "text": [
      "          p1 p2       p3       p4      p5       p6       p7      p8       p9\n",
      "CG 0.9999996  1 1.000002 1.000005 1.00001 1.000021 1.000044 1.00009 1.000181\n",
      "        p10        value fevals gevals niter convcode kkt1 kkt2 xtime\n",
      "CG 1.000365 4.529669e-08 253294  86607    NA        0 TRUE TRUE 7.591\n"
     ]
    }
   ],
   "source": [
    "print(optimizacion)"
   ]
  },
  {
   "cell_type": "code",
   "execution_count": 148,
   "metadata": {},
   "outputs": [
    {
     "name": "stdout",
     "output_type": "stream",
     "text": [
      "[1] \"1.17799999999988 segundos\"\n"
     ]
    }
   ],
   "source": [
    "tic.clearlog()\n",
    "for (x in 1:10) {\n",
    "    #passing x to tic() makes its value to become a label \n",
    "    #at time of the matching toc() call.\n",
    "    tic(x)\n",
    "    Sys.sleep(1)\n",
    "    optimx(par = punto_inicial, fn = rosenbrock, method = 'CG', itnmax = 1000)\n",
    "    #When log = TRUE, toc() pushes the measured timing to a list\n",
    "    #quiet = TRUE prevents from printing the timing\n",
    "    toc(log = TRUE, quiet = TRUE)\n",
    "}\n",
    "log_txt = tic.log(format = TRUE)\n",
    "log_lst = tic.log(format = FALSE)\n",
    "tic.clearlog()\n",
    "timings = unlist(lapply(log_lst, function(x) x$toc - x$tic)) ; print(paste(mean(timings), 'segundos'))"
   ]
  },
  {
   "cell_type": "markdown",
   "metadata": {},
   "source": [
    "### Método de Optimización Quasi Newton L-BFGS-B"
   ]
  },
  {
   "cell_type": "code",
   "execution_count": 245,
   "metadata": {},
   "outputs": [],
   "source": [
    "#Escoje el punto inicial y la dimension en la cual se va a realizar el problema\n",
    "dimension = 10\n",
    "punto_inicial = rep(100, dimension)"
   ]
  },
  {
   "cell_type": "code",
   "execution_count": 248,
   "metadata": {},
   "outputs": [
    {
     "data": {
      "text/plain": [
       "Time difference of 0.1073711 secs"
      ]
     },
     "metadata": {},
     "output_type": "display_data"
    }
   ],
   "source": [
    "#Realiza la optimizacion \n",
    "start_time = Sys.time()\n",
    "optimizacion = optimx(par = punto_inicial, fn = rosenbrock, method = 'L-BFGS-B' , itnmax = 1000)\n",
    "end_time = Sys.time()\n",
    "time_taken = end_time - start_time\n",
    "time_taken"
   ]
  },
  {
   "cell_type": "code",
   "execution_count": 249,
   "metadata": {},
   "outputs": [
    {
     "name": "stdout",
     "output_type": "stream",
     "text": [
      "                p1        p2        p3        p4        p5        p6        p7\n",
      "L-BFGS-B 0.9999957 0.9999961 0.9999955 0.9999975 0.9999922 0.9999808 0.9999545\n",
      "                p8        p9       p10        value fevals gevals niter\n",
      "L-BFGS-B 0.9999044 0.9998049 0.9996076 6.867061e-08    192    192    NA\n",
      "         convcode  kkt1 kkt2 xtime\n",
      "L-BFGS-B        0 FALSE TRUE 0.013\n"
     ]
    }
   ],
   "source": [
    "print(optimizacion)"
   ]
  },
  {
   "cell_type": "code",
   "execution_count": 152,
   "metadata": {},
   "outputs": [
    {
     "name": "stdout",
     "output_type": "stream",
     "text": [
      "[1] \"1.1393 segundos\"\n"
     ]
    }
   ],
   "source": [
    "tic.clearlog()\n",
    "for (x in 1:10) {\n",
    "    #passing x to tic() makes its value to become a label \n",
    "    #at time of the matching toc() call.\n",
    "    tic(x)\n",
    "    Sys.sleep(1)\n",
    "    optimx(par = punto_inicial, fn = rosenbrock, method = 'BFGS', itnmax = 1000)\n",
    "    #When log = TRUE, toc() pushes the measured timing to a list\n",
    "    #quiet = TRUE prevents from printing the timing\n",
    "    toc(log = TRUE, quiet = TRUE)\n",
    "}\n",
    "log_txt = tic.log(format = TRUE)\n",
    "log_lst = tic.log(format = FALSE)\n",
    "tic.clearlog()\n",
    "timings = unlist(lapply(log_lst, function(x) x$toc - x$tic)) ; print(paste(mean(timings), 'segundos'))"
   ]
  },
  {
   "cell_type": "markdown",
   "metadata": {},
   "source": [
    "### Método de Optimización de Recocido Simulado"
   ]
  },
  {
   "cell_type": "code",
   "execution_count": 198,
   "metadata": {},
   "outputs": [],
   "source": [
    "#Escoje el punto inicial y la dimension en la cual se va a realizar el problema\n",
    "dimension = 10\n",
    "punto_inicial = rep(5, dimension)"
   ]
  },
  {
   "cell_type": "code",
   "execution_count": 229,
   "metadata": {},
   "outputs": [
    {
     "data": {
      "text/plain": [
       "Time difference of 0.007691145 secs"
      ]
     },
     "metadata": {},
     "output_type": "display_data"
    }
   ],
   "source": [
    "#Realiza la optimizacion \n",
    "start_time = Sys.time()\n",
    "optimizacion = optim_sa(fun = rosenbrock, start = punto_inicial ,\n",
    "                        lower = rep(-7, dimension), upper = rep(7, dimension),\n",
    "                        control = list(dyn_rf = FALSE, rf = 1.6, t0 = 1000, nlimit = 1000, r = 0.5, t_min = 0.1),\n",
    "                        trace = TRUE)\n",
    "end_time = Sys.time()\n",
    "time_taken = end_time - start_time\n",
    "time_taken"
   ]
  },
  {
   "cell_type": "code",
   "execution_count": 230,
   "metadata": {},
   "outputs": [
    {
     "name": "stdout",
     "output_type": "stream",
     "text": [
      " [1]  0.60 -0.38  1.41  2.83  2.23  1.56  2.88 -0.27  4.09  5.04\n",
      "[1] 27441.97\n"
     ]
    }
   ],
   "source": [
    "print(optimizacion$par) ; print(optimizacion$function_value)"
   ]
  },
  {
   "cell_type": "code",
   "execution_count": 176,
   "metadata": {},
   "outputs": [
    {
     "name": "stdout",
     "output_type": "stream",
     "text": [
      "[1] \"1.0125 segundos\"\n"
     ]
    }
   ],
   "source": [
    "tic.clearlog()\n",
    "for (x in 1:10) {\n",
    "    #passing x to tic() makes its value to become a label \n",
    "    #at time of the matching toc() call.\n",
    "    tic(x)\n",
    "    Sys.sleep(1)\n",
    "    optim_sa(fun = rosenbrock, start = punto_inicial,\n",
    "            lower = rep(-10, dimension), upper = rep(10, dimension),\n",
    "            control = list(dyn_rf = FALSE,rf = 1.6,t0 = 10,nlimit = 200,r = 0.6,t_min = 0.1),\n",
    "            trace = TRUE)\n",
    "    #When log = TRUE, toc() pushes the measured timing to a list\n",
    "    #quiet = TRUE prevents from printing the timing\n",
    "    toc(log = TRUE, quiet = TRUE)\n",
    "}\n",
    "log_txt = tic.log(format = TRUE)\n",
    "log_lst = tic.log(format = FALSE)\n",
    "tic.clearlog()\n",
    "timings = unlist(lapply(log_lst, function(x) x$toc - x$tic)) ; print(paste(mean(timings), 'segundos'))"
   ]
  }
 ],
 "metadata": {
  "kernelspec": {
   "display_name": "R",
   "language": "R",
   "name": "ir"
  },
  "language_info": {
   "codemirror_mode": "r",
   "file_extension": ".r",
   "mimetype": "text/x-r-source",
   "name": "R",
   "pygments_lexer": "r",
   "version": "3.6.0"
  }
 },
 "nbformat": 4,
 "nbformat_minor": 2
}
