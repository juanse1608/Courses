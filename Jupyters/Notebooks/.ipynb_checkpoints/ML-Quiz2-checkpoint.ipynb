{
 "cells": [
  {
   "cell_type": "markdown",
   "metadata": {},
   "source": [
    "# Quiz 2\n",
    "## Machine Learning 2019-1"
   ]
  },
  {
   "cell_type": "markdown",
   "metadata": {},
   "source": [
    "A logistic regression model is a statistical classification method that uses a generalized linear regression model to estimate $P(C=1 | \\mathbf{x})$, the probability of the sample $\\mathbf{x}\\in\\mathbb{R}^2$ belonging to class $C_1$. \n",
    "\n",
    "\n",
    "$$y=P(C=1|\\mathbf{x},\\mathbf{w})=\\sigma(w_0+w_1x_0 + w_2x_1)$$\n",
    "where \n",
    "\n",
    "$$\\sigma(x)=\\frac{1}{1+e^{-x}}$$\n",
    "\n",
    "The following function implements a logistic regression classifier:"
   ]
  },
  {
   "cell_type": "code",
   "execution_count": 1,
   "metadata": {},
   "outputs": [
    {
     "name": "stdout",
     "output_type": "stream",
     "text": [
      "0.47502081252106\n"
     ]
    }
   ],
   "source": [
    "import numpy as np\n",
    "import scipy as sc\n",
    "\n",
    "def log_reg(w, x):\n",
    "    ''' \n",
    "     w: weight vector with shape (3,)\n",
    "     x: input sample with shape (2,)\n",
    "     returns: P(C=1|x,w)\n",
    "    '''\n",
    "    return  1 / (1 +  np.exp(-(x @ w[1:] + w[0])))\n",
    "\n",
    "x = np.array([2,3])\n",
    "w = np.array([-0.1,-3,2])\n",
    "\n",
    "print (log_reg(w,x))\n"
   ]
  },
  {
   "cell_type": "markdown",
   "metadata": {},
   "source": [
    "### 1. (2.0)\n",
    "Assume a cost matrix $L$ where $L_{i,j}$ is the cost of predicting class $C_j$ when the real class is $C_i$. Write a function that calculates the risk of classifying a sample $\\mathbf{x}$ in class $y \\in \\{0,1\\}$.\n"
   ]
  },
  {
   "cell_type": "code",
   "execution_count": 2,
   "metadata": {},
   "outputs": [
    {
     "name": "stdout",
     "output_type": "stream",
     "text": [
      "3.67485431235258\n",
      "3.56265609390795\n"
     ]
    }
   ],
   "source": [
    "def f_1(w, L, x, y):\n",
    "    ''' \n",
    "     w: weight vector with shape (3,)\n",
    "     L: loss matrix with shape (2,2)\n",
    "     x: input sample with shape (2,)\n",
    "     y: class value {0, 1}\n",
    "     returns: R(y|x,w)\n",
    "    '''\n",
    "    ### Your code here\n",
    "    prob = log_reg(w,x)\n",
    "    risk = L[0,y]*(1-prob) + L[1,y]*prob\n",
    "    return  risk\n",
    "\n",
    "x = np.array([2,3])\n",
    "w = np.array([0.1,-3,2])\n",
    "L = np.array([[0,7.5],[7, 0]])\n",
    "\n",
    "print (f_1(w, L, x, 0))\n",
    "print (f_1(w, L, x, 1))"
   ]
  },
  {
   "cell_type": "markdown",
   "metadata": {},
   "source": [
    "### 2. (1.5)\n",
    "Write a function that implements a classifier that makes the prediction that minimizes the risk."
   ]
  },
  {
   "cell_type": "code",
   "execution_count": 3,
   "metadata": {},
   "outputs": [
    {
     "name": "stdout",
     "output_type": "stream",
     "text": [
      "1\n"
     ]
    }
   ],
   "source": [
    "def f_2(w, L, x):\n",
    "    ''' \n",
    "     w: weight vector with shape (3,)\n",
    "     L: loss vector with shape (2, 2)\n",
    "     x: input sample with shape (2,)\n",
    "     returns: predicted class {0, 1} \n",
    "    '''\n",
    "    ### Your code here\n",
    "    class_0 = f_1(w, L, x, 0)\n",
    "    class_1 = f_1(w, L, x, 1)\n",
    "    vector = [class_0 , class_1]\n",
    "    return  np.argmin(vector)\n",
    "\n",
    "x = np.array([2,3])\n",
    "w = np.array([0.1,-3,2])\n",
    "L = np.array([[0,7.5],[7, 0]])\n",
    "\n",
    "print (f_2(w, L, x))"
   ]
  },
  {
   "cell_type": "markdown",
   "metadata": {},
   "source": [
    "### 3. (1.5)\n",
    "Write a function that implements a classifier that makes the prediction that minimizes the risk, but that can also reject the sample. The cost of rejection is $\\lambda$."
   ]
  },
  {
   "cell_type": "code",
   "execution_count": 4,
   "metadata": {},
   "outputs": [
    {
     "name": "stdout",
     "output_type": "stream",
     "text": [
      "1\n"
     ]
    }
   ],
   "source": [
    "def f_3(w, L, lamb, x):\n",
    "    ''' \n",
    "     w: weight vector with shape (3,)\n",
    "     L: loss vector with shape (3,)\n",
    "     x: input sample with shape (2,1)\n",
    "     lamb: a float, the cost of rejection\n",
    "     returns: predicted class {0, 1, 2}. Rejection is 2.\n",
    "    '''\n",
    "    class_returned = 2\n",
    "    class_0 = f_1(w, L, x, 0)\n",
    "    class_1 = f_1(w, L, x, 1)\n",
    "    vector = [class_0 , class_1]\n",
    "    arg_min = np.argmin(vector)\n",
    "    if  vector[arg_min] <= lamb: class_returned = arg_min\n",
    "    ### Your code here\n",
    "    return  class_returned\n",
    "\n",
    "x = np.array([2,3])\n",
    "w = np.array([0.1,-3,2])\n",
    "L = np.array([[0,7.5],[7, 0]])\n",
    "lamb = 8\n",
    "print (f_3(w, L, lamb, x))"
   ]
  },
  {
   "cell_type": "markdown",
   "metadata": {},
   "source": [
    "### Grader\n",
    "\n",
    "Run the following cell to grade your quiz."
   ]
  },
  {
   "cell_type": "code",
   "execution_count": 5,
   "metadata": {},
   "outputs": [
    {
     "name": "stdout",
     "output_type": "stream",
     "text": [
      "Score:  5.0 / 5.0\n"
     ]
    }
   ],
   "source": [
    "def compare(val1, val2, error):\n",
    "    if abs(val1 - val2) > error:\n",
    "        return False\n",
    "    return True\n",
    "\n",
    "lst = []\n",
    "for x1 in np.linspace(-2, 1.5, 4):\n",
    "    for x2 in np.linspace(-2, 1.5, 4):\n",
    "        lst.append([x1, x2])\n",
    "X = np.array(lst)\n",
    "\n",
    "W1 = np.array([0, 1, 2])\n",
    "L1 = np.array([[0.01, 2],[0.9, -0.05]]) \n",
    "Lamb1 = 0.3\n",
    "W2 = np.array([-0.3, 1, -0.5])\n",
    "R10= np.array([ 0.01220063,  0.03218274,  0.19566159,  0.66064213,  0.0170284 ,\n",
    "        0.07751378,  0.41800227,  0.80852222,  0.03218274,  0.19566159,\n",
    "        0.66064213,  0.86934378,  0.07751378,  0.41800227,  0.80852222,\n",
    "        0.89022162])\n",
    "R11= np.array([ 1.99493112,  1.94890493,  1.57235252,  0.50132991,  1.98381098,\n",
    "        1.84449073,  1.06021949,  0.16070725,  1.94890493,  1.57235252,\n",
    "        0.50132991,  0.02061265,  1.84449073,  1.06021949,  0.16070725,\n",
    "       -0.02747677])\n",
    "C1= np.array([ 0.,  0.,  0.,  1.,  0.,  0.,  0.,  1.,  0.,  0.,  1.,  1.,  0.,\n",
    "        0.,  1.,  1.])\n",
    "C2= np.array([ 0.,  0.,  0.,  2.,  0.,  0.,  2.,  1.,  0.,  0.,  2.,  1.,  0.,\n",
    "        2.,  1.,  1.])\n",
    "\n",
    "R10b= np.array([ 0.20060687,  0.12748576,  0.07962315,  0.05024355,  0.42537721,\n",
    "        0.30203341,  0.20060687,  0.12748576,  0.66642984,  0.55346892,\n",
    "        0.42537721,  0.30203341,  0.81122206,  0.75255807,  0.66642984,\n",
    "        0.55346892])\n",
    "R11b= np.array([ 1.56096172,  1.72938674,  1.83963207,  1.90730418,  1.04323228,\n",
    "        1.32733877,  1.56096172,  1.72938674,  0.48799868,  0.74818957,\n",
    "        1.04323228,  1.32733877,  0.1544885 ,  0.28961344,  0.48799868,\n",
    "        0.74818957])\n",
    "C1b= np.array([ 0.,  0.,  0.,  0.,  0.,  0.,  0.,  0.,  1.,  0.,  0.,  0.,  1.,\n",
    "        1.,  1.,  0.])\n",
    "C2b= np.array([ 0.,  0.,  0.,  0.,  2.,  2.,  0.,  0.,  2.,  2.,  2.,  2.,  1.,\n",
    "        1.,  2.,  2.])\n",
    "def test1():\n",
    "    for i in range(len(lst)):\n",
    "        if not compare(R10[i], f_1(W1, L1, X[i, :], 0), 0.0001):\n",
    "            return False\n",
    "        if not compare(R11[i], f_1(W1, L1, X[i, :], 1), 0.0001):\n",
    "            return False\n",
    "        if not compare(R10b[i], f_1(W2, L1, X[i, :], 0), 0.0001):\n",
    "            return False\n",
    "        if not compare(R11b[i], f_1(W2, L1, X[i, :], 1), 0.0001):\n",
    "            return False\n",
    "    return True\n",
    "\n",
    "def test2():\n",
    "    for i in range(len(lst)):\n",
    "        if not compare(C1[i], f_2(W1, L1, X[i, :]), 0.0001):\n",
    "            return False\n",
    "        if not compare(C1b[i], f_2(W2, L1, X[i, :]), 0.0001):\n",
    "            return False\n",
    "    return True\n",
    "\n",
    "def test3():\n",
    "    for i in range(len(lst)):\n",
    "        if not compare(C2[i], f_3(W1, L1, Lamb1, X[i, :]), 0.0001):\n",
    "            return False\n",
    "        if not compare(C2b[i], f_3(W2, L1, Lamb1, X[i, :]), 0.0001):\n",
    "            return False\n",
    "    return True\n",
    "\n",
    "def evaluate():\n",
    "    score = 0 \n",
    "    for grade, test in [(2, test1), (1.5, test2), (1.5, test3)]:\n",
    "        if test():\n",
    "            score += grade\n",
    "    return score\n",
    "\n",
    "print (\"Score: \", evaluate(), \"/ 5.0\")"
   ]
  }
 ],
 "metadata": {
  "kernelspec": {
   "display_name": "Python 3",
   "language": "python",
   "name": "python3"
  },
  "language_info": {
   "codemirror_mode": {
    "name": "ipython",
    "version": 3
   },
   "file_extension": ".py",
   "mimetype": "text/x-python",
   "name": "python",
   "nbconvert_exporter": "python",
   "pygments_lexer": "ipython3",
   "version": "3.7.3"
  }
 },
 "nbformat": 4,
 "nbformat_minor": 1
}
